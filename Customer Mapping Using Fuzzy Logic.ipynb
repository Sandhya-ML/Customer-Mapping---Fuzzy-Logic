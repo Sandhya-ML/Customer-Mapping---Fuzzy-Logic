{
 "cells": [
  {
   "cell_type": "code",
   "execution_count": 1,
   "metadata": {},
   "outputs": [],
   "source": [
    "# Supress Warnings\n",
    "import warnings\n",
    "warnings.filterwarnings('ignore')"
   ]
  },
  {
   "cell_type": "code",
   "execution_count": 2,
   "metadata": {},
   "outputs": [],
   "source": [
    "# Import Necessary Libraries\n",
    "import numpy as np\n",
    "import pandas as pd\n",
    "import recordlinkage"
   ]
  },
  {
   "cell_type": "code",
   "execution_count": 3,
   "metadata": {
    "scrolled": true
   },
   "outputs": [
    {
     "data": {
      "text/html": [
       "<div>\n",
       "<style scoped>\n",
       "    .dataframe tbody tr th:only-of-type {\n",
       "        vertical-align: middle;\n",
       "    }\n",
       "\n",
       "    .dataframe tbody tr th {\n",
       "        vertical-align: top;\n",
       "    }\n",
       "\n",
       "    .dataframe thead th {\n",
       "        text-align: right;\n",
       "    }\n",
       "</style>\n",
       "<table border=\"1\" class=\"dataframe\">\n",
       "  <thead>\n",
       "    <tr style=\"text-align: right;\">\n",
       "      <th></th>\n",
       "      <th>customer_id</th>\n",
       "      <th>customer_fiscal_start_date</th>\n",
       "      <th>customer_fiscal_start_year_month</th>\n",
       "      <th>customer_fiscal_start_year_quarter</th>\n",
       "      <th>customer_fiscal_start_month</th>\n",
       "      <th>customer_fiscal_start_quarter</th>\n",
       "      <th>customer_fiscal_start_year</th>\n",
       "      <th>customer_calendar_start_date</th>\n",
       "      <th>customer_calendar_start_year_month</th>\n",
       "      <th>customer_calendar_start_year_quarter</th>\n",
       "      <th>...</th>\n",
       "      <th>revenue_total_2020-12-01</th>\n",
       "      <th>revenue_total_2021-01-01</th>\n",
       "      <th>revenue_total_2021-02-01</th>\n",
       "      <th>revenue_total_2021-03-01</th>\n",
       "      <th>revenue_total_2021-04-01</th>\n",
       "      <th>revenue_total_2021-05-01</th>\n",
       "      <th>revenue_total_2021-06-01</th>\n",
       "      <th>revenue_total_2021-07-01</th>\n",
       "      <th>revenue_total_2021-08-01</th>\n",
       "      <th>revenue_total_2021-09-01</th>\n",
       "    </tr>\n",
       "  </thead>\n",
       "  <tbody>\n",
       "    <tr>\n",
       "      <th>0</th>\n",
       "      <td>4F6BFADE-3F05-456D-8BC9-B630282DAF4A</td>\n",
       "      <td>25-08-2016</td>\n",
       "      <td>2016-FM8</td>\n",
       "      <td>2016-FQ3</td>\n",
       "      <td>FM8</td>\n",
       "      <td>FQ3</td>\n",
       "      <td>FY2016</td>\n",
       "      <td>25-11-2015</td>\n",
       "      <td>2015-CM11</td>\n",
       "      <td>2015-CM4</td>\n",
       "      <td>...</td>\n",
       "      <td>4.643</td>\n",
       "      <td>3.621</td>\n",
       "      <td>3.488</td>\n",
       "      <td>3.375</td>\n",
       "      <td>3.354</td>\n",
       "      <td>4.569</td>\n",
       "      <td>4.515</td>\n",
       "      <td>4.577</td>\n",
       "      <td>4.543</td>\n",
       "      <td>4.456</td>\n",
       "    </tr>\n",
       "    <tr>\n",
       "      <th>1</th>\n",
       "      <td>0EA3FD69-9F1E-4E33-A9A4-CD3E53150323</td>\n",
       "      <td>17-09-2013</td>\n",
       "      <td>2013-FM9</td>\n",
       "      <td>2013-FQ3</td>\n",
       "      <td>FM9</td>\n",
       "      <td>FQ3</td>\n",
       "      <td>FY2013</td>\n",
       "      <td>17-12-2012</td>\n",
       "      <td>2012-CM12</td>\n",
       "      <td>2012-CM4</td>\n",
       "      <td>...</td>\n",
       "      <td>0.000</td>\n",
       "      <td>0.000</td>\n",
       "      <td>0.000</td>\n",
       "      <td>0.000</td>\n",
       "      <td>0.000</td>\n",
       "      <td>0.000</td>\n",
       "      <td>0.000</td>\n",
       "      <td>0.000</td>\n",
       "      <td>0.000</td>\n",
       "      <td>0.000</td>\n",
       "    </tr>\n",
       "    <tr>\n",
       "      <th>2</th>\n",
       "      <td>D3C1E848-4000-446D-8E1D-7DEAD13360ED</td>\n",
       "      <td>31-01-2016</td>\n",
       "      <td>2016-FM1</td>\n",
       "      <td>2016-FQ1</td>\n",
       "      <td>FM1</td>\n",
       "      <td>FQ1</td>\n",
       "      <td>FY2016</td>\n",
       "      <td>30-04-2015</td>\n",
       "      <td>2015-CM4</td>\n",
       "      <td>2015-CM2</td>\n",
       "      <td>...</td>\n",
       "      <td>0.000</td>\n",
       "      <td>0.000</td>\n",
       "      <td>0.000</td>\n",
       "      <td>0.000</td>\n",
       "      <td>0.000</td>\n",
       "      <td>0.000</td>\n",
       "      <td>0.000</td>\n",
       "      <td>0.000</td>\n",
       "      <td>0.000</td>\n",
       "      <td>0.000</td>\n",
       "    </tr>\n",
       "    <tr>\n",
       "      <th>3</th>\n",
       "      <td>B9B941F4-6AF9-4FAC-A307-0BB3DC960790</td>\n",
       "      <td>10-12-2014</td>\n",
       "      <td>2014-FM12</td>\n",
       "      <td>2014-FQ4</td>\n",
       "      <td>FM12</td>\n",
       "      <td>FQ4</td>\n",
       "      <td>FY2014</td>\n",
       "      <td>10-03-2014</td>\n",
       "      <td>2014-CM3</td>\n",
       "      <td>2014-CM1</td>\n",
       "      <td>...</td>\n",
       "      <td>978.778</td>\n",
       "      <td>1214.104</td>\n",
       "      <td>206.227</td>\n",
       "      <td>339.468</td>\n",
       "      <td>614.431</td>\n",
       "      <td>219.119</td>\n",
       "      <td>1093.995</td>\n",
       "      <td>377.737</td>\n",
       "      <td>1990.203</td>\n",
       "      <td>923.632</td>\n",
       "    </tr>\n",
       "    <tr>\n",
       "      <th>4</th>\n",
       "      <td>D58DBC13-8DD3-4B84-8A96-7EFF40C03175</td>\n",
       "      <td>04-01-2015</td>\n",
       "      <td>2015-FM1</td>\n",
       "      <td>2015-FQ1</td>\n",
       "      <td>FM1</td>\n",
       "      <td>FQ1</td>\n",
       "      <td>FY2015</td>\n",
       "      <td>04-04-2014</td>\n",
       "      <td>2014-CM4</td>\n",
       "      <td>2014-CM2</td>\n",
       "      <td>...</td>\n",
       "      <td>0.000</td>\n",
       "      <td>0.000</td>\n",
       "      <td>0.000</td>\n",
       "      <td>0.000</td>\n",
       "      <td>0.000</td>\n",
       "      <td>0.000</td>\n",
       "      <td>0.000</td>\n",
       "      <td>0.000</td>\n",
       "      <td>0.000</td>\n",
       "      <td>0.000</td>\n",
       "    </tr>\n",
       "  </tbody>\n",
       "</table>\n",
       "<p>5 rows × 200 columns</p>\n",
       "</div>"
      ],
      "text/plain": [
       "                            customer_id customer_fiscal_start_date  \\\n",
       "0  4F6BFADE-3F05-456D-8BC9-B630282DAF4A                 25-08-2016   \n",
       "1  0EA3FD69-9F1E-4E33-A9A4-CD3E53150323                 17-09-2013   \n",
       "2  D3C1E848-4000-446D-8E1D-7DEAD13360ED                 31-01-2016   \n",
       "3  B9B941F4-6AF9-4FAC-A307-0BB3DC960790                 10-12-2014   \n",
       "4  D58DBC13-8DD3-4B84-8A96-7EFF40C03175                 04-01-2015   \n",
       "\n",
       "  customer_fiscal_start_year_month customer_fiscal_start_year_quarter  \\\n",
       "0                         2016-FM8                           2016-FQ3   \n",
       "1                         2013-FM9                           2013-FQ3   \n",
       "2                         2016-FM1                           2016-FQ1   \n",
       "3                        2014-FM12                           2014-FQ4   \n",
       "4                         2015-FM1                           2015-FQ1   \n",
       "\n",
       "  customer_fiscal_start_month customer_fiscal_start_quarter  \\\n",
       "0                         FM8                           FQ3   \n",
       "1                         FM9                           FQ3   \n",
       "2                         FM1                           FQ1   \n",
       "3                        FM12                           FQ4   \n",
       "4                         FM1                           FQ1   \n",
       "\n",
       "  customer_fiscal_start_year customer_calendar_start_date  \\\n",
       "0                     FY2016                   25-11-2015   \n",
       "1                     FY2013                   17-12-2012   \n",
       "2                     FY2016                   30-04-2015   \n",
       "3                     FY2014                   10-03-2014   \n",
       "4                     FY2015                   04-04-2014   \n",
       "\n",
       "  customer_calendar_start_year_month customer_calendar_start_year_quarter  \\\n",
       "0                          2015-CM11                             2015-CM4   \n",
       "1                          2012-CM12                             2012-CM4   \n",
       "2                           2015-CM4                             2015-CM2   \n",
       "3                           2014-CM3                             2014-CM1   \n",
       "4                           2014-CM4                             2014-CM2   \n",
       "\n",
       "   ... revenue_total_2020-12-01 revenue_total_2021-01-01  \\\n",
       "0  ...                    4.643                    3.621   \n",
       "1  ...                    0.000                    0.000   \n",
       "2  ...                    0.000                    0.000   \n",
       "3  ...                  978.778                 1214.104   \n",
       "4  ...                    0.000                    0.000   \n",
       "\n",
       "  revenue_total_2021-02-01 revenue_total_2021-03-01 revenue_total_2021-04-01  \\\n",
       "0                    3.488                    3.375                    3.354   \n",
       "1                    0.000                    0.000                    0.000   \n",
       "2                    0.000                    0.000                    0.000   \n",
       "3                  206.227                  339.468                  614.431   \n",
       "4                    0.000                    0.000                    0.000   \n",
       "\n",
       "  revenue_total_2021-05-01 revenue_total_2021-06-01 revenue_total_2021-07-01  \\\n",
       "0                    4.569                    4.515                    4.577   \n",
       "1                    0.000                    0.000                    0.000   \n",
       "2                    0.000                    0.000                    0.000   \n",
       "3                  219.119                 1093.995                  377.737   \n",
       "4                    0.000                    0.000                    0.000   \n",
       "\n",
       "  revenue_total_2021-08-01 revenue_total_2021-09-01  \n",
       "0                    4.543                    4.456  \n",
       "1                    0.000                    0.000  \n",
       "2                    0.000                    0.000  \n",
       "3                 1990.203                  923.632  \n",
       "4                    0.000                    0.000  \n",
       "\n",
       "[5 rows x 200 columns]"
      ]
     },
     "execution_count": 3,
     "metadata": {},
     "output_type": "execute_result"
    }
   ],
   "source": [
    "# Read customer_pivot_monthly dataset\n",
    "customer_monthly_df = pd.read_csv('customer_pivot_monthly.csv')\n",
    "customer_monthly_df.head()"
   ]
  },
  {
   "cell_type": "code",
   "execution_count": 4,
   "metadata": {},
   "outputs": [
    {
     "data": {
      "text/plain": [
       "(340784, 200)"
      ]
     },
     "execution_count": 4,
     "metadata": {},
     "output_type": "execute_result"
    }
   ],
   "source": [
    "customer_monthly_df.shape"
   ]
  },
  {
   "cell_type": "markdown",
   "metadata": {},
   "source": [
    "The dataset consists of 340784 rows and 200 columns."
   ]
  },
  {
   "cell_type": "code",
   "execution_count": 5,
   "metadata": {},
   "outputs": [
    {
     "data": {
      "text/plain": [
       "340784"
      ]
     },
     "execution_count": 5,
     "metadata": {},
     "output_type": "execute_result"
    }
   ],
   "source": [
    "# Check unique customer_id\n",
    "customer_monthly_df['customer_id'].nunique()"
   ]
  },
  {
   "cell_type": "markdown",
   "metadata": {},
   "source": [
    "Customer monthly dataset consists of 340784 unique customer_id."
   ]
  },
  {
   "cell_type": "code",
   "execution_count": 6,
   "metadata": {},
   "outputs": [
    {
     "data": {
      "text/html": [
       "<div>\n",
       "<style scoped>\n",
       "    .dataframe tbody tr th:only-of-type {\n",
       "        vertical-align: middle;\n",
       "    }\n",
       "\n",
       "    .dataframe tbody tr th {\n",
       "        vertical-align: top;\n",
       "    }\n",
       "\n",
       "    .dataframe thead th {\n",
       "        text-align: right;\n",
       "    }\n",
       "</style>\n",
       "<table border=\"1\" class=\"dataframe\">\n",
       "  <thead>\n",
       "    <tr style=\"text-align: right;\">\n",
       "      <th></th>\n",
       "      <th>customer_id</th>\n",
       "      <th>customer_fiscal_start_date</th>\n",
       "      <th>customer_last_txn_fiscal_date</th>\n",
       "      <th>s_customer_region_grouped</th>\n",
       "    </tr>\n",
       "  </thead>\n",
       "  <tbody>\n",
       "    <tr>\n",
       "      <th>0</th>\n",
       "      <td>4F6BFADE-3F05-456D-8BC9-B630282DAF4A</td>\n",
       "      <td>25-08-2016</td>\n",
       "      <td>23-09-2021</td>\n",
       "      <td>UK</td>\n",
       "    </tr>\n",
       "    <tr>\n",
       "      <th>1</th>\n",
       "      <td>0EA3FD69-9F1E-4E33-A9A4-CD3E53150323</td>\n",
       "      <td>17-09-2013</td>\n",
       "      <td>07-01-2017</td>\n",
       "      <td>UK</td>\n",
       "    </tr>\n",
       "    <tr>\n",
       "      <th>2</th>\n",
       "      <td>D3C1E848-4000-446D-8E1D-7DEAD13360ED</td>\n",
       "      <td>31-01-2016</td>\n",
       "      <td>18-01-2018</td>\n",
       "      <td>ANZ</td>\n",
       "    </tr>\n",
       "    <tr>\n",
       "      <th>3</th>\n",
       "      <td>B9B941F4-6AF9-4FAC-A307-0BB3DC960790</td>\n",
       "      <td>10-12-2014</td>\n",
       "      <td>29-09-2021</td>\n",
       "      <td>ANZ</td>\n",
       "    </tr>\n",
       "    <tr>\n",
       "      <th>4</th>\n",
       "      <td>D58DBC13-8DD3-4B84-8A96-7EFF40C03175</td>\n",
       "      <td>04-01-2015</td>\n",
       "      <td>07-01-2018</td>\n",
       "      <td>ANZ</td>\n",
       "    </tr>\n",
       "  </tbody>\n",
       "</table>\n",
       "</div>"
      ],
      "text/plain": [
       "                            customer_id customer_fiscal_start_date  \\\n",
       "0  4F6BFADE-3F05-456D-8BC9-B630282DAF4A                 25-08-2016   \n",
       "1  0EA3FD69-9F1E-4E33-A9A4-CD3E53150323                 17-09-2013   \n",
       "2  D3C1E848-4000-446D-8E1D-7DEAD13360ED                 31-01-2016   \n",
       "3  B9B941F4-6AF9-4FAC-A307-0BB3DC960790                 10-12-2014   \n",
       "4  D58DBC13-8DD3-4B84-8A96-7EFF40C03175                 04-01-2015   \n",
       "\n",
       "  customer_last_txn_fiscal_date s_customer_region_grouped  \n",
       "0                    23-09-2021                        UK  \n",
       "1                    07-01-2017                        UK  \n",
       "2                    18-01-2018                       ANZ  \n",
       "3                    29-09-2021                       ANZ  \n",
       "4                    07-01-2018                       ANZ  "
      ]
     },
     "execution_count": 6,
     "metadata": {},
     "output_type": "execute_result"
    }
   ],
   "source": [
    "# Keep relevant columns in customer_df dataframe from customer_monthly_df\n",
    "customer_df = customer_monthly_df[['customer_id','customer_fiscal_start_date','customer_last_txn_fiscal_date',\n",
    "                                  's_customer_region_grouped']]\n",
    "customer_df.head()"
   ]
  },
  {
   "cell_type": "code",
   "execution_count": 7,
   "metadata": {},
   "outputs": [],
   "source": [
    "trans_loc = customer_monthly_df.columns.get_loc(customer_monthly_df.filter(regex='transaction_total').columns[-1])\n",
    "principal_loc = customer_monthly_df.columns.get_loc(customer_monthly_df.filter(regex='principal_total').columns[-1])\n",
    "revenue_loc = customer_monthly_df.columns.get_loc(customer_monthly_df.filter(regex='revenue_total').columns[-1])"
   ]
  },
  {
   "cell_type": "code",
   "execution_count": 8,
   "metadata": {},
   "outputs": [
    {
     "data": {
      "text/html": [
       "<div>\n",
       "<style scoped>\n",
       "    .dataframe tbody tr th:only-of-type {\n",
       "        vertical-align: middle;\n",
       "    }\n",
       "\n",
       "    .dataframe tbody tr th {\n",
       "        vertical-align: top;\n",
       "    }\n",
       "\n",
       "    .dataframe thead th {\n",
       "        text-align: right;\n",
       "    }\n",
       "</style>\n",
       "<table border=\"1\" class=\"dataframe\">\n",
       "  <thead>\n",
       "    <tr style=\"text-align: right;\">\n",
       "      <th></th>\n",
       "      <th>customer_id</th>\n",
       "      <th>customer_fiscal_start_date</th>\n",
       "      <th>customer_last_txn_fiscal_date</th>\n",
       "      <th>s_customer_region_grouped</th>\n",
       "      <th>L12M Transaction Count</th>\n",
       "      <th>L24M Transaction Count</th>\n",
       "      <th>L36M Transaction Count</th>\n",
       "      <th>L12M Principal</th>\n",
       "      <th>L24M Principal</th>\n",
       "      <th>L36M Principal</th>\n",
       "      <th>L12M Revenue</th>\n",
       "      <th>L24M Revenue</th>\n",
       "      <th>L36M Revenue</th>\n",
       "    </tr>\n",
       "  </thead>\n",
       "  <tbody>\n",
       "    <tr>\n",
       "      <th>0</th>\n",
       "      <td>4F6BFADE-3F05-456D-8BC9-B630282DAF4A</td>\n",
       "      <td>25-08-2016</td>\n",
       "      <td>23-09-2021</td>\n",
       "      <td>UK</td>\n",
       "      <td>11</td>\n",
       "      <td>22</td>\n",
       "      <td>33</td>\n",
       "      <td>2805.813</td>\n",
       "      <td>5.238281e+03</td>\n",
       "      <td>7.608446e+03</td>\n",
       "      <td>44.720</td>\n",
       "      <td>82.652</td>\n",
       "      <td>116.786</td>\n",
       "    </tr>\n",
       "    <tr>\n",
       "      <th>1</th>\n",
       "      <td>0EA3FD69-9F1E-4E33-A9A4-CD3E53150323</td>\n",
       "      <td>17-09-2013</td>\n",
       "      <td>07-01-2017</td>\n",
       "      <td>UK</td>\n",
       "      <td>0</td>\n",
       "      <td>0</td>\n",
       "      <td>0</td>\n",
       "      <td>0.000</td>\n",
       "      <td>0.000000e+00</td>\n",
       "      <td>0.000000e+00</td>\n",
       "      <td>0.000</td>\n",
       "      <td>0.000</td>\n",
       "      <td>0.000</td>\n",
       "    </tr>\n",
       "    <tr>\n",
       "      <th>2</th>\n",
       "      <td>D3C1E848-4000-446D-8E1D-7DEAD13360ED</td>\n",
       "      <td>31-01-2016</td>\n",
       "      <td>18-01-2018</td>\n",
       "      <td>ANZ</td>\n",
       "      <td>0</td>\n",
       "      <td>0</td>\n",
       "      <td>0</td>\n",
       "      <td>0.000</td>\n",
       "      <td>0.000000e+00</td>\n",
       "      <td>0.000000e+00</td>\n",
       "      <td>0.000</td>\n",
       "      <td>0.000</td>\n",
       "      <td>0.000</td>\n",
       "    </tr>\n",
       "    <tr>\n",
       "      <th>3</th>\n",
       "      <td>B9B941F4-6AF9-4FAC-A307-0BB3DC960790</td>\n",
       "      <td>10-12-2014</td>\n",
       "      <td>29-09-2021</td>\n",
       "      <td>ANZ</td>\n",
       "      <td>232</td>\n",
       "      <td>409</td>\n",
       "      <td>572</td>\n",
       "      <td>7585907.442</td>\n",
       "      <td>1.172172e+07</td>\n",
       "      <td>1.442004e+07</td>\n",
       "      <td>9323.508</td>\n",
       "      <td>14236.523</td>\n",
       "      <td>17191.043</td>\n",
       "    </tr>\n",
       "    <tr>\n",
       "      <th>4</th>\n",
       "      <td>D58DBC13-8DD3-4B84-8A96-7EFF40C03175</td>\n",
       "      <td>04-01-2015</td>\n",
       "      <td>07-01-2018</td>\n",
       "      <td>ANZ</td>\n",
       "      <td>0</td>\n",
       "      <td>0</td>\n",
       "      <td>0</td>\n",
       "      <td>0.000</td>\n",
       "      <td>0.000000e+00</td>\n",
       "      <td>0.000000e+00</td>\n",
       "      <td>0.000</td>\n",
       "      <td>0.000</td>\n",
       "      <td>0.000</td>\n",
       "    </tr>\n",
       "  </tbody>\n",
       "</table>\n",
       "</div>"
      ],
      "text/plain": [
       "                            customer_id customer_fiscal_start_date  \\\n",
       "0  4F6BFADE-3F05-456D-8BC9-B630282DAF4A                 25-08-2016   \n",
       "1  0EA3FD69-9F1E-4E33-A9A4-CD3E53150323                 17-09-2013   \n",
       "2  D3C1E848-4000-446D-8E1D-7DEAD13360ED                 31-01-2016   \n",
       "3  B9B941F4-6AF9-4FAC-A307-0BB3DC960790                 10-12-2014   \n",
       "4  D58DBC13-8DD3-4B84-8A96-7EFF40C03175                 04-01-2015   \n",
       "\n",
       "  customer_last_txn_fiscal_date s_customer_region_grouped  \\\n",
       "0                    23-09-2021                        UK   \n",
       "1                    07-01-2017                        UK   \n",
       "2                    18-01-2018                       ANZ   \n",
       "3                    29-09-2021                       ANZ   \n",
       "4                    07-01-2018                       ANZ   \n",
       "\n",
       "   L12M Transaction Count  L24M Transaction Count  L36M Transaction Count  \\\n",
       "0                      11                      22                      33   \n",
       "1                       0                       0                       0   \n",
       "2                       0                       0                       0   \n",
       "3                     232                     409                     572   \n",
       "4                       0                       0                       0   \n",
       "\n",
       "   L12M Principal  L24M Principal  L36M Principal  L12M Revenue  L24M Revenue  \\\n",
       "0        2805.813    5.238281e+03    7.608446e+03        44.720        82.652   \n",
       "1           0.000    0.000000e+00    0.000000e+00         0.000         0.000   \n",
       "2           0.000    0.000000e+00    0.000000e+00         0.000         0.000   \n",
       "3     7585907.442    1.172172e+07    1.442004e+07      9323.508     14236.523   \n",
       "4           0.000    0.000000e+00    0.000000e+00         0.000         0.000   \n",
       "\n",
       "   L36M Revenue  \n",
       "0       116.786  \n",
       "1         0.000  \n",
       "2         0.000  \n",
       "3     17191.043  \n",
       "4         0.000  "
      ]
     },
     "execution_count": 8,
     "metadata": {},
     "output_type": "execute_result"
    }
   ],
   "source": [
    "# Calculate last 12,24,36 months transaction count, principal and revenue\n",
    "customer_df['L12M Transaction Count'] = customer_monthly_df.iloc[:,trans_loc-11:trans_loc+1].sum(axis=1)\n",
    "customer_df['L24M Transaction Count'] = customer_monthly_df.iloc[:,trans_loc-23:trans_loc+1].sum(axis=1)\n",
    "customer_df['L36M Transaction Count'] = customer_monthly_df.iloc[:,trans_loc-35:trans_loc+1].sum(axis=1)\n",
    "\n",
    "customer_df['L12M Principal'] = customer_monthly_df.iloc[:,principal_loc-11:principal_loc+1].sum(axis=1)\n",
    "customer_df['L24M Principal'] = customer_monthly_df.iloc[:,principal_loc-23:principal_loc+1].sum(axis=1)\n",
    "customer_df['L36M Principal'] = customer_monthly_df.iloc[:,principal_loc-36:principal_loc+1].sum(axis=1)\n",
    "\n",
    "customer_df['L12M Revenue'] = customer_monthly_df.iloc[:,revenue_loc-11:revenue_loc+1].sum(axis=1)\n",
    "customer_df['L24M Revenue'] = customer_monthly_df.iloc[:,revenue_loc-23:revenue_loc+1].sum(axis=1)\n",
    "customer_df['L36M Revenue'] = customer_monthly_df.iloc[:,revenue_loc-36:revenue_loc+1].sum(axis=1)\n",
    "\n",
    "customer_df.head()"
   ]
  },
  {
   "cell_type": "code",
   "execution_count": 9,
   "metadata": {},
   "outputs": [
    {
     "data": {
      "text/plain": [
       "(340784, 13)"
      ]
     },
     "execution_count": 9,
     "metadata": {},
     "output_type": "execute_result"
    }
   ],
   "source": [
    "customer_df.shape"
   ]
  },
  {
   "cell_type": "code",
   "execution_count": 10,
   "metadata": {},
   "outputs": [],
   "source": [
    "# Read transaction_dataset\n",
    "xls = pd.ExcelFile('transaction_dataset_anonymised.xlsx')\n",
    "cust_forward_12m = pd.read_excel(xls,'customer_forward_12Months')\n",
    "cust_spot_12m = pd.read_excel(xls,'customer_spot_12Months')"
   ]
  },
  {
   "cell_type": "code",
   "execution_count": 11,
   "metadata": {},
   "outputs": [
    {
     "data": {
      "text/html": [
       "<div>\n",
       "<style scoped>\n",
       "    .dataframe tbody tr th:only-of-type {\n",
       "        vertical-align: middle;\n",
       "    }\n",
       "\n",
       "    .dataframe tbody tr th {\n",
       "        vertical-align: top;\n",
       "    }\n",
       "\n",
       "    .dataframe thead th {\n",
       "        text-align: right;\n",
       "    }\n",
       "</style>\n",
       "<table border=\"1\" class=\"dataframe\">\n",
       "  <thead>\n",
       "    <tr style=\"text-align: right;\">\n",
       "      <th></th>\n",
       "      <th>Customer_Entity_Type</th>\n",
       "      <th>Customer_Sub_Region</th>\n",
       "      <th>Unnamed: 3</th>\n",
       "      <th>Unnamed: 4</th>\n",
       "      <th>Unnamed: 5</th>\n",
       "      <th>Unnamed: 6</th>\n",
       "      <th>Unnamed: 7</th>\n",
       "      <th>Deal_Count</th>\n",
       "      <th>Deal_Turnover_AUD</th>\n",
       "      <th>Deal_Revenue_AUD</th>\n",
       "      <th>Unnamed: 11</th>\n",
       "      <th>Customer_Company_Name</th>\n",
       "    </tr>\n",
       "  </thead>\n",
       "  <tbody>\n",
       "    <tr>\n",
       "      <th>0</th>\n",
       "      <td>Private Company</td>\n",
       "      <td>ANZ</td>\n",
       "      <td>40934</td>\n",
       "      <td>44236</td>\n",
       "      <td>168</td>\n",
       "      <td>1.358079e+08</td>\n",
       "      <td>130910.280</td>\n",
       "      <td>168</td>\n",
       "      <td>1.358079e+08</td>\n",
       "      <td>130910.280</td>\n",
       "      <td>0</td>\n",
       "      <td>hiboNicapan(Jing)TradCodLt</td>\n",
       "    </tr>\n",
       "    <tr>\n",
       "      <th>1</th>\n",
       "      <td>Private Company</td>\n",
       "      <td>North America</td>\n",
       "      <td>42775</td>\n",
       "      <td>44216</td>\n",
       "      <td>14</td>\n",
       "      <td>4.847419e+07</td>\n",
       "      <td>39139.607</td>\n",
       "      <td>14</td>\n",
       "      <td>4.847419e+07</td>\n",
       "      <td>39139.607</td>\n",
       "      <td>0</td>\n",
       "      <td>xDiancePerformorthNLtd.</td>\n",
       "    </tr>\n",
       "    <tr>\n",
       "      <th>2</th>\n",
       "      <td>Private Company</td>\n",
       "      <td>North America</td>\n",
       "      <td>40729</td>\n",
       "      <td>44235</td>\n",
       "      <td>21</td>\n",
       "      <td>3.529216e+07</td>\n",
       "      <td>27061.061</td>\n",
       "      <td>21</td>\n",
       "      <td>3.529216e+07</td>\n",
       "      <td>27061.061</td>\n",
       "      <td>0</td>\n",
       "      <td>orthNicanAmerduceProyersBuitedLim</td>\n",
       "    </tr>\n",
       "    <tr>\n",
       "      <th>3</th>\n",
       "      <td>Private Company</td>\n",
       "      <td>Europe</td>\n",
       "      <td>40961</td>\n",
       "      <td>44231</td>\n",
       "      <td>20</td>\n",
       "      <td>3.411600e+07</td>\n",
       "      <td>79328.134</td>\n",
       "      <td>20</td>\n",
       "      <td>3.411600e+07</td>\n",
       "      <td>79328.134</td>\n",
       "      <td>0</td>\n",
       "      <td>DomuandsBritedLim</td>\n",
       "    </tr>\n",
       "    <tr>\n",
       "      <th>4</th>\n",
       "      <td>Private Company</td>\n",
       "      <td>Europe</td>\n",
       "      <td>43593</td>\n",
       "      <td>44235</td>\n",
       "      <td>41</td>\n",
       "      <td>3.257107e+07</td>\n",
       "      <td>128498.367</td>\n",
       "      <td>41</td>\n",
       "      <td>3.257107e+07</td>\n",
       "      <td>128498.367</td>\n",
       "      <td>0</td>\n",
       "      <td>FITsingLicen(uk)itedLim</td>\n",
       "    </tr>\n",
       "  </tbody>\n",
       "</table>\n",
       "</div>"
      ],
      "text/plain": [
       "  Customer_Entity_Type Customer_Sub_Region  Unnamed: 3  Unnamed: 4  \\\n",
       "0      Private Company                 ANZ       40934       44236   \n",
       "1      Private Company       North America       42775       44216   \n",
       "2      Private Company       North America       40729       44235   \n",
       "3      Private Company              Europe       40961       44231   \n",
       "4      Private Company              Europe       43593       44235   \n",
       "\n",
       "   Unnamed: 5    Unnamed: 6  Unnamed: 7  Deal_Count  Deal_Turnover_AUD  \\\n",
       "0         168  1.358079e+08  130910.280         168       1.358079e+08   \n",
       "1          14  4.847419e+07   39139.607          14       4.847419e+07   \n",
       "2          21  3.529216e+07   27061.061          21       3.529216e+07   \n",
       "3          20  3.411600e+07   79328.134          20       3.411600e+07   \n",
       "4          41  3.257107e+07  128498.367          41       3.257107e+07   \n",
       "\n",
       "   Deal_Revenue_AUD  Unnamed: 11              Customer_Company_Name  \n",
       "0        130910.280            0         hiboNicapan(Jing)TradCodLt  \n",
       "1         39139.607            0            xDiancePerformorthNLtd.  \n",
       "2         27061.061            0  orthNicanAmerduceProyersBuitedLim  \n",
       "3         79328.134            0                  DomuandsBritedLim  \n",
       "4        128498.367            0            FITsingLicen(uk)itedLim  "
      ]
     },
     "execution_count": 11,
     "metadata": {},
     "output_type": "execute_result"
    }
   ],
   "source": [
    "cust_forward_12m.head()"
   ]
  },
  {
   "cell_type": "code",
   "execution_count": 12,
   "metadata": {},
   "outputs": [
    {
     "data": {
      "text/html": [
       "<div>\n",
       "<style scoped>\n",
       "    .dataframe tbody tr th:only-of-type {\n",
       "        vertical-align: middle;\n",
       "    }\n",
       "\n",
       "    .dataframe tbody tr th {\n",
       "        vertical-align: top;\n",
       "    }\n",
       "\n",
       "    .dataframe thead th {\n",
       "        text-align: right;\n",
       "    }\n",
       "</style>\n",
       "<table border=\"1\" class=\"dataframe\">\n",
       "  <thead>\n",
       "    <tr style=\"text-align: right;\">\n",
       "      <th></th>\n",
       "      <th>Customer_Entity_Type</th>\n",
       "      <th>Customer_Sub_Region</th>\n",
       "      <th>Unnamed: 3</th>\n",
       "      <th>Unnamed: 4</th>\n",
       "      <th>Unnamed: 5</th>\n",
       "      <th>Unnamed: 6</th>\n",
       "      <th>Unnamed: 7</th>\n",
       "      <th>Deal_Count</th>\n",
       "      <th>Deal_Turnover_AUD</th>\n",
       "      <th>Deal_Revenue_AUD</th>\n",
       "      <th>Unnamed: 11</th>\n",
       "      <th>Customer_Company_Name</th>\n",
       "    </tr>\n",
       "  </thead>\n",
       "  <tbody>\n",
       "    <tr>\n",
       "      <th>0</th>\n",
       "      <td>Private Company</td>\n",
       "      <td>ANZ</td>\n",
       "      <td>43759</td>\n",
       "      <td>44236</td>\n",
       "      <td>445</td>\n",
       "      <td>2.064513e+08</td>\n",
       "      <td>156436.728</td>\n",
       "      <td>445</td>\n",
       "      <td>2.064513e+08</td>\n",
       "      <td>156436.728</td>\n",
       "      <td>0</td>\n",
       "      <td>rleyWirebaaliaAustryPtdLt</td>\n",
       "    </tr>\n",
       "    <tr>\n",
       "      <th>1</th>\n",
       "      <td>Private Company</td>\n",
       "      <td>ANZ</td>\n",
       "      <td>43913</td>\n",
       "      <td>44236</td>\n",
       "      <td>164</td>\n",
       "      <td>1.221593e+08</td>\n",
       "      <td>81462.146</td>\n",
       "      <td>164</td>\n",
       "      <td>1.221593e+08</td>\n",
       "      <td>81462.146</td>\n",
       "      <td>0</td>\n",
       "      <td>WNEMAIYPTDLT</td>\n",
       "    </tr>\n",
       "    <tr>\n",
       "      <th>2</th>\n",
       "      <td>Private Company</td>\n",
       "      <td>Asia</td>\n",
       "      <td>41962</td>\n",
       "      <td>44232</td>\n",
       "      <td>319</td>\n",
       "      <td>1.013317e+08</td>\n",
       "      <td>61143.446</td>\n",
       "      <td>319</td>\n",
       "      <td>1.013317e+08</td>\n",
       "      <td>61143.446</td>\n",
       "      <td>0</td>\n",
       "      <td>nhaoJuecomTelonalInternatiited(hk)lim</td>\n",
       "    </tr>\n",
       "    <tr>\n",
       "      <th>3</th>\n",
       "      <td>Private Company</td>\n",
       "      <td>Asia</td>\n",
       "      <td>41215</td>\n",
       "      <td>44236</td>\n",
       "      <td>782</td>\n",
       "      <td>8.364419e+07</td>\n",
       "      <td>56807.458</td>\n",
       "      <td>782</td>\n",
       "      <td>8.364419e+07</td>\n",
       "      <td>56807.458</td>\n",
       "      <td>0</td>\n",
       "      <td>BasedardStaningsHolditedLim</td>\n",
       "    </tr>\n",
       "    <tr>\n",
       "      <th>4</th>\n",
       "      <td>Private Company</td>\n",
       "      <td>Europe</td>\n",
       "      <td>44025</td>\n",
       "      <td>44222</td>\n",
       "      <td>17</td>\n",
       "      <td>6.155147e+07</td>\n",
       "      <td>152362.393</td>\n",
       "      <td>17</td>\n",
       "      <td>6.155147e+07</td>\n",
       "      <td>152362.393</td>\n",
       "      <td>0</td>\n",
       "      <td>ambiKicesServitedLim</td>\n",
       "    </tr>\n",
       "  </tbody>\n",
       "</table>\n",
       "</div>"
      ],
      "text/plain": [
       "  Customer_Entity_Type Customer_Sub_Region  Unnamed: 3  Unnamed: 4  \\\n",
       "0      Private Company                 ANZ       43759       44236   \n",
       "1      Private Company                 ANZ       43913       44236   \n",
       "2      Private Company                Asia       41962       44232   \n",
       "3      Private Company                Asia       41215       44236   \n",
       "4      Private Company              Europe       44025       44222   \n",
       "\n",
       "   Unnamed: 5    Unnamed: 6  Unnamed: 7  Deal_Count  Deal_Turnover_AUD  \\\n",
       "0         445  2.064513e+08  156436.728         445       2.064513e+08   \n",
       "1         164  1.221593e+08   81462.146         164       1.221593e+08   \n",
       "2         319  1.013317e+08   61143.446         319       1.013317e+08   \n",
       "3         782  8.364419e+07   56807.458         782       8.364419e+07   \n",
       "4          17  6.155147e+07  152362.393          17       6.155147e+07   \n",
       "\n",
       "   Deal_Revenue_AUD  Unnamed: 11                  Customer_Company_Name  \n",
       "0        156436.728            0              rleyWirebaaliaAustryPtdLt  \n",
       "1         81462.146            0                           WNEMAIYPTDLT  \n",
       "2         61143.446            0  nhaoJuecomTelonalInternatiited(hk)lim  \n",
       "3         56807.458            0            BasedardStaningsHolditedLim  \n",
       "4        152362.393            0                   ambiKicesServitedLim  "
      ]
     },
     "execution_count": 12,
     "metadata": {},
     "output_type": "execute_result"
    }
   ],
   "source": [
    "cust_spot_12m.head()"
   ]
  },
  {
   "cell_type": "code",
   "execution_count": 13,
   "metadata": {},
   "outputs": [
    {
     "data": {
      "text/plain": [
       "(890, 12)"
      ]
     },
     "execution_count": 13,
     "metadata": {},
     "output_type": "execute_result"
    }
   ],
   "source": [
    "cust_forward_12m.shape"
   ]
  },
  {
   "cell_type": "code",
   "execution_count": 14,
   "metadata": {},
   "outputs": [
    {
     "data": {
      "text/plain": [
       "Customer_Entity_Type     0\n",
       "Customer_Sub_Region      0\n",
       "Unnamed: 3               0\n",
       "Unnamed: 4               0\n",
       "Unnamed: 5               0\n",
       "Unnamed: 6               0\n",
       "Unnamed: 7               0\n",
       "Deal_Count               0\n",
       "Deal_Turnover_AUD        0\n",
       "Deal_Revenue_AUD         0\n",
       "Unnamed: 11              0\n",
       "Customer_Company_Name    0\n",
       "dtype: int64"
      ]
     },
     "execution_count": 14,
     "metadata": {},
     "output_type": "execute_result"
    }
   ],
   "source": [
    "cust_forward_12m.isnull().sum()"
   ]
  },
  {
   "cell_type": "code",
   "execution_count": 15,
   "metadata": {},
   "outputs": [
    {
     "data": {
      "text/plain": [
       "889"
      ]
     },
     "execution_count": 15,
     "metadata": {},
     "output_type": "execute_result"
    }
   ],
   "source": [
    "#Check for duplicate Customer_Company_Name\n",
    "cust_forward_12m['Customer_Company_Name'].nunique()"
   ]
  },
  {
   "cell_type": "markdown",
   "metadata": {},
   "source": [
    "customer_forward_12Months data contains 889 unique Customer_Company_Name."
   ]
  },
  {
   "cell_type": "code",
   "execution_count": 16,
   "metadata": {},
   "outputs": [],
   "source": [
    "#Find the duplicate Customer_Company_Name\n",
    "duplicate_company_name = cust_forward_12m[cust_forward_12m['Customer_Company_Name'].duplicated() == True]['Customer_Company_Name'].tolist()"
   ]
  },
  {
   "cell_type": "code",
   "execution_count": 17,
   "metadata": {},
   "outputs": [
    {
     "data": {
      "text/plain": [
       "(888, 12)"
      ]
     },
     "execution_count": 17,
     "metadata": {},
     "output_type": "execute_result"
    }
   ],
   "source": [
    "# Remove the rows having duplicate Customer_Company_Name\n",
    "cust_forward_12m = cust_forward_12m[~cust_forward_12m['Customer_Company_Name'].isin(duplicate_company_name)]\n",
    "cust_forward_12m.shape"
   ]
  },
  {
   "cell_type": "code",
   "execution_count": 18,
   "metadata": {},
   "outputs": [
    {
     "data": {
      "text/plain": [
       "(20506, 12)"
      ]
     },
     "execution_count": 18,
     "metadata": {},
     "output_type": "execute_result"
    }
   ],
   "source": [
    "cust_spot_12m.shape"
   ]
  },
  {
   "cell_type": "code",
   "execution_count": 19,
   "metadata": {},
   "outputs": [
    {
     "data": {
      "text/plain": [
       "Customer_Entity_Type     0\n",
       "Customer_Sub_Region      0\n",
       "Unnamed: 3               0\n",
       "Unnamed: 4               0\n",
       "Unnamed: 5               0\n",
       "Unnamed: 6               0\n",
       "Unnamed: 7               0\n",
       "Deal_Count               0\n",
       "Deal_Turnover_AUD        0\n",
       "Deal_Revenue_AUD         0\n",
       "Unnamed: 11              0\n",
       "Customer_Company_Name    1\n",
       "dtype: int64"
      ]
     },
     "execution_count": 19,
     "metadata": {},
     "output_type": "execute_result"
    }
   ],
   "source": [
    "cust_spot_12m.isnull().sum()"
   ]
  },
  {
   "cell_type": "code",
   "execution_count": 20,
   "metadata": {},
   "outputs": [
    {
     "data": {
      "text/plain": [
       "(20505, 12)"
      ]
     },
     "execution_count": 20,
     "metadata": {},
     "output_type": "execute_result"
    }
   ],
   "source": [
    "# Remove the rows having missing data in Customer_Company_Name\n",
    "cust_spot_12m = cust_spot_12m[cust_spot_12m['Customer_Company_Name'].isnull() == False]\n",
    "cust_spot_12m.shape"
   ]
  },
  {
   "cell_type": "code",
   "execution_count": 21,
   "metadata": {},
   "outputs": [
    {
     "data": {
      "text/plain": [
       "20488"
      ]
     },
     "execution_count": 21,
     "metadata": {},
     "output_type": "execute_result"
    }
   ],
   "source": [
    "#Check for duplicate Customer_Company_Name\n",
    "cust_spot_12m['Customer_Company_Name'].nunique()"
   ]
  },
  {
   "cell_type": "code",
   "execution_count": 22,
   "metadata": {},
   "outputs": [],
   "source": [
    "#Find the duplicate Customer_Company_Name\n",
    "duplicate_company_name = cust_spot_12m[cust_spot_12m['Customer_Company_Name'].duplicated() == True]['Customer_Company_Name'].tolist()"
   ]
  },
  {
   "cell_type": "code",
   "execution_count": 23,
   "metadata": {},
   "outputs": [
    {
     "data": {
      "text/plain": [
       "(20471, 12)"
      ]
     },
     "execution_count": 23,
     "metadata": {},
     "output_type": "execute_result"
    }
   ],
   "source": [
    "# Remove the rows having duplicate Customer_Company_Name\n",
    "cust_spot_12m = cust_spot_12m[~cust_spot_12m['Customer_Company_Name'].isin(duplicate_company_name)]\n",
    "cust_spot_12m.shape"
   ]
  },
  {
   "cell_type": "code",
   "execution_count": 24,
   "metadata": {},
   "outputs": [
    {
     "data": {
      "text/plain": [
       "(20529, 22)"
      ]
     },
     "execution_count": 24,
     "metadata": {},
     "output_type": "execute_result"
    }
   ],
   "source": [
    "df_12m = pd.merge(cust_forward_12m,cust_spot_12m,on=['Customer_Company_Name','Customer_Sub_Region'],how='outer')\n",
    "df_12m.shape"
   ]
  },
  {
   "cell_type": "code",
   "execution_count": 25,
   "metadata": {},
   "outputs": [
    {
     "data": {
      "text/html": [
       "<div>\n",
       "<style scoped>\n",
       "    .dataframe tbody tr th:only-of-type {\n",
       "        vertical-align: middle;\n",
       "    }\n",
       "\n",
       "    .dataframe tbody tr th {\n",
       "        vertical-align: top;\n",
       "    }\n",
       "\n",
       "    .dataframe thead th {\n",
       "        text-align: right;\n",
       "    }\n",
       "</style>\n",
       "<table border=\"1\" class=\"dataframe\">\n",
       "  <thead>\n",
       "    <tr style=\"text-align: right;\">\n",
       "      <th></th>\n",
       "      <th>Customer_Entity_Type_x</th>\n",
       "      <th>Customer_Sub_Region</th>\n",
       "      <th>Unnamed: 3_x</th>\n",
       "      <th>Unnamed: 4_x</th>\n",
       "      <th>Unnamed: 5_x</th>\n",
       "      <th>Unnamed: 6_x</th>\n",
       "      <th>Unnamed: 7_x</th>\n",
       "      <th>Deal_Count_x</th>\n",
       "      <th>Deal_Turnover_AUD_x</th>\n",
       "      <th>Deal_Revenue_AUD_x</th>\n",
       "      <th>...</th>\n",
       "      <th>Customer_Entity_Type_y</th>\n",
       "      <th>Unnamed: 3_y</th>\n",
       "      <th>Unnamed: 4_y</th>\n",
       "      <th>Unnamed: 5_y</th>\n",
       "      <th>Unnamed: 6_y</th>\n",
       "      <th>Unnamed: 7_y</th>\n",
       "      <th>Deal_Count_y</th>\n",
       "      <th>Deal_Turnover_AUD_y</th>\n",
       "      <th>Deal_Revenue_AUD_y</th>\n",
       "      <th>Unnamed: 11_y</th>\n",
       "    </tr>\n",
       "  </thead>\n",
       "  <tbody>\n",
       "    <tr>\n",
       "      <th>0</th>\n",
       "      <td>Private Company</td>\n",
       "      <td>ANZ</td>\n",
       "      <td>40934.0</td>\n",
       "      <td>44236.0</td>\n",
       "      <td>168.0</td>\n",
       "      <td>1.358079e+08</td>\n",
       "      <td>130910.280</td>\n",
       "      <td>168.0</td>\n",
       "      <td>1.358079e+08</td>\n",
       "      <td>130910.280</td>\n",
       "      <td>...</td>\n",
       "      <td>Private Company</td>\n",
       "      <td>40934.0</td>\n",
       "      <td>44236.0</td>\n",
       "      <td>3.0</td>\n",
       "      <td>6.917842e+06</td>\n",
       "      <td>4026.185</td>\n",
       "      <td>3.0</td>\n",
       "      <td>6.917842e+06</td>\n",
       "      <td>4026.185</td>\n",
       "      <td>0.0</td>\n",
       "    </tr>\n",
       "    <tr>\n",
       "      <th>1</th>\n",
       "      <td>Private Company</td>\n",
       "      <td>North America</td>\n",
       "      <td>42775.0</td>\n",
       "      <td>44216.0</td>\n",
       "      <td>14.0</td>\n",
       "      <td>4.847419e+07</td>\n",
       "      <td>39139.607</td>\n",
       "      <td>14.0</td>\n",
       "      <td>4.847419e+07</td>\n",
       "      <td>39139.607</td>\n",
       "      <td>...</td>\n",
       "      <td>Private Company</td>\n",
       "      <td>42775.0</td>\n",
       "      <td>44216.0</td>\n",
       "      <td>2.0</td>\n",
       "      <td>4.839953e+06</td>\n",
       "      <td>8482.412</td>\n",
       "      <td>2.0</td>\n",
       "      <td>4.839953e+06</td>\n",
       "      <td>8482.412</td>\n",
       "      <td>0.0</td>\n",
       "    </tr>\n",
       "    <tr>\n",
       "      <th>2</th>\n",
       "      <td>Private Company</td>\n",
       "      <td>North America</td>\n",
       "      <td>40729.0</td>\n",
       "      <td>44235.0</td>\n",
       "      <td>21.0</td>\n",
       "      <td>3.529216e+07</td>\n",
       "      <td>27061.061</td>\n",
       "      <td>21.0</td>\n",
       "      <td>3.529216e+07</td>\n",
       "      <td>27061.061</td>\n",
       "      <td>...</td>\n",
       "      <td>Private Company</td>\n",
       "      <td>40729.0</td>\n",
       "      <td>44235.0</td>\n",
       "      <td>9.0</td>\n",
       "      <td>1.664328e+07</td>\n",
       "      <td>12037.274</td>\n",
       "      <td>9.0</td>\n",
       "      <td>1.664328e+07</td>\n",
       "      <td>12037.274</td>\n",
       "      <td>0.0</td>\n",
       "    </tr>\n",
       "    <tr>\n",
       "      <th>3</th>\n",
       "      <td>Private Company</td>\n",
       "      <td>Europe</td>\n",
       "      <td>40961.0</td>\n",
       "      <td>44231.0</td>\n",
       "      <td>20.0</td>\n",
       "      <td>3.411600e+07</td>\n",
       "      <td>79328.134</td>\n",
       "      <td>20.0</td>\n",
       "      <td>3.411600e+07</td>\n",
       "      <td>79328.134</td>\n",
       "      <td>...</td>\n",
       "      <td>Private Company</td>\n",
       "      <td>40961.0</td>\n",
       "      <td>44231.0</td>\n",
       "      <td>63.0</td>\n",
       "      <td>4.418549e+07</td>\n",
       "      <td>47316.736</td>\n",
       "      <td>63.0</td>\n",
       "      <td>4.418549e+07</td>\n",
       "      <td>47316.736</td>\n",
       "      <td>0.0</td>\n",
       "    </tr>\n",
       "    <tr>\n",
       "      <th>4</th>\n",
       "      <td>Private Company</td>\n",
       "      <td>Europe</td>\n",
       "      <td>43593.0</td>\n",
       "      <td>44235.0</td>\n",
       "      <td>41.0</td>\n",
       "      <td>3.257107e+07</td>\n",
       "      <td>128498.367</td>\n",
       "      <td>41.0</td>\n",
       "      <td>3.257107e+07</td>\n",
       "      <td>128498.367</td>\n",
       "      <td>...</td>\n",
       "      <td>Private Company</td>\n",
       "      <td>43593.0</td>\n",
       "      <td>44235.0</td>\n",
       "      <td>1763.0</td>\n",
       "      <td>5.623181e+07</td>\n",
       "      <td>90829.708</td>\n",
       "      <td>1763.0</td>\n",
       "      <td>5.623181e+07</td>\n",
       "      <td>90829.708</td>\n",
       "      <td>0.0</td>\n",
       "    </tr>\n",
       "  </tbody>\n",
       "</table>\n",
       "<p>5 rows × 22 columns</p>\n",
       "</div>"
      ],
      "text/plain": [
       "  Customer_Entity_Type_x Customer_Sub_Region  Unnamed: 3_x  Unnamed: 4_x  \\\n",
       "0        Private Company                 ANZ       40934.0       44236.0   \n",
       "1        Private Company       North America       42775.0       44216.0   \n",
       "2        Private Company       North America       40729.0       44235.0   \n",
       "3        Private Company              Europe       40961.0       44231.0   \n",
       "4        Private Company              Europe       43593.0       44235.0   \n",
       "\n",
       "   Unnamed: 5_x  Unnamed: 6_x  Unnamed: 7_x  Deal_Count_x  \\\n",
       "0         168.0  1.358079e+08    130910.280         168.0   \n",
       "1          14.0  4.847419e+07     39139.607          14.0   \n",
       "2          21.0  3.529216e+07     27061.061          21.0   \n",
       "3          20.0  3.411600e+07     79328.134          20.0   \n",
       "4          41.0  3.257107e+07    128498.367          41.0   \n",
       "\n",
       "   Deal_Turnover_AUD_x  Deal_Revenue_AUD_x  ...  Customer_Entity_Type_y  \\\n",
       "0         1.358079e+08          130910.280  ...         Private Company   \n",
       "1         4.847419e+07           39139.607  ...         Private Company   \n",
       "2         3.529216e+07           27061.061  ...         Private Company   \n",
       "3         3.411600e+07           79328.134  ...         Private Company   \n",
       "4         3.257107e+07          128498.367  ...         Private Company   \n",
       "\n",
       "  Unnamed: 3_y Unnamed: 4_y  Unnamed: 5_y  Unnamed: 6_y  Unnamed: 7_y  \\\n",
       "0      40934.0      44236.0           3.0  6.917842e+06      4026.185   \n",
       "1      42775.0      44216.0           2.0  4.839953e+06      8482.412   \n",
       "2      40729.0      44235.0           9.0  1.664328e+07     12037.274   \n",
       "3      40961.0      44231.0          63.0  4.418549e+07     47316.736   \n",
       "4      43593.0      44235.0        1763.0  5.623181e+07     90829.708   \n",
       "\n",
       "   Deal_Count_y  Deal_Turnover_AUD_y  Deal_Revenue_AUD_y  Unnamed: 11_y  \n",
       "0           3.0         6.917842e+06            4026.185            0.0  \n",
       "1           2.0         4.839953e+06            8482.412            0.0  \n",
       "2           9.0         1.664328e+07           12037.274            0.0  \n",
       "3          63.0         4.418549e+07           47316.736            0.0  \n",
       "4        1763.0         5.623181e+07           90829.708            0.0  \n",
       "\n",
       "[5 rows x 22 columns]"
      ]
     },
     "execution_count": 25,
     "metadata": {},
     "output_type": "execute_result"
    }
   ],
   "source": [
    "df_12m.head()"
   ]
  },
  {
   "cell_type": "code",
   "execution_count": 26,
   "metadata": {},
   "outputs": [
    {
     "data": {
      "text/plain": [
       "20529"
      ]
     },
     "execution_count": 26,
     "metadata": {},
     "output_type": "execute_result"
    }
   ],
   "source": [
    "df_12m['Customer_Company_Name'].nunique()"
   ]
  },
  {
   "cell_type": "code",
   "execution_count": 27,
   "metadata": {},
   "outputs": [
    {
     "data": {
      "text/html": [
       "<div>\n",
       "<style scoped>\n",
       "    .dataframe tbody tr th:only-of-type {\n",
       "        vertical-align: middle;\n",
       "    }\n",
       "\n",
       "    .dataframe tbody tr th {\n",
       "        vertical-align: top;\n",
       "    }\n",
       "\n",
       "    .dataframe thead th {\n",
       "        text-align: right;\n",
       "    }\n",
       "</style>\n",
       "<table border=\"1\" class=\"dataframe\">\n",
       "  <thead>\n",
       "    <tr style=\"text-align: right;\">\n",
       "      <th></th>\n",
       "      <th>Customer_Entity_Type_x</th>\n",
       "      <th>Customer_Sub_Region</th>\n",
       "      <th>Unnamed: 3_x</th>\n",
       "      <th>Unnamed: 4_x</th>\n",
       "      <th>Unnamed: 5_x</th>\n",
       "      <th>Unnamed: 6_x</th>\n",
       "      <th>Unnamed: 7_x</th>\n",
       "      <th>Deal_Count_x</th>\n",
       "      <th>Deal_Turnover_AUD_x</th>\n",
       "      <th>Deal_Revenue_AUD_x</th>\n",
       "      <th>...</th>\n",
       "      <th>Unnamed: 5_y</th>\n",
       "      <th>Unnamed: 6_y</th>\n",
       "      <th>Unnamed: 7_y</th>\n",
       "      <th>Deal_Count_y</th>\n",
       "      <th>Deal_Turnover_AUD_y</th>\n",
       "      <th>Deal_Revenue_AUD_y</th>\n",
       "      <th>Unnamed: 11_y</th>\n",
       "      <th>L12M Transaction Count</th>\n",
       "      <th>L12M Principal</th>\n",
       "      <th>L12M Revenue</th>\n",
       "    </tr>\n",
       "  </thead>\n",
       "  <tbody>\n",
       "    <tr>\n",
       "      <th>0</th>\n",
       "      <td>Private Company</td>\n",
       "      <td>ANZ</td>\n",
       "      <td>40934.0</td>\n",
       "      <td>44236.0</td>\n",
       "      <td>168.0</td>\n",
       "      <td>1.358079e+08</td>\n",
       "      <td>130910.280</td>\n",
       "      <td>168.0</td>\n",
       "      <td>1.358079e+08</td>\n",
       "      <td>130910.280</td>\n",
       "      <td>...</td>\n",
       "      <td>3.0</td>\n",
       "      <td>6.917842e+06</td>\n",
       "      <td>4026.185</td>\n",
       "      <td>3.0</td>\n",
       "      <td>6.917842e+06</td>\n",
       "      <td>4026.185</td>\n",
       "      <td>0.0</td>\n",
       "      <td>171.0</td>\n",
       "      <td>1.427258e+08</td>\n",
       "      <td>134936.465</td>\n",
       "    </tr>\n",
       "    <tr>\n",
       "      <th>1</th>\n",
       "      <td>Private Company</td>\n",
       "      <td>North America</td>\n",
       "      <td>42775.0</td>\n",
       "      <td>44216.0</td>\n",
       "      <td>14.0</td>\n",
       "      <td>4.847419e+07</td>\n",
       "      <td>39139.607</td>\n",
       "      <td>14.0</td>\n",
       "      <td>4.847419e+07</td>\n",
       "      <td>39139.607</td>\n",
       "      <td>...</td>\n",
       "      <td>2.0</td>\n",
       "      <td>4.839953e+06</td>\n",
       "      <td>8482.412</td>\n",
       "      <td>2.0</td>\n",
       "      <td>4.839953e+06</td>\n",
       "      <td>8482.412</td>\n",
       "      <td>0.0</td>\n",
       "      <td>16.0</td>\n",
       "      <td>5.331415e+07</td>\n",
       "      <td>47622.019</td>\n",
       "    </tr>\n",
       "    <tr>\n",
       "      <th>2</th>\n",
       "      <td>Private Company</td>\n",
       "      <td>North America</td>\n",
       "      <td>40729.0</td>\n",
       "      <td>44235.0</td>\n",
       "      <td>21.0</td>\n",
       "      <td>3.529216e+07</td>\n",
       "      <td>27061.061</td>\n",
       "      <td>21.0</td>\n",
       "      <td>3.529216e+07</td>\n",
       "      <td>27061.061</td>\n",
       "      <td>...</td>\n",
       "      <td>9.0</td>\n",
       "      <td>1.664328e+07</td>\n",
       "      <td>12037.274</td>\n",
       "      <td>9.0</td>\n",
       "      <td>1.664328e+07</td>\n",
       "      <td>12037.274</td>\n",
       "      <td>0.0</td>\n",
       "      <td>30.0</td>\n",
       "      <td>5.193545e+07</td>\n",
       "      <td>39098.335</td>\n",
       "    </tr>\n",
       "    <tr>\n",
       "      <th>3</th>\n",
       "      <td>Private Company</td>\n",
       "      <td>Europe</td>\n",
       "      <td>40961.0</td>\n",
       "      <td>44231.0</td>\n",
       "      <td>20.0</td>\n",
       "      <td>3.411600e+07</td>\n",
       "      <td>79328.134</td>\n",
       "      <td>20.0</td>\n",
       "      <td>3.411600e+07</td>\n",
       "      <td>79328.134</td>\n",
       "      <td>...</td>\n",
       "      <td>63.0</td>\n",
       "      <td>4.418549e+07</td>\n",
       "      <td>47316.736</td>\n",
       "      <td>63.0</td>\n",
       "      <td>4.418549e+07</td>\n",
       "      <td>47316.736</td>\n",
       "      <td>0.0</td>\n",
       "      <td>83.0</td>\n",
       "      <td>7.830149e+07</td>\n",
       "      <td>126644.870</td>\n",
       "    </tr>\n",
       "    <tr>\n",
       "      <th>4</th>\n",
       "      <td>Private Company</td>\n",
       "      <td>Europe</td>\n",
       "      <td>43593.0</td>\n",
       "      <td>44235.0</td>\n",
       "      <td>41.0</td>\n",
       "      <td>3.257107e+07</td>\n",
       "      <td>128498.367</td>\n",
       "      <td>41.0</td>\n",
       "      <td>3.257107e+07</td>\n",
       "      <td>128498.367</td>\n",
       "      <td>...</td>\n",
       "      <td>1763.0</td>\n",
       "      <td>5.623181e+07</td>\n",
       "      <td>90829.708</td>\n",
       "      <td>1763.0</td>\n",
       "      <td>5.623181e+07</td>\n",
       "      <td>90829.708</td>\n",
       "      <td>0.0</td>\n",
       "      <td>1804.0</td>\n",
       "      <td>8.880289e+07</td>\n",
       "      <td>219328.075</td>\n",
       "    </tr>\n",
       "  </tbody>\n",
       "</table>\n",
       "<p>5 rows × 25 columns</p>\n",
       "</div>"
      ],
      "text/plain": [
       "  Customer_Entity_Type_x Customer_Sub_Region  Unnamed: 3_x  Unnamed: 4_x  \\\n",
       "0        Private Company                 ANZ       40934.0       44236.0   \n",
       "1        Private Company       North America       42775.0       44216.0   \n",
       "2        Private Company       North America       40729.0       44235.0   \n",
       "3        Private Company              Europe       40961.0       44231.0   \n",
       "4        Private Company              Europe       43593.0       44235.0   \n",
       "\n",
       "   Unnamed: 5_x  Unnamed: 6_x  Unnamed: 7_x  Deal_Count_x  \\\n",
       "0         168.0  1.358079e+08    130910.280         168.0   \n",
       "1          14.0  4.847419e+07     39139.607          14.0   \n",
       "2          21.0  3.529216e+07     27061.061          21.0   \n",
       "3          20.0  3.411600e+07     79328.134          20.0   \n",
       "4          41.0  3.257107e+07    128498.367          41.0   \n",
       "\n",
       "   Deal_Turnover_AUD_x  Deal_Revenue_AUD_x  ...  Unnamed: 5_y  Unnamed: 6_y  \\\n",
       "0         1.358079e+08          130910.280  ...           3.0  6.917842e+06   \n",
       "1         4.847419e+07           39139.607  ...           2.0  4.839953e+06   \n",
       "2         3.529216e+07           27061.061  ...           9.0  1.664328e+07   \n",
       "3         3.411600e+07           79328.134  ...          63.0  4.418549e+07   \n",
       "4         3.257107e+07          128498.367  ...        1763.0  5.623181e+07   \n",
       "\n",
       "  Unnamed: 7_y  Deal_Count_y  Deal_Turnover_AUD_y  Deal_Revenue_AUD_y  \\\n",
       "0     4026.185           3.0         6.917842e+06            4026.185   \n",
       "1     8482.412           2.0         4.839953e+06            8482.412   \n",
       "2    12037.274           9.0         1.664328e+07           12037.274   \n",
       "3    47316.736          63.0         4.418549e+07           47316.736   \n",
       "4    90829.708        1763.0         5.623181e+07           90829.708   \n",
       "\n",
       "   Unnamed: 11_y  L12M Transaction Count  L12M Principal  L12M Revenue  \n",
       "0            0.0                   171.0    1.427258e+08    134936.465  \n",
       "1            0.0                    16.0    5.331415e+07     47622.019  \n",
       "2            0.0                    30.0    5.193545e+07     39098.335  \n",
       "3            0.0                    83.0    7.830149e+07    126644.870  \n",
       "4            0.0                  1804.0    8.880289e+07    219328.075  \n",
       "\n",
       "[5 rows x 25 columns]"
      ]
     },
     "execution_count": 27,
     "metadata": {},
     "output_type": "execute_result"
    }
   ],
   "source": [
    "df_12m['L12M Transaction Count'] = df_12m['Deal_Count_x']+df_12m['Deal_Count_y']\n",
    "df_12m['L12M Principal'] = df_12m['Deal_Turnover_AUD_x']+df_12m['Deal_Turnover_AUD_y']\n",
    "df_12m['L12M Revenue'] = df_12m['Deal_Revenue_AUD_x']+df_12m['Deal_Revenue_AUD_y']\n",
    "df_12m.head()"
   ]
  },
  {
   "cell_type": "code",
   "execution_count": 28,
   "metadata": {},
   "outputs": [
    {
     "data": {
      "text/html": [
       "<div>\n",
       "<style scoped>\n",
       "    .dataframe tbody tr th:only-of-type {\n",
       "        vertical-align: middle;\n",
       "    }\n",
       "\n",
       "    .dataframe tbody tr th {\n",
       "        vertical-align: top;\n",
       "    }\n",
       "\n",
       "    .dataframe thead th {\n",
       "        text-align: right;\n",
       "    }\n",
       "</style>\n",
       "<table border=\"1\" class=\"dataframe\">\n",
       "  <thead>\n",
       "    <tr style=\"text-align: right;\">\n",
       "      <th></th>\n",
       "      <th>Customer_Company_Name</th>\n",
       "      <th>Customer_Sub_Region</th>\n",
       "      <th>L12M Transaction Count</th>\n",
       "      <th>L12M Principal</th>\n",
       "      <th>L12M Revenue</th>\n",
       "    </tr>\n",
       "  </thead>\n",
       "  <tbody>\n",
       "    <tr>\n",
       "      <th>0</th>\n",
       "      <td>hiboNicapan(Jing)TradCodLt</td>\n",
       "      <td>ANZ</td>\n",
       "      <td>171.0</td>\n",
       "      <td>1.427258e+08</td>\n",
       "      <td>134936.465</td>\n",
       "    </tr>\n",
       "    <tr>\n",
       "      <th>1</th>\n",
       "      <td>xDiancePerformorthNLtd.</td>\n",
       "      <td>North America</td>\n",
       "      <td>16.0</td>\n",
       "      <td>5.331415e+07</td>\n",
       "      <td>47622.019</td>\n",
       "    </tr>\n",
       "    <tr>\n",
       "      <th>2</th>\n",
       "      <td>orthNicanAmerduceProyersBuitedLim</td>\n",
       "      <td>North America</td>\n",
       "      <td>30.0</td>\n",
       "      <td>5.193545e+07</td>\n",
       "      <td>39098.335</td>\n",
       "    </tr>\n",
       "    <tr>\n",
       "      <th>3</th>\n",
       "      <td>DomuandsBritedLim</td>\n",
       "      <td>Europe</td>\n",
       "      <td>83.0</td>\n",
       "      <td>7.830149e+07</td>\n",
       "      <td>126644.870</td>\n",
       "    </tr>\n",
       "    <tr>\n",
       "      <th>4</th>\n",
       "      <td>FITsingLicen(uk)itedLim</td>\n",
       "      <td>Europe</td>\n",
       "      <td>1804.0</td>\n",
       "      <td>8.880289e+07</td>\n",
       "      <td>219328.075</td>\n",
       "    </tr>\n",
       "  </tbody>\n",
       "</table>\n",
       "</div>"
      ],
      "text/plain": [
       "               Customer_Company_Name Customer_Sub_Region  \\\n",
       "0         hiboNicapan(Jing)TradCodLt                 ANZ   \n",
       "1            xDiancePerformorthNLtd.       North America   \n",
       "2  orthNicanAmerduceProyersBuitedLim       North America   \n",
       "3                  DomuandsBritedLim              Europe   \n",
       "4            FITsingLicen(uk)itedLim              Europe   \n",
       "\n",
       "   L12M Transaction Count  L12M Principal  L12M Revenue  \n",
       "0                   171.0    1.427258e+08    134936.465  \n",
       "1                    16.0    5.331415e+07     47622.019  \n",
       "2                    30.0    5.193545e+07     39098.335  \n",
       "3                    83.0    7.830149e+07    126644.870  \n",
       "4                  1804.0    8.880289e+07    219328.075  "
      ]
     },
     "execution_count": 28,
     "metadata": {},
     "output_type": "execute_result"
    }
   ],
   "source": [
    "df_12m = df_12m[['Customer_Company_Name','Customer_Sub_Region','L12M Transaction Count','L12M Principal', 'L12M Revenue']]\n",
    "df_12m.head()"
   ]
  },
  {
   "cell_type": "code",
   "execution_count": 29,
   "metadata": {},
   "outputs": [],
   "source": [
    "cust_forward_24m = pd.read_excel(xls,'customer_forward_24Months')\n",
    "cust_spot_24m = pd.read_excel(xls,'customer_spot_24Months')"
   ]
  },
  {
   "cell_type": "code",
   "execution_count": 30,
   "metadata": {},
   "outputs": [
    {
     "data": {
      "text/plain": [
       "(25718, 6)"
      ]
     },
     "execution_count": 30,
     "metadata": {},
     "output_type": "execute_result"
    }
   ],
   "source": [
    "cust_forward_24m.shape"
   ]
  },
  {
   "cell_type": "code",
   "execution_count": 31,
   "metadata": {},
   "outputs": [
    {
     "data": {
      "text/plain": [
       "Customer_Entity_Type     0\n",
       "Customer_Sub_Region      0\n",
       "Deal_Count               0\n",
       "Deal_Turnover_AUD        0\n",
       "Deal_Revenue_AUD         0\n",
       "Customer_Company_Name    1\n",
       "dtype: int64"
      ]
     },
     "execution_count": 31,
     "metadata": {},
     "output_type": "execute_result"
    }
   ],
   "source": [
    "cust_forward_24m.isnull().sum()"
   ]
  },
  {
   "cell_type": "code",
   "execution_count": 32,
   "metadata": {},
   "outputs": [
    {
     "data": {
      "text/plain": [
       "(25717, 6)"
      ]
     },
     "execution_count": 32,
     "metadata": {},
     "output_type": "execute_result"
    }
   ],
   "source": [
    "# Remove the rows having missing data in Customer_Company_Name\n",
    "cust_forward_24m = cust_forward_24m[cust_forward_24m['Customer_Company_Name'].isnull() == False]\n",
    "cust_forward_24m.shape"
   ]
  },
  {
   "cell_type": "code",
   "execution_count": 33,
   "metadata": {},
   "outputs": [
    {
     "data": {
      "text/plain": [
       "25715"
      ]
     },
     "execution_count": 33,
     "metadata": {},
     "output_type": "execute_result"
    }
   ],
   "source": [
    "#Check for duplicate Customer_Company_Name\n",
    "cust_forward_24m['Customer_Company_Name'].nunique()"
   ]
  },
  {
   "cell_type": "code",
   "execution_count": 34,
   "metadata": {},
   "outputs": [],
   "source": [
    "#Find the duplicate Customer_Company_Name\n",
    "duplicate_company_name = cust_forward_24m[cust_forward_24m['Customer_Company_Name'].duplicated() == True]['Customer_Company_Name'].tolist()"
   ]
  },
  {
   "cell_type": "code",
   "execution_count": 35,
   "metadata": {},
   "outputs": [
    {
     "data": {
      "text/plain": [
       "(25713, 6)"
      ]
     },
     "execution_count": 35,
     "metadata": {},
     "output_type": "execute_result"
    }
   ],
   "source": [
    "# Remove the rows having duplicate Customer_Company_Name\n",
    "cust_forward_24m = cust_forward_24m[~cust_forward_24m['Customer_Company_Name'].isin(duplicate_company_name)]\n",
    "cust_forward_24m.shape"
   ]
  },
  {
   "cell_type": "code",
   "execution_count": 36,
   "metadata": {},
   "outputs": [
    {
     "data": {
      "text/html": [
       "<div>\n",
       "<style scoped>\n",
       "    .dataframe tbody tr th:only-of-type {\n",
       "        vertical-align: middle;\n",
       "    }\n",
       "\n",
       "    .dataframe tbody tr th {\n",
       "        vertical-align: top;\n",
       "    }\n",
       "\n",
       "    .dataframe thead th {\n",
       "        text-align: right;\n",
       "    }\n",
       "</style>\n",
       "<table border=\"1\" class=\"dataframe\">\n",
       "  <thead>\n",
       "    <tr style=\"text-align: right;\">\n",
       "      <th></th>\n",
       "      <th>Customer_Entity_Type</th>\n",
       "      <th>Customer_Sub_Region</th>\n",
       "      <th>Deal_Count</th>\n",
       "      <th>Deal_Turnover_AUD</th>\n",
       "      <th>Deal_Revenue_AUD</th>\n",
       "      <th>Customer_Company_Name</th>\n",
       "    </tr>\n",
       "  </thead>\n",
       "  <tbody>\n",
       "    <tr>\n",
       "      <th>0</th>\n",
       "      <td>Private Company</td>\n",
       "      <td>ANZ</td>\n",
       "      <td>384</td>\n",
       "      <td>2.804268e+08</td>\n",
       "      <td>283308.528</td>\n",
       "      <td>hiboNicapan(Jing)TradCodLt</td>\n",
       "    </tr>\n",
       "    <tr>\n",
       "      <th>1</th>\n",
       "      <td>Private Company</td>\n",
       "      <td>ANZ</td>\n",
       "      <td>504</td>\n",
       "      <td>2.160684e+08</td>\n",
       "      <td>163686.518</td>\n",
       "      <td>rleyWirebaaliaAustryPtdLt</td>\n",
       "    </tr>\n",
       "    <tr>\n",
       "      <th>2</th>\n",
       "      <td>Private Company</td>\n",
       "      <td>Europe</td>\n",
       "      <td>4073</td>\n",
       "      <td>1.977646e+08</td>\n",
       "      <td>555993.792</td>\n",
       "      <td>FITsingLicen(uk)itedLim</td>\n",
       "    </tr>\n",
       "    <tr>\n",
       "      <th>3</th>\n",
       "      <td>Private Company</td>\n",
       "      <td>Asia</td>\n",
       "      <td>544</td>\n",
       "      <td>1.734044e+08</td>\n",
       "      <td>97055.024</td>\n",
       "      <td>nhaoJuecomTelonalInternatiited(hk)lim</td>\n",
       "    </tr>\n",
       "    <tr>\n",
       "      <th>4</th>\n",
       "      <td>Private Company</td>\n",
       "      <td>Asia</td>\n",
       "      <td>1688</td>\n",
       "      <td>1.728246e+08</td>\n",
       "      <td>166972.558</td>\n",
       "      <td>BasedardStaningsHolditedLim</td>\n",
       "    </tr>\n",
       "  </tbody>\n",
       "</table>\n",
       "</div>"
      ],
      "text/plain": [
       "  Customer_Entity_Type Customer_Sub_Region  Deal_Count  Deal_Turnover_AUD  \\\n",
       "0      Private Company                 ANZ         384       2.804268e+08   \n",
       "1      Private Company                 ANZ         504       2.160684e+08   \n",
       "2      Private Company              Europe        4073       1.977646e+08   \n",
       "3      Private Company                Asia         544       1.734044e+08   \n",
       "4      Private Company                Asia        1688       1.728246e+08   \n",
       "\n",
       "   Deal_Revenue_AUD                  Customer_Company_Name  \n",
       "0        283308.528             hiboNicapan(Jing)TradCodLt  \n",
       "1        163686.518              rleyWirebaaliaAustryPtdLt  \n",
       "2        555993.792                FITsingLicen(uk)itedLim  \n",
       "3         97055.024  nhaoJuecomTelonalInternatiited(hk)lim  \n",
       "4        166972.558            BasedardStaningsHolditedLim  "
      ]
     },
     "execution_count": 36,
     "metadata": {},
     "output_type": "execute_result"
    }
   ],
   "source": [
    "cust_forward_24m.head()"
   ]
  },
  {
   "cell_type": "code",
   "execution_count": 37,
   "metadata": {},
   "outputs": [],
   "source": [
    "cust_forward_24m.rename(columns = {'Deal_Count' : 'L24M Transaction Count', 'Deal_Turnover_AUD' : 'L24M Principal',\n",
    "                                   'Deal_Revenue_AUD' : 'L24M Revenue'}, inplace = True)"
   ]
  },
  {
   "cell_type": "code",
   "execution_count": 38,
   "metadata": {},
   "outputs": [
    {
     "data": {
      "text/html": [
       "<div>\n",
       "<style scoped>\n",
       "    .dataframe tbody tr th:only-of-type {\n",
       "        vertical-align: middle;\n",
       "    }\n",
       "\n",
       "    .dataframe tbody tr th {\n",
       "        vertical-align: top;\n",
       "    }\n",
       "\n",
       "    .dataframe thead th {\n",
       "        text-align: right;\n",
       "    }\n",
       "</style>\n",
       "<table border=\"1\" class=\"dataframe\">\n",
       "  <thead>\n",
       "    <tr style=\"text-align: right;\">\n",
       "      <th></th>\n",
       "      <th>Customer_Company_Name</th>\n",
       "      <th>Customer_Sub_Region</th>\n",
       "      <th>L24M Transaction Count</th>\n",
       "      <th>L24M Principal</th>\n",
       "      <th>L24M Revenue</th>\n",
       "    </tr>\n",
       "  </thead>\n",
       "  <tbody>\n",
       "    <tr>\n",
       "      <th>0</th>\n",
       "      <td>hiboNicapan(Jing)TradCodLt</td>\n",
       "      <td>ANZ</td>\n",
       "      <td>384</td>\n",
       "      <td>2.804268e+08</td>\n",
       "      <td>283308.528</td>\n",
       "    </tr>\n",
       "    <tr>\n",
       "      <th>1</th>\n",
       "      <td>rleyWirebaaliaAustryPtdLt</td>\n",
       "      <td>ANZ</td>\n",
       "      <td>504</td>\n",
       "      <td>2.160684e+08</td>\n",
       "      <td>163686.518</td>\n",
       "    </tr>\n",
       "    <tr>\n",
       "      <th>2</th>\n",
       "      <td>FITsingLicen(uk)itedLim</td>\n",
       "      <td>Europe</td>\n",
       "      <td>4073</td>\n",
       "      <td>1.977646e+08</td>\n",
       "      <td>555993.792</td>\n",
       "    </tr>\n",
       "    <tr>\n",
       "      <th>3</th>\n",
       "      <td>nhaoJuecomTelonalInternatiited(hk)lim</td>\n",
       "      <td>Asia</td>\n",
       "      <td>544</td>\n",
       "      <td>1.734044e+08</td>\n",
       "      <td>97055.024</td>\n",
       "    </tr>\n",
       "    <tr>\n",
       "      <th>4</th>\n",
       "      <td>BasedardStaningsHolditedLim</td>\n",
       "      <td>Asia</td>\n",
       "      <td>1688</td>\n",
       "      <td>1.728246e+08</td>\n",
       "      <td>166972.558</td>\n",
       "    </tr>\n",
       "  </tbody>\n",
       "</table>\n",
       "</div>"
      ],
      "text/plain": [
       "                   Customer_Company_Name Customer_Sub_Region  \\\n",
       "0             hiboNicapan(Jing)TradCodLt                 ANZ   \n",
       "1              rleyWirebaaliaAustryPtdLt                 ANZ   \n",
       "2                FITsingLicen(uk)itedLim              Europe   \n",
       "3  nhaoJuecomTelonalInternatiited(hk)lim                Asia   \n",
       "4            BasedardStaningsHolditedLim                Asia   \n",
       "\n",
       "   L24M Transaction Count  L24M Principal  L24M Revenue  \n",
       "0                     384    2.804268e+08    283308.528  \n",
       "1                     504    2.160684e+08    163686.518  \n",
       "2                    4073    1.977646e+08    555993.792  \n",
       "3                     544    1.734044e+08     97055.024  \n",
       "4                    1688    1.728246e+08    166972.558  "
      ]
     },
     "execution_count": 38,
     "metadata": {},
     "output_type": "execute_result"
    }
   ],
   "source": [
    "cust_forward_24m = cust_forward_24m[['Customer_Company_Name','Customer_Sub_Region','L24M Transaction Count','L24M Principal','L24M Revenue']]\n",
    "cust_forward_24m.head()"
   ]
  },
  {
   "cell_type": "code",
   "execution_count": 39,
   "metadata": {},
   "outputs": [],
   "source": [
    "cust_forward_36m = pd.read_excel(xls,'customer_forward_36Months')\n",
    "cust_spot_36m = pd.read_excel(xls,'customer_spot_36Months')"
   ]
  },
  {
   "cell_type": "code",
   "execution_count": 40,
   "metadata": {},
   "outputs": [
    {
     "data": {
      "text/plain": [
       "(29862, 6)"
      ]
     },
     "execution_count": 40,
     "metadata": {},
     "output_type": "execute_result"
    }
   ],
   "source": [
    "cust_forward_36m.shape"
   ]
  },
  {
   "cell_type": "code",
   "execution_count": 41,
   "metadata": {},
   "outputs": [
    {
     "data": {
      "text/plain": [
       "Customer_Entity_Type     0\n",
       "Customer_Sub_Region      0\n",
       "Deal_Count               0\n",
       "Deal_Turnover_AUD        0\n",
       "Deal_Revenue_AUD         0\n",
       "Customer_Company_Name    1\n",
       "dtype: int64"
      ]
     },
     "execution_count": 41,
     "metadata": {},
     "output_type": "execute_result"
    }
   ],
   "source": [
    "cust_forward_36m.isnull().sum()"
   ]
  },
  {
   "cell_type": "code",
   "execution_count": 42,
   "metadata": {},
   "outputs": [
    {
     "data": {
      "text/plain": [
       "(29861, 6)"
      ]
     },
     "execution_count": 42,
     "metadata": {},
     "output_type": "execute_result"
    }
   ],
   "source": [
    "# Remove the rows having missing data in Customer_Company_Name\n",
    "cust_forward_36m = cust_forward_36m[cust_forward_36m['Customer_Company_Name'].isnull() == False]\n",
    "cust_forward_36m.shape"
   ]
  },
  {
   "cell_type": "code",
   "execution_count": 43,
   "metadata": {},
   "outputs": [
    {
     "data": {
      "text/plain": [
       "29855"
      ]
     },
     "execution_count": 43,
     "metadata": {},
     "output_type": "execute_result"
    }
   ],
   "source": [
    "#Check for duplicate Customer_Company_Name\n",
    "cust_forward_36m['Customer_Company_Name'].nunique()"
   ]
  },
  {
   "cell_type": "code",
   "execution_count": 44,
   "metadata": {},
   "outputs": [],
   "source": [
    "#Find the duplicate Customer_Company_Name\n",
    "duplicate_company_name = cust_forward_36m[cust_forward_36m['Customer_Company_Name'].duplicated() == True]['Customer_Company_Name'].tolist()"
   ]
  },
  {
   "cell_type": "code",
   "execution_count": 45,
   "metadata": {},
   "outputs": [
    {
     "data": {
      "text/plain": [
       "(29849, 6)"
      ]
     },
     "execution_count": 45,
     "metadata": {},
     "output_type": "execute_result"
    }
   ],
   "source": [
    "# Remove the rows having duplicate Customer_Company_Name\n",
    "cust_forward_36m = cust_forward_36m[~cust_forward_36m['Customer_Company_Name'].isin(duplicate_company_name)]\n",
    "cust_forward_36m.shape"
   ]
  },
  {
   "cell_type": "code",
   "execution_count": 46,
   "metadata": {},
   "outputs": [],
   "source": [
    "cust_forward_36m.rename(columns = {'Deal_Count' : 'L36M Transaction Count', 'Deal_Turnover_AUD' : 'L36M Principal',\n",
    "                                   'Deal_Revenue_AUD' : 'L36M Revenue'}, inplace = True)"
   ]
  },
  {
   "cell_type": "code",
   "execution_count": 47,
   "metadata": {},
   "outputs": [
    {
     "data": {
      "text/html": [
       "<div>\n",
       "<style scoped>\n",
       "    .dataframe tbody tr th:only-of-type {\n",
       "        vertical-align: middle;\n",
       "    }\n",
       "\n",
       "    .dataframe tbody tr th {\n",
       "        vertical-align: top;\n",
       "    }\n",
       "\n",
       "    .dataframe thead th {\n",
       "        text-align: right;\n",
       "    }\n",
       "</style>\n",
       "<table border=\"1\" class=\"dataframe\">\n",
       "  <thead>\n",
       "    <tr style=\"text-align: right;\">\n",
       "      <th></th>\n",
       "      <th>Customer_Company_Name</th>\n",
       "      <th>Customer_Sub_Region</th>\n",
       "      <th>L36M Transaction Count</th>\n",
       "      <th>L36M Principal</th>\n",
       "      <th>L36M Revenue</th>\n",
       "    </tr>\n",
       "  </thead>\n",
       "  <tbody>\n",
       "    <tr>\n",
       "      <th>0</th>\n",
       "      <td>hiboNicapan(Jing)TradCodLt</td>\n",
       "      <td>ANZ</td>\n",
       "      <td>596</td>\n",
       "      <td>4.064567e+08</td>\n",
       "      <td>416901.886</td>\n",
       "    </tr>\n",
       "    <tr>\n",
       "      <th>1</th>\n",
       "      <td>HLOWHIGKETSMARYPTDLT</td>\n",
       "      <td>ANZ</td>\n",
       "      <td>56</td>\n",
       "      <td>2.803069e+08</td>\n",
       "      <td>306891.622</td>\n",
       "    </tr>\n",
       "    <tr>\n",
       "      <th>2</th>\n",
       "      <td>nhaoJuecomTelonalInternatiited(hk)lim</td>\n",
       "      <td>Asia</td>\n",
       "      <td>772</td>\n",
       "      <td>2.583026e+08</td>\n",
       "      <td>134274.741</td>\n",
       "    </tr>\n",
       "    <tr>\n",
       "      <th>3</th>\n",
       "      <td>BasedardStaningsHolditedLim</td>\n",
       "      <td>Asia</td>\n",
       "      <td>2296</td>\n",
       "      <td>2.469984e+08</td>\n",
       "      <td>248898.722</td>\n",
       "    </tr>\n",
       "    <tr>\n",
       "      <th>4</th>\n",
       "      <td>duruHeMoniitedLim</td>\n",
       "      <td>ANZ</td>\n",
       "      <td>9838</td>\n",
       "      <td>2.458509e+08</td>\n",
       "      <td>338463.415</td>\n",
       "    </tr>\n",
       "  </tbody>\n",
       "</table>\n",
       "</div>"
      ],
      "text/plain": [
       "                   Customer_Company_Name Customer_Sub_Region  \\\n",
       "0             hiboNicapan(Jing)TradCodLt                 ANZ   \n",
       "1                   HLOWHIGKETSMARYPTDLT                 ANZ   \n",
       "2  nhaoJuecomTelonalInternatiited(hk)lim                Asia   \n",
       "3            BasedardStaningsHolditedLim                Asia   \n",
       "4                      duruHeMoniitedLim                 ANZ   \n",
       "\n",
       "   L36M Transaction Count  L36M Principal  L36M Revenue  \n",
       "0                     596    4.064567e+08    416901.886  \n",
       "1                      56    2.803069e+08    306891.622  \n",
       "2                     772    2.583026e+08    134274.741  \n",
       "3                    2296    2.469984e+08    248898.722  \n",
       "4                    9838    2.458509e+08    338463.415  "
      ]
     },
     "execution_count": 47,
     "metadata": {},
     "output_type": "execute_result"
    }
   ],
   "source": [
    "cust_forward_36m = cust_forward_36m[['Customer_Company_Name','Customer_Sub_Region','L36M Transaction Count','L36M Principal','L36M Revenue']]\n",
    "cust_forward_36m.head()"
   ]
  },
  {
   "cell_type": "code",
   "execution_count": 48,
   "metadata": {},
   "outputs": [],
   "source": [
    "cust_forward_lt = pd.read_excel(xls,'customer_forward_Lifetime')\n",
    "cust_spot_lt = pd.read_excel(xls,'customer_spot_Lifetime')"
   ]
  },
  {
   "cell_type": "code",
   "execution_count": 49,
   "metadata": {},
   "outputs": [
    {
     "data": {
      "text/plain": [
       "(4381, 21)"
      ]
     },
     "execution_count": 49,
     "metadata": {},
     "output_type": "execute_result"
    }
   ],
   "source": [
    "cust_forward_lt.shape"
   ]
  },
  {
   "cell_type": "code",
   "execution_count": 50,
   "metadata": {},
   "outputs": [
    {
     "data": {
      "text/plain": [
       "Customer_Entity_Type        0\n",
       "Customer_Sub_Region         0\n",
       "First                       0\n",
       "Last Deal                   0\n",
       "Deal_Count                  0\n",
       "Deal_Turnover_AUD           0\n",
       "Deal_Revenue_AUD            0\n",
       "Deal_Count.1                0\n",
       "Deal_Turnover_AUD.1         0\n",
       "Deal_Revenue_AUD.1          0\n",
       "Unnamed: 11                 0\n",
       "Unnamed: 12              4381\n",
       "Unnamed: 13              4381\n",
       "Unnamed: 14              4381\n",
       "Unnamed: 15              4381\n",
       "Unnamed: 16              4375\n",
       "Unnamed: 17              4375\n",
       "Unnamed: 18              4375\n",
       "Unnamed: 19              4375\n",
       "Unnamed: 20              4375\n",
       "Customer_Company_Name       0\n",
       "dtype: int64"
      ]
     },
     "execution_count": 50,
     "metadata": {},
     "output_type": "execute_result"
    }
   ],
   "source": [
    "cust_forward_lt.isnull().sum()"
   ]
  },
  {
   "cell_type": "code",
   "execution_count": 51,
   "metadata": {},
   "outputs": [
    {
     "data": {
      "text/plain": [
       "4369"
      ]
     },
     "execution_count": 51,
     "metadata": {},
     "output_type": "execute_result"
    }
   ],
   "source": [
    "#Check for duplicate Customer_Company_Name\n",
    "cust_forward_lt['Customer_Company_Name'].nunique()"
   ]
  },
  {
   "cell_type": "code",
   "execution_count": 52,
   "metadata": {},
   "outputs": [],
   "source": [
    "#Find the duplicate Customer_Company_Name\n",
    "duplicate_company_name = cust_forward_lt[cust_forward_lt['Customer_Company_Name'].duplicated() == True]['Customer_Company_Name'].tolist()"
   ]
  },
  {
   "cell_type": "code",
   "execution_count": 53,
   "metadata": {},
   "outputs": [
    {
     "data": {
      "text/plain": [
       "(4365, 21)"
      ]
     },
     "execution_count": 53,
     "metadata": {},
     "output_type": "execute_result"
    }
   ],
   "source": [
    "# Remove the rows having duplicate Customer_Company_Name\n",
    "cust_forward_lt = cust_forward_lt[~cust_forward_lt['Customer_Company_Name'].isin(duplicate_company_name)]\n",
    "cust_forward_lt.shape"
   ]
  },
  {
   "cell_type": "code",
   "execution_count": 54,
   "metadata": {},
   "outputs": [
    {
     "data": {
      "text/plain": [
       "Customer_Entity_Type         0\n",
       "Customer_Sub_Region          0\n",
       "First                        0\n",
       "Last Deal                    0\n",
       "Deal_Count                   0\n",
       "Deal_Turnover_AUD            0\n",
       "Deal_Revenue_AUD             0\n",
       "Deal_Count.1                 0\n",
       "Deal_Turnover_AUD.1          0\n",
       "Deal_Revenue_AUD.1           0\n",
       "Unnamed: 11                  0\n",
       "Unnamed: 12              49105\n",
       "Unnamed: 13              49105\n",
       "Unnamed: 14              49105\n",
       "Unnamed: 15              49105\n",
       "Unnamed: 16              49099\n",
       "Unnamed: 17              49099\n",
       "Unnamed: 18              49099\n",
       "Unnamed: 19              49099\n",
       "Unnamed: 20              49099\n",
       "Customer_Company_Name       10\n",
       "dtype: int64"
      ]
     },
     "execution_count": 54,
     "metadata": {},
     "output_type": "execute_result"
    }
   ],
   "source": [
    "cust_spot_lt.isnull().sum()"
   ]
  },
  {
   "cell_type": "code",
   "execution_count": 55,
   "metadata": {},
   "outputs": [
    {
     "data": {
      "text/plain": [
       "Customer_Entity_Type         0\n",
       "Customer_Sub_Region          0\n",
       "First                        0\n",
       "Last Deal                    0\n",
       "Deal_Count                   0\n",
       "Deal_Turnover_AUD            0\n",
       "Deal_Revenue_AUD             0\n",
       "Deal_Count.1                 0\n",
       "Deal_Turnover_AUD.1          0\n",
       "Deal_Revenue_AUD.1           0\n",
       "Unnamed: 11                  0\n",
       "Unnamed: 12              49095\n",
       "Unnamed: 13              49095\n",
       "Unnamed: 14              49095\n",
       "Unnamed: 15              49095\n",
       "Unnamed: 16              49089\n",
       "Unnamed: 17              49089\n",
       "Unnamed: 18              49089\n",
       "Unnamed: 19              49089\n",
       "Unnamed: 20              49089\n",
       "Customer_Company_Name        0\n",
       "dtype: int64"
      ]
     },
     "execution_count": 55,
     "metadata": {},
     "output_type": "execute_result"
    }
   ],
   "source": [
    "# Remove the rows having missing data in Customer_Company_Name\n",
    "cust_spot_lt = cust_spot_lt[cust_spot_lt['Customer_Company_Name'].isnull() == False]\n",
    "cust_spot_lt.isnull().sum()"
   ]
  },
  {
   "cell_type": "code",
   "execution_count": 56,
   "metadata": {},
   "outputs": [
    {
     "data": {
      "text/plain": [
       "(49095, 21)"
      ]
     },
     "execution_count": 56,
     "metadata": {},
     "output_type": "execute_result"
    }
   ],
   "source": [
    "cust_spot_lt.shape"
   ]
  },
  {
   "cell_type": "code",
   "execution_count": 57,
   "metadata": {},
   "outputs": [
    {
     "data": {
      "text/plain": [
       "48886"
      ]
     },
     "execution_count": 57,
     "metadata": {},
     "output_type": "execute_result"
    }
   ],
   "source": [
    "cust_spot_lt['Customer_Company_Name'].nunique()"
   ]
  },
  {
   "cell_type": "code",
   "execution_count": 58,
   "metadata": {},
   "outputs": [],
   "source": [
    "duplicate_company_name = cust_spot_lt[cust_spot_lt['Customer_Company_Name'].duplicated() == True]['Customer_Company_Name'].tolist()"
   ]
  },
  {
   "cell_type": "code",
   "execution_count": 59,
   "metadata": {},
   "outputs": [],
   "source": [
    "cust_spot_lt = cust_spot_lt[~cust_spot_lt['Customer_Company_Name'].isin(duplicate_company_name)]"
   ]
  },
  {
   "cell_type": "code",
   "execution_count": 60,
   "metadata": {},
   "outputs": [
    {
     "data": {
      "text/plain": [
       "(48796, 21)"
      ]
     },
     "execution_count": 60,
     "metadata": {},
     "output_type": "execute_result"
    }
   ],
   "source": [
    "cust_spot_lt.shape"
   ]
  },
  {
   "cell_type": "code",
   "execution_count": 61,
   "metadata": {},
   "outputs": [
    {
     "data": {
      "text/plain": [
       "(48923, 38)"
      ]
     },
     "execution_count": 61,
     "metadata": {},
     "output_type": "execute_result"
    }
   ],
   "source": [
    "transaction_df = pd.merge(cust_forward_lt,cust_spot_lt,on=['Customer_Company_Name','First','Last Deal','Customer_Sub_Region'],how='outer')\n",
    "transaction_df.shape"
   ]
  },
  {
   "cell_type": "code",
   "execution_count": 62,
   "metadata": {},
   "outputs": [
    {
     "data": {
      "text/html": [
       "<div>\n",
       "<style scoped>\n",
       "    .dataframe tbody tr th:only-of-type {\n",
       "        vertical-align: middle;\n",
       "    }\n",
       "\n",
       "    .dataframe tbody tr th {\n",
       "        vertical-align: top;\n",
       "    }\n",
       "\n",
       "    .dataframe thead th {\n",
       "        text-align: right;\n",
       "    }\n",
       "</style>\n",
       "<table border=\"1\" class=\"dataframe\">\n",
       "  <thead>\n",
       "    <tr style=\"text-align: right;\">\n",
       "      <th></th>\n",
       "      <th>Customer_Company_Name</th>\n",
       "      <th>Customer_Sub_Region</th>\n",
       "      <th>First</th>\n",
       "      <th>Last Deal</th>\n",
       "    </tr>\n",
       "  </thead>\n",
       "  <tbody>\n",
       "    <tr>\n",
       "      <th>0</th>\n",
       "      <td>hiboNicapan(Jing)TradCodLt</td>\n",
       "      <td>ANZ</td>\n",
       "      <td>2012-01-26</td>\n",
       "      <td>2021-02-09</td>\n",
       "    </tr>\n",
       "    <tr>\n",
       "      <th>1</th>\n",
       "      <td>DickmithSnicsElectroyPtdLt</td>\n",
       "      <td>ANZ</td>\n",
       "      <td>2012-11-26</td>\n",
       "      <td>2017-12-20</td>\n",
       "    </tr>\n",
       "    <tr>\n",
       "      <th>2</th>\n",
       "      <td>DomuandsBritedLim</td>\n",
       "      <td>Europe</td>\n",
       "      <td>2012-02-22</td>\n",
       "      <td>2021-02-04</td>\n",
       "    </tr>\n",
       "    <tr>\n",
       "      <th>3</th>\n",
       "      <td>orthNicanAmerduceProyersBuitedLim</td>\n",
       "      <td>North America</td>\n",
       "      <td>2011-07-05</td>\n",
       "      <td>2021-02-08</td>\n",
       "    </tr>\n",
       "    <tr>\n",
       "      <th>4</th>\n",
       "      <td>BasedardStaningsHolditedLim</td>\n",
       "      <td>Asia</td>\n",
       "      <td>2012-11-02</td>\n",
       "      <td>2021-02-09</td>\n",
       "    </tr>\n",
       "  </tbody>\n",
       "</table>\n",
       "</div>"
      ],
      "text/plain": [
       "               Customer_Company_Name Customer_Sub_Region      First  Last Deal\n",
       "0         hiboNicapan(Jing)TradCodLt                 ANZ 2012-01-26 2021-02-09\n",
       "1         DickmithSnicsElectroyPtdLt                 ANZ 2012-11-26 2017-12-20\n",
       "2                  DomuandsBritedLim              Europe 2012-02-22 2021-02-04\n",
       "3  orthNicanAmerduceProyersBuitedLim       North America 2011-07-05 2021-02-08\n",
       "4        BasedardStaningsHolditedLim                Asia 2012-11-02 2021-02-09"
      ]
     },
     "execution_count": 62,
     "metadata": {},
     "output_type": "execute_result"
    }
   ],
   "source": [
    "transaction_df = transaction_df[['Customer_Company_Name','Customer_Sub_Region','First','Last Deal']]\n",
    "transaction_df.head()"
   ]
  },
  {
   "cell_type": "code",
   "execution_count": 63,
   "metadata": {},
   "outputs": [
    {
     "data": {
      "text/html": [
       "<div>\n",
       "<style scoped>\n",
       "    .dataframe tbody tr th:only-of-type {\n",
       "        vertical-align: middle;\n",
       "    }\n",
       "\n",
       "    .dataframe tbody tr th {\n",
       "        vertical-align: top;\n",
       "    }\n",
       "\n",
       "    .dataframe thead th {\n",
       "        text-align: right;\n",
       "    }\n",
       "</style>\n",
       "<table border=\"1\" class=\"dataframe\">\n",
       "  <thead>\n",
       "    <tr style=\"text-align: right;\">\n",
       "      <th></th>\n",
       "      <th>Customer_Company_Name</th>\n",
       "      <th>Customer_Sub_Region</th>\n",
       "      <th>First</th>\n",
       "      <th>Last Deal</th>\n",
       "      <th>L12M Transaction Count</th>\n",
       "      <th>L12M Principal</th>\n",
       "      <th>L12M Revenue</th>\n",
       "    </tr>\n",
       "  </thead>\n",
       "  <tbody>\n",
       "    <tr>\n",
       "      <th>0</th>\n",
       "      <td>hiboNicapan(Jing)TradCodLt</td>\n",
       "      <td>ANZ</td>\n",
       "      <td>2012-01-26</td>\n",
       "      <td>2021-02-09</td>\n",
       "      <td>171.0</td>\n",
       "      <td>1.427258e+08</td>\n",
       "      <td>134936.465</td>\n",
       "    </tr>\n",
       "    <tr>\n",
       "      <th>1</th>\n",
       "      <td>DickmithSnicsElectroyPtdLt</td>\n",
       "      <td>ANZ</td>\n",
       "      <td>2012-11-26</td>\n",
       "      <td>2017-12-20</td>\n",
       "      <td>NaN</td>\n",
       "      <td>NaN</td>\n",
       "      <td>NaN</td>\n",
       "    </tr>\n",
       "    <tr>\n",
       "      <th>2</th>\n",
       "      <td>DomuandsBritedLim</td>\n",
       "      <td>Europe</td>\n",
       "      <td>2012-02-22</td>\n",
       "      <td>2021-02-04</td>\n",
       "      <td>83.0</td>\n",
       "      <td>7.830149e+07</td>\n",
       "      <td>126644.870</td>\n",
       "    </tr>\n",
       "    <tr>\n",
       "      <th>3</th>\n",
       "      <td>orthNicanAmerduceProyersBuitedLim</td>\n",
       "      <td>North America</td>\n",
       "      <td>2011-07-05</td>\n",
       "      <td>2021-02-08</td>\n",
       "      <td>30.0</td>\n",
       "      <td>5.193545e+07</td>\n",
       "      <td>39098.335</td>\n",
       "    </tr>\n",
       "    <tr>\n",
       "      <th>4</th>\n",
       "      <td>BasedardStaningsHolditedLim</td>\n",
       "      <td>Asia</td>\n",
       "      <td>2012-11-02</td>\n",
       "      <td>2021-02-09</td>\n",
       "      <td>794.0</td>\n",
       "      <td>8.706215e+07</td>\n",
       "      <td>63354.551</td>\n",
       "    </tr>\n",
       "  </tbody>\n",
       "</table>\n",
       "</div>"
      ],
      "text/plain": [
       "               Customer_Company_Name Customer_Sub_Region      First  \\\n",
       "0         hiboNicapan(Jing)TradCodLt                 ANZ 2012-01-26   \n",
       "1         DickmithSnicsElectroyPtdLt                 ANZ 2012-11-26   \n",
       "2                  DomuandsBritedLim              Europe 2012-02-22   \n",
       "3  orthNicanAmerduceProyersBuitedLim       North America 2011-07-05   \n",
       "4        BasedardStaningsHolditedLim                Asia 2012-11-02   \n",
       "\n",
       "   Last Deal  L12M Transaction Count  L12M Principal  L12M Revenue  \n",
       "0 2021-02-09                   171.0    1.427258e+08    134936.465  \n",
       "1 2017-12-20                     NaN             NaN           NaN  \n",
       "2 2021-02-04                    83.0    7.830149e+07    126644.870  \n",
       "3 2021-02-08                    30.0    5.193545e+07     39098.335  \n",
       "4 2021-02-09                   794.0    8.706215e+07     63354.551  "
      ]
     },
     "execution_count": 63,
     "metadata": {},
     "output_type": "execute_result"
    }
   ],
   "source": [
    "transaction_df = pd.merge(transaction_df,df_12m,on=['Customer_Company_Name','Customer_Sub_Region'],how='outer')\n",
    "transaction_df.head()"
   ]
  },
  {
   "cell_type": "code",
   "execution_count": 64,
   "metadata": {},
   "outputs": [
    {
     "data": {
      "text/html": [
       "<div>\n",
       "<style scoped>\n",
       "    .dataframe tbody tr th:only-of-type {\n",
       "        vertical-align: middle;\n",
       "    }\n",
       "\n",
       "    .dataframe tbody tr th {\n",
       "        vertical-align: top;\n",
       "    }\n",
       "\n",
       "    .dataframe thead th {\n",
       "        text-align: right;\n",
       "    }\n",
       "</style>\n",
       "<table border=\"1\" class=\"dataframe\">\n",
       "  <thead>\n",
       "    <tr style=\"text-align: right;\">\n",
       "      <th></th>\n",
       "      <th>Customer_Company_Name</th>\n",
       "      <th>Customer_Sub_Region</th>\n",
       "      <th>First</th>\n",
       "      <th>Last Deal</th>\n",
       "      <th>L12M Transaction Count</th>\n",
       "      <th>L12M Principal</th>\n",
       "      <th>L12M Revenue</th>\n",
       "      <th>L24M Transaction Count</th>\n",
       "      <th>L24M Principal</th>\n",
       "      <th>L24M Revenue</th>\n",
       "    </tr>\n",
       "  </thead>\n",
       "  <tbody>\n",
       "    <tr>\n",
       "      <th>0</th>\n",
       "      <td>hiboNicapan(Jing)TradCodLt</td>\n",
       "      <td>ANZ</td>\n",
       "      <td>2012-01-26</td>\n",
       "      <td>2021-02-09</td>\n",
       "      <td>171.0</td>\n",
       "      <td>1.427258e+08</td>\n",
       "      <td>134936.465</td>\n",
       "      <td>384.0</td>\n",
       "      <td>2.804268e+08</td>\n",
       "      <td>283308.528</td>\n",
       "    </tr>\n",
       "    <tr>\n",
       "      <th>1</th>\n",
       "      <td>DickmithSnicsElectroyPtdLt</td>\n",
       "      <td>ANZ</td>\n",
       "      <td>2012-11-26</td>\n",
       "      <td>2017-12-20</td>\n",
       "      <td>NaN</td>\n",
       "      <td>NaN</td>\n",
       "      <td>NaN</td>\n",
       "      <td>NaN</td>\n",
       "      <td>NaN</td>\n",
       "      <td>NaN</td>\n",
       "    </tr>\n",
       "    <tr>\n",
       "      <th>2</th>\n",
       "      <td>DomuandsBritedLim</td>\n",
       "      <td>Europe</td>\n",
       "      <td>2012-02-22</td>\n",
       "      <td>2021-02-04</td>\n",
       "      <td>83.0</td>\n",
       "      <td>7.830149e+07</td>\n",
       "      <td>126644.870</td>\n",
       "      <td>152.0</td>\n",
       "      <td>1.151999e+08</td>\n",
       "      <td>216923.945</td>\n",
       "    </tr>\n",
       "    <tr>\n",
       "      <th>3</th>\n",
       "      <td>orthNicanAmerduceProyersBuitedLim</td>\n",
       "      <td>North America</td>\n",
       "      <td>2011-07-05</td>\n",
       "      <td>2021-02-08</td>\n",
       "      <td>30.0</td>\n",
       "      <td>5.193545e+07</td>\n",
       "      <td>39098.335</td>\n",
       "      <td>58.0</td>\n",
       "      <td>9.612283e+07</td>\n",
       "      <td>88937.031</td>\n",
       "    </tr>\n",
       "    <tr>\n",
       "      <th>4</th>\n",
       "      <td>BasedardStaningsHolditedLim</td>\n",
       "      <td>Asia</td>\n",
       "      <td>2012-11-02</td>\n",
       "      <td>2021-02-09</td>\n",
       "      <td>794.0</td>\n",
       "      <td>8.706215e+07</td>\n",
       "      <td>63354.551</td>\n",
       "      <td>1688.0</td>\n",
       "      <td>1.728246e+08</td>\n",
       "      <td>166972.558</td>\n",
       "    </tr>\n",
       "  </tbody>\n",
       "</table>\n",
       "</div>"
      ],
      "text/plain": [
       "               Customer_Company_Name Customer_Sub_Region      First  \\\n",
       "0         hiboNicapan(Jing)TradCodLt                 ANZ 2012-01-26   \n",
       "1         DickmithSnicsElectroyPtdLt                 ANZ 2012-11-26   \n",
       "2                  DomuandsBritedLim              Europe 2012-02-22   \n",
       "3  orthNicanAmerduceProyersBuitedLim       North America 2011-07-05   \n",
       "4        BasedardStaningsHolditedLim                Asia 2012-11-02   \n",
       "\n",
       "   Last Deal  L12M Transaction Count  L12M Principal  L12M Revenue  \\\n",
       "0 2021-02-09                   171.0    1.427258e+08    134936.465   \n",
       "1 2017-12-20                     NaN             NaN           NaN   \n",
       "2 2021-02-04                    83.0    7.830149e+07    126644.870   \n",
       "3 2021-02-08                    30.0    5.193545e+07     39098.335   \n",
       "4 2021-02-09                   794.0    8.706215e+07     63354.551   \n",
       "\n",
       "   L24M Transaction Count  L24M Principal  L24M Revenue  \n",
       "0                   384.0    2.804268e+08    283308.528  \n",
       "1                     NaN             NaN           NaN  \n",
       "2                   152.0    1.151999e+08    216923.945  \n",
       "3                    58.0    9.612283e+07     88937.031  \n",
       "4                  1688.0    1.728246e+08    166972.558  "
      ]
     },
     "execution_count": 64,
     "metadata": {},
     "output_type": "execute_result"
    }
   ],
   "source": [
    "transaction_df = pd.merge(transaction_df,cust_forward_24m,on=['Customer_Company_Name','Customer_Sub_Region'],how='outer')\n",
    "transaction_df.head()"
   ]
  },
  {
   "cell_type": "code",
   "execution_count": 65,
   "metadata": {},
   "outputs": [
    {
     "data": {
      "text/html": [
       "<div>\n",
       "<style scoped>\n",
       "    .dataframe tbody tr th:only-of-type {\n",
       "        vertical-align: middle;\n",
       "    }\n",
       "\n",
       "    .dataframe tbody tr th {\n",
       "        vertical-align: top;\n",
       "    }\n",
       "\n",
       "    .dataframe thead th {\n",
       "        text-align: right;\n",
       "    }\n",
       "</style>\n",
       "<table border=\"1\" class=\"dataframe\">\n",
       "  <thead>\n",
       "    <tr style=\"text-align: right;\">\n",
       "      <th></th>\n",
       "      <th>Customer_Company_Name</th>\n",
       "      <th>Customer_Sub_Region</th>\n",
       "      <th>First</th>\n",
       "      <th>Last Deal</th>\n",
       "      <th>L12M Transaction Count</th>\n",
       "      <th>L12M Principal</th>\n",
       "      <th>L12M Revenue</th>\n",
       "      <th>L24M Transaction Count</th>\n",
       "      <th>L24M Principal</th>\n",
       "      <th>L24M Revenue</th>\n",
       "      <th>L36M Transaction Count</th>\n",
       "      <th>L36M Principal</th>\n",
       "      <th>L36M Revenue</th>\n",
       "    </tr>\n",
       "  </thead>\n",
       "  <tbody>\n",
       "    <tr>\n",
       "      <th>0</th>\n",
       "      <td>hiboNicapan(Jing)TradCodLt</td>\n",
       "      <td>ANZ</td>\n",
       "      <td>2012-01-26</td>\n",
       "      <td>2021-02-09</td>\n",
       "      <td>171.0</td>\n",
       "      <td>1.427258e+08</td>\n",
       "      <td>134936.465</td>\n",
       "      <td>384.0</td>\n",
       "      <td>2.804268e+08</td>\n",
       "      <td>283308.528</td>\n",
       "      <td>596.0</td>\n",
       "      <td>4.064567e+08</td>\n",
       "      <td>416901.886</td>\n",
       "    </tr>\n",
       "    <tr>\n",
       "      <th>1</th>\n",
       "      <td>DickmithSnicsElectroyPtdLt</td>\n",
       "      <td>ANZ</td>\n",
       "      <td>2012-11-26</td>\n",
       "      <td>2017-12-20</td>\n",
       "      <td>NaN</td>\n",
       "      <td>NaN</td>\n",
       "      <td>NaN</td>\n",
       "      <td>NaN</td>\n",
       "      <td>NaN</td>\n",
       "      <td>NaN</td>\n",
       "      <td>NaN</td>\n",
       "      <td>NaN</td>\n",
       "      <td>NaN</td>\n",
       "    </tr>\n",
       "    <tr>\n",
       "      <th>2</th>\n",
       "      <td>DomuandsBritedLim</td>\n",
       "      <td>Europe</td>\n",
       "      <td>2012-02-22</td>\n",
       "      <td>2021-02-04</td>\n",
       "      <td>83.0</td>\n",
       "      <td>7.830149e+07</td>\n",
       "      <td>126644.870</td>\n",
       "      <td>152.0</td>\n",
       "      <td>1.151999e+08</td>\n",
       "      <td>216923.945</td>\n",
       "      <td>251.0</td>\n",
       "      <td>1.749413e+08</td>\n",
       "      <td>358150.546</td>\n",
       "    </tr>\n",
       "    <tr>\n",
       "      <th>3</th>\n",
       "      <td>orthNicanAmerduceProyersBuitedLim</td>\n",
       "      <td>North America</td>\n",
       "      <td>2011-07-05</td>\n",
       "      <td>2021-02-08</td>\n",
       "      <td>30.0</td>\n",
       "      <td>5.193545e+07</td>\n",
       "      <td>39098.335</td>\n",
       "      <td>58.0</td>\n",
       "      <td>9.612283e+07</td>\n",
       "      <td>88937.031</td>\n",
       "      <td>90.0</td>\n",
       "      <td>1.288484e+08</td>\n",
       "      <td>136024.523</td>\n",
       "    </tr>\n",
       "    <tr>\n",
       "      <th>4</th>\n",
       "      <td>BasedardStaningsHolditedLim</td>\n",
       "      <td>Asia</td>\n",
       "      <td>2012-11-02</td>\n",
       "      <td>2021-02-09</td>\n",
       "      <td>794.0</td>\n",
       "      <td>8.706215e+07</td>\n",
       "      <td>63354.551</td>\n",
       "      <td>1688.0</td>\n",
       "      <td>1.728246e+08</td>\n",
       "      <td>166972.558</td>\n",
       "      <td>2296.0</td>\n",
       "      <td>2.469984e+08</td>\n",
       "      <td>248898.722</td>\n",
       "    </tr>\n",
       "  </tbody>\n",
       "</table>\n",
       "</div>"
      ],
      "text/plain": [
       "               Customer_Company_Name Customer_Sub_Region      First  \\\n",
       "0         hiboNicapan(Jing)TradCodLt                 ANZ 2012-01-26   \n",
       "1         DickmithSnicsElectroyPtdLt                 ANZ 2012-11-26   \n",
       "2                  DomuandsBritedLim              Europe 2012-02-22   \n",
       "3  orthNicanAmerduceProyersBuitedLim       North America 2011-07-05   \n",
       "4        BasedardStaningsHolditedLim                Asia 2012-11-02   \n",
       "\n",
       "   Last Deal  L12M Transaction Count  L12M Principal  L12M Revenue  \\\n",
       "0 2021-02-09                   171.0    1.427258e+08    134936.465   \n",
       "1 2017-12-20                     NaN             NaN           NaN   \n",
       "2 2021-02-04                    83.0    7.830149e+07    126644.870   \n",
       "3 2021-02-08                    30.0    5.193545e+07     39098.335   \n",
       "4 2021-02-09                   794.0    8.706215e+07     63354.551   \n",
       "\n",
       "   L24M Transaction Count  L24M Principal  L24M Revenue  \\\n",
       "0                   384.0    2.804268e+08    283308.528   \n",
       "1                     NaN             NaN           NaN   \n",
       "2                   152.0    1.151999e+08    216923.945   \n",
       "3                    58.0    9.612283e+07     88937.031   \n",
       "4                  1688.0    1.728246e+08    166972.558   \n",
       "\n",
       "   L36M Transaction Count  L36M Principal  L36M Revenue  \n",
       "0                   596.0    4.064567e+08    416901.886  \n",
       "1                     NaN             NaN           NaN  \n",
       "2                   251.0    1.749413e+08    358150.546  \n",
       "3                    90.0    1.288484e+08    136024.523  \n",
       "4                  2296.0    2.469984e+08    248898.722  "
      ]
     },
     "execution_count": 65,
     "metadata": {},
     "output_type": "execute_result"
    }
   ],
   "source": [
    "transaction_df = pd.merge(transaction_df,cust_forward_36m,on=['Customer_Company_Name','Customer_Sub_Region'],how='outer')\n",
    "transaction_df.head()"
   ]
  },
  {
   "cell_type": "code",
   "execution_count": 66,
   "metadata": {},
   "outputs": [
    {
     "data": {
      "text/plain": [
       "(49237, 13)"
      ]
     },
     "execution_count": 66,
     "metadata": {},
     "output_type": "execute_result"
    }
   ],
   "source": [
    "transaction_df.shape"
   ]
  },
  {
   "cell_type": "code",
   "execution_count": 67,
   "metadata": {},
   "outputs": [
    {
     "data": {
      "text/plain": [
       "Customer_Company_Name         0\n",
       "Customer_Sub_Region           0\n",
       "First                       314\n",
       "Last Deal                   314\n",
       "L12M Transaction Count    48407\n",
       "L12M Principal            48407\n",
       "L12M Revenue              48407\n",
       "L24M Transaction Count    23524\n",
       "L24M Principal            23524\n",
       "L24M Revenue              23524\n",
       "L36M Transaction Count    19388\n",
       "L36M Principal            19388\n",
       "L36M Revenue              19388\n",
       "dtype: int64"
      ]
     },
     "execution_count": 67,
     "metadata": {},
     "output_type": "execute_result"
    }
   ],
   "source": [
    "transaction_df.isnull().sum()"
   ]
  },
  {
   "cell_type": "code",
   "execution_count": 68,
   "metadata": {},
   "outputs": [
    {
     "data": {
      "text/plain": [
       "ANZ              29897\n",
       "North America    10652\n",
       "Europe            7548\n",
       "Asia              1140\n",
       "Name: Customer_Sub_Region, dtype: int64"
      ]
     },
     "execution_count": 68,
     "metadata": {},
     "output_type": "execute_result"
    }
   ],
   "source": [
    "transaction_df['Customer_Sub_Region'].value_counts()"
   ]
  },
  {
   "cell_type": "code",
   "execution_count": 69,
   "metadata": {},
   "outputs": [
    {
     "data": {
      "text/plain": [
       "ANZ                183786\n",
       "North America       74862\n",
       "UK                  61436\n",
       "Mainland Europe     12819\n",
       "Asia                 7881\n",
       "Name: s_customer_region_grouped, dtype: int64"
      ]
     },
     "execution_count": 69,
     "metadata": {},
     "output_type": "execute_result"
    }
   ],
   "source": [
    "customer_df['s_customer_region_grouped'].value_counts()"
   ]
  },
  {
   "cell_type": "code",
   "execution_count": 70,
   "metadata": {},
   "outputs": [],
   "source": [
    "customer_df['s_customer_region_grouped'] = customer_df['s_customer_region_grouped'].replace(['UK','Mainland Europe'],'Europe')"
   ]
  },
  {
   "cell_type": "code",
   "execution_count": 71,
   "metadata": {},
   "outputs": [
    {
     "data": {
      "text/html": [
       "<div>\n",
       "<style scoped>\n",
       "    .dataframe tbody tr th:only-of-type {\n",
       "        vertical-align: middle;\n",
       "    }\n",
       "\n",
       "    .dataframe tbody tr th {\n",
       "        vertical-align: top;\n",
       "    }\n",
       "\n",
       "    .dataframe thead th {\n",
       "        text-align: right;\n",
       "    }\n",
       "</style>\n",
       "<table border=\"1\" class=\"dataframe\">\n",
       "  <thead>\n",
       "    <tr style=\"text-align: right;\">\n",
       "      <th></th>\n",
       "      <th>customer_id</th>\n",
       "      <th>customer_fiscal_start_date</th>\n",
       "      <th>customer_last_txn_fiscal_date</th>\n",
       "      <th>s_customer_region_grouped</th>\n",
       "      <th>L12M Transaction Count</th>\n",
       "      <th>L24M Transaction Count</th>\n",
       "      <th>L36M Transaction Count</th>\n",
       "      <th>L12M Principal</th>\n",
       "      <th>L24M Principal</th>\n",
       "      <th>L36M Principal</th>\n",
       "      <th>L12M Revenue</th>\n",
       "      <th>L24M Revenue</th>\n",
       "      <th>L36M Revenue</th>\n",
       "    </tr>\n",
       "  </thead>\n",
       "  <tbody>\n",
       "    <tr>\n",
       "      <th>0</th>\n",
       "      <td>4F6BFADE-3F05-456D-8BC9-B630282DAF4A</td>\n",
       "      <td>25-08-2016</td>\n",
       "      <td>23-09-2021</td>\n",
       "      <td>Europe</td>\n",
       "      <td>11</td>\n",
       "      <td>22</td>\n",
       "      <td>33</td>\n",
       "      <td>2805.813</td>\n",
       "      <td>5.238281e+03</td>\n",
       "      <td>7.608446e+03</td>\n",
       "      <td>44.720</td>\n",
       "      <td>82.652</td>\n",
       "      <td>116.786</td>\n",
       "    </tr>\n",
       "    <tr>\n",
       "      <th>1</th>\n",
       "      <td>0EA3FD69-9F1E-4E33-A9A4-CD3E53150323</td>\n",
       "      <td>17-09-2013</td>\n",
       "      <td>07-01-2017</td>\n",
       "      <td>Europe</td>\n",
       "      <td>0</td>\n",
       "      <td>0</td>\n",
       "      <td>0</td>\n",
       "      <td>0.000</td>\n",
       "      <td>0.000000e+00</td>\n",
       "      <td>0.000000e+00</td>\n",
       "      <td>0.000</td>\n",
       "      <td>0.000</td>\n",
       "      <td>0.000</td>\n",
       "    </tr>\n",
       "    <tr>\n",
       "      <th>2</th>\n",
       "      <td>D3C1E848-4000-446D-8E1D-7DEAD13360ED</td>\n",
       "      <td>31-01-2016</td>\n",
       "      <td>18-01-2018</td>\n",
       "      <td>ANZ</td>\n",
       "      <td>0</td>\n",
       "      <td>0</td>\n",
       "      <td>0</td>\n",
       "      <td>0.000</td>\n",
       "      <td>0.000000e+00</td>\n",
       "      <td>0.000000e+00</td>\n",
       "      <td>0.000</td>\n",
       "      <td>0.000</td>\n",
       "      <td>0.000</td>\n",
       "    </tr>\n",
       "    <tr>\n",
       "      <th>3</th>\n",
       "      <td>B9B941F4-6AF9-4FAC-A307-0BB3DC960790</td>\n",
       "      <td>10-12-2014</td>\n",
       "      <td>29-09-2021</td>\n",
       "      <td>ANZ</td>\n",
       "      <td>232</td>\n",
       "      <td>409</td>\n",
       "      <td>572</td>\n",
       "      <td>7585907.442</td>\n",
       "      <td>1.172172e+07</td>\n",
       "      <td>1.442004e+07</td>\n",
       "      <td>9323.508</td>\n",
       "      <td>14236.523</td>\n",
       "      <td>17191.043</td>\n",
       "    </tr>\n",
       "    <tr>\n",
       "      <th>4</th>\n",
       "      <td>D58DBC13-8DD3-4B84-8A96-7EFF40C03175</td>\n",
       "      <td>04-01-2015</td>\n",
       "      <td>07-01-2018</td>\n",
       "      <td>ANZ</td>\n",
       "      <td>0</td>\n",
       "      <td>0</td>\n",
       "      <td>0</td>\n",
       "      <td>0.000</td>\n",
       "      <td>0.000000e+00</td>\n",
       "      <td>0.000000e+00</td>\n",
       "      <td>0.000</td>\n",
       "      <td>0.000</td>\n",
       "      <td>0.000</td>\n",
       "    </tr>\n",
       "  </tbody>\n",
       "</table>\n",
       "</div>"
      ],
      "text/plain": [
       "                            customer_id customer_fiscal_start_date  \\\n",
       "0  4F6BFADE-3F05-456D-8BC9-B630282DAF4A                 25-08-2016   \n",
       "1  0EA3FD69-9F1E-4E33-A9A4-CD3E53150323                 17-09-2013   \n",
       "2  D3C1E848-4000-446D-8E1D-7DEAD13360ED                 31-01-2016   \n",
       "3  B9B941F4-6AF9-4FAC-A307-0BB3DC960790                 10-12-2014   \n",
       "4  D58DBC13-8DD3-4B84-8A96-7EFF40C03175                 04-01-2015   \n",
       "\n",
       "  customer_last_txn_fiscal_date s_customer_region_grouped  \\\n",
       "0                    23-09-2021                    Europe   \n",
       "1                    07-01-2017                    Europe   \n",
       "2                    18-01-2018                       ANZ   \n",
       "3                    29-09-2021                       ANZ   \n",
       "4                    07-01-2018                       ANZ   \n",
       "\n",
       "   L12M Transaction Count  L24M Transaction Count  L36M Transaction Count  \\\n",
       "0                      11                      22                      33   \n",
       "1                       0                       0                       0   \n",
       "2                       0                       0                       0   \n",
       "3                     232                     409                     572   \n",
       "4                       0                       0                       0   \n",
       "\n",
       "   L12M Principal  L24M Principal  L36M Principal  L12M Revenue  L24M Revenue  \\\n",
       "0        2805.813    5.238281e+03    7.608446e+03        44.720        82.652   \n",
       "1           0.000    0.000000e+00    0.000000e+00         0.000         0.000   \n",
       "2           0.000    0.000000e+00    0.000000e+00         0.000         0.000   \n",
       "3     7585907.442    1.172172e+07    1.442004e+07      9323.508     14236.523   \n",
       "4           0.000    0.000000e+00    0.000000e+00         0.000         0.000   \n",
       "\n",
       "   L36M Revenue  \n",
       "0       116.786  \n",
       "1         0.000  \n",
       "2         0.000  \n",
       "3     17191.043  \n",
       "4         0.000  "
      ]
     },
     "execution_count": 71,
     "metadata": {},
     "output_type": "execute_result"
    }
   ],
   "source": [
    "customer_df.head()"
   ]
  },
  {
   "cell_type": "code",
   "execution_count": 72,
   "metadata": {},
   "outputs": [],
   "source": [
    "customer_df['customer_fiscal_start_date'] = pd.to_datetime(customer_df['customer_fiscal_start_date'])\n",
    "customer_df['customer_last_txn_fiscal_date'] = pd.to_datetime(customer_df['customer_last_txn_fiscal_date'])"
   ]
  },
  {
   "cell_type": "code",
   "execution_count": 73,
   "metadata": {},
   "outputs": [
    {
     "data": {
      "text/html": [
       "<div>\n",
       "<style scoped>\n",
       "    .dataframe tbody tr th:only-of-type {\n",
       "        vertical-align: middle;\n",
       "    }\n",
       "\n",
       "    .dataframe tbody tr th {\n",
       "        vertical-align: top;\n",
       "    }\n",
       "\n",
       "    .dataframe thead th {\n",
       "        text-align: right;\n",
       "    }\n",
       "</style>\n",
       "<table border=\"1\" class=\"dataframe\">\n",
       "  <thead>\n",
       "    <tr style=\"text-align: right;\">\n",
       "      <th></th>\n",
       "      <th>customer_id</th>\n",
       "      <th>customer_fiscal_start_date</th>\n",
       "      <th>customer_last_txn_fiscal_date</th>\n",
       "      <th>s_customer_region_grouped</th>\n",
       "      <th>L12M Transaction Count</th>\n",
       "      <th>L24M Transaction Count</th>\n",
       "      <th>L36M Transaction Count</th>\n",
       "      <th>L12M Principal</th>\n",
       "      <th>L24M Principal</th>\n",
       "      <th>L36M Principal</th>\n",
       "      <th>L12M Revenue</th>\n",
       "      <th>L24M Revenue</th>\n",
       "      <th>L36M Revenue</th>\n",
       "    </tr>\n",
       "  </thead>\n",
       "  <tbody>\n",
       "    <tr>\n",
       "      <th>0</th>\n",
       "      <td>4F6BFADE-3F05-456D-8BC9-B630282DAF4A</td>\n",
       "      <td>2016-08-25</td>\n",
       "      <td>2021-09-23</td>\n",
       "      <td>Europe</td>\n",
       "      <td>11</td>\n",
       "      <td>22</td>\n",
       "      <td>33</td>\n",
       "      <td>2805.813</td>\n",
       "      <td>5.238281e+03</td>\n",
       "      <td>7.608446e+03</td>\n",
       "      <td>44.720</td>\n",
       "      <td>82.652</td>\n",
       "      <td>116.786</td>\n",
       "    </tr>\n",
       "    <tr>\n",
       "      <th>1</th>\n",
       "      <td>0EA3FD69-9F1E-4E33-A9A4-CD3E53150323</td>\n",
       "      <td>2013-09-17</td>\n",
       "      <td>2017-07-01</td>\n",
       "      <td>Europe</td>\n",
       "      <td>0</td>\n",
       "      <td>0</td>\n",
       "      <td>0</td>\n",
       "      <td>0.000</td>\n",
       "      <td>0.000000e+00</td>\n",
       "      <td>0.000000e+00</td>\n",
       "      <td>0.000</td>\n",
       "      <td>0.000</td>\n",
       "      <td>0.000</td>\n",
       "    </tr>\n",
       "    <tr>\n",
       "      <th>2</th>\n",
       "      <td>D3C1E848-4000-446D-8E1D-7DEAD13360ED</td>\n",
       "      <td>2016-01-31</td>\n",
       "      <td>2018-01-18</td>\n",
       "      <td>ANZ</td>\n",
       "      <td>0</td>\n",
       "      <td>0</td>\n",
       "      <td>0</td>\n",
       "      <td>0.000</td>\n",
       "      <td>0.000000e+00</td>\n",
       "      <td>0.000000e+00</td>\n",
       "      <td>0.000</td>\n",
       "      <td>0.000</td>\n",
       "      <td>0.000</td>\n",
       "    </tr>\n",
       "    <tr>\n",
       "      <th>3</th>\n",
       "      <td>B9B941F4-6AF9-4FAC-A307-0BB3DC960790</td>\n",
       "      <td>2014-10-12</td>\n",
       "      <td>2021-09-29</td>\n",
       "      <td>ANZ</td>\n",
       "      <td>232</td>\n",
       "      <td>409</td>\n",
       "      <td>572</td>\n",
       "      <td>7585907.442</td>\n",
       "      <td>1.172172e+07</td>\n",
       "      <td>1.442004e+07</td>\n",
       "      <td>9323.508</td>\n",
       "      <td>14236.523</td>\n",
       "      <td>17191.043</td>\n",
       "    </tr>\n",
       "    <tr>\n",
       "      <th>4</th>\n",
       "      <td>D58DBC13-8DD3-4B84-8A96-7EFF40C03175</td>\n",
       "      <td>2015-04-01</td>\n",
       "      <td>2018-07-01</td>\n",
       "      <td>ANZ</td>\n",
       "      <td>0</td>\n",
       "      <td>0</td>\n",
       "      <td>0</td>\n",
       "      <td>0.000</td>\n",
       "      <td>0.000000e+00</td>\n",
       "      <td>0.000000e+00</td>\n",
       "      <td>0.000</td>\n",
       "      <td>0.000</td>\n",
       "      <td>0.000</td>\n",
       "    </tr>\n",
       "  </tbody>\n",
       "</table>\n",
       "</div>"
      ],
      "text/plain": [
       "                            customer_id customer_fiscal_start_date  \\\n",
       "0  4F6BFADE-3F05-456D-8BC9-B630282DAF4A                 2016-08-25   \n",
       "1  0EA3FD69-9F1E-4E33-A9A4-CD3E53150323                 2013-09-17   \n",
       "2  D3C1E848-4000-446D-8E1D-7DEAD13360ED                 2016-01-31   \n",
       "3  B9B941F4-6AF9-4FAC-A307-0BB3DC960790                 2014-10-12   \n",
       "4  D58DBC13-8DD3-4B84-8A96-7EFF40C03175                 2015-04-01   \n",
       "\n",
       "  customer_last_txn_fiscal_date s_customer_region_grouped  \\\n",
       "0                    2021-09-23                    Europe   \n",
       "1                    2017-07-01                    Europe   \n",
       "2                    2018-01-18                       ANZ   \n",
       "3                    2021-09-29                       ANZ   \n",
       "4                    2018-07-01                       ANZ   \n",
       "\n",
       "   L12M Transaction Count  L24M Transaction Count  L36M Transaction Count  \\\n",
       "0                      11                      22                      33   \n",
       "1                       0                       0                       0   \n",
       "2                       0                       0                       0   \n",
       "3                     232                     409                     572   \n",
       "4                       0                       0                       0   \n",
       "\n",
       "   L12M Principal  L24M Principal  L36M Principal  L12M Revenue  L24M Revenue  \\\n",
       "0        2805.813    5.238281e+03    7.608446e+03        44.720        82.652   \n",
       "1           0.000    0.000000e+00    0.000000e+00         0.000         0.000   \n",
       "2           0.000    0.000000e+00    0.000000e+00         0.000         0.000   \n",
       "3     7585907.442    1.172172e+07    1.442004e+07      9323.508     14236.523   \n",
       "4           0.000    0.000000e+00    0.000000e+00         0.000         0.000   \n",
       "\n",
       "   L36M Revenue  \n",
       "0       116.786  \n",
       "1         0.000  \n",
       "2         0.000  \n",
       "3     17191.043  \n",
       "4         0.000  "
      ]
     },
     "execution_count": 73,
     "metadata": {},
     "output_type": "execute_result"
    }
   ],
   "source": [
    "customer_df.head()"
   ]
  },
  {
   "cell_type": "code",
   "execution_count": 74,
   "metadata": {
    "scrolled": true
   },
   "outputs": [
    {
     "data": {
      "text/plain": [
       "Customer_Company_Name         0\n",
       "Customer_Sub_Region           0\n",
       "First                       314\n",
       "Last Deal                   314\n",
       "L12M Transaction Count    48407\n",
       "L12M Principal            48407\n",
       "L12M Revenue              48407\n",
       "L24M Transaction Count    23524\n",
       "L24M Principal            23524\n",
       "L24M Revenue              23524\n",
       "L36M Transaction Count    19388\n",
       "L36M Principal            19388\n",
       "L36M Revenue              19388\n",
       "dtype: int64"
      ]
     },
     "execution_count": 74,
     "metadata": {},
     "output_type": "execute_result"
    }
   ],
   "source": [
    "transaction_df.isnull().sum()"
   ]
  },
  {
   "cell_type": "code",
   "execution_count": 75,
   "metadata": {},
   "outputs": [
    {
     "data": {
      "text/plain": [
       "(48923, 13)"
      ]
     },
     "execution_count": 75,
     "metadata": {},
     "output_type": "execute_result"
    }
   ],
   "source": [
    "transaction_df = transaction_df[~transaction_df['First'].isnull()]\n",
    "transaction_df.shape"
   ]
  },
  {
   "cell_type": "code",
   "execution_count": 76,
   "metadata": {},
   "outputs": [
    {
     "data": {
      "text/plain": [
       "Customer_Company_Name         0\n",
       "Customer_Sub_Region           0\n",
       "First                         0\n",
       "Last Deal                     0\n",
       "L12M Transaction Count    48093\n",
       "L12M Principal            48093\n",
       "L12M Revenue              48093\n",
       "L24M Transaction Count    23460\n",
       "L24M Principal            23460\n",
       "L24M Revenue              23460\n",
       "L36M Transaction Count    19384\n",
       "L36M Principal            19384\n",
       "L36M Revenue              19384\n",
       "dtype: int64"
      ]
     },
     "execution_count": 76,
     "metadata": {},
     "output_type": "execute_result"
    }
   ],
   "source": [
    "transaction_df.isnull().sum()"
   ]
  },
  {
   "cell_type": "code",
   "execution_count": 77,
   "metadata": {},
   "outputs": [],
   "source": [
    "cols = transaction_df.columns[4:].tolist()"
   ]
  },
  {
   "cell_type": "code",
   "execution_count": 78,
   "metadata": {},
   "outputs": [],
   "source": [
    "transaction_df.loc[transaction_df['Last Deal'] < '2018-10-01',cols] = 0"
   ]
  },
  {
   "cell_type": "code",
   "execution_count": 79,
   "metadata": {},
   "outputs": [],
   "source": [
    "transaction_df.loc[transaction_df['Last Deal'] < '2019-10-01',cols[:6]] = 0"
   ]
  },
  {
   "cell_type": "code",
   "execution_count": 80,
   "metadata": {},
   "outputs": [],
   "source": [
    "transaction_df.loc[transaction_df['Last Deal'] < '2020-10-01',cols[:3]] = 0"
   ]
  },
  {
   "cell_type": "code",
   "execution_count": 81,
   "metadata": {},
   "outputs": [
    {
     "data": {
      "text/plain": [
       "Customer_Company_Name         0\n",
       "Customer_Sub_Region           0\n",
       "First                         0\n",
       "Last Deal                     0\n",
       "L12M Transaction Count    15185\n",
       "L12M Principal            15185\n",
       "L12M Revenue              15185\n",
       "L24M Transaction Count      197\n",
       "L24M Principal              197\n",
       "L24M Revenue                197\n",
       "L36M Transaction Count      195\n",
       "L36M Principal              195\n",
       "L36M Revenue                195\n",
       "dtype: int64"
      ]
     },
     "execution_count": 81,
     "metadata": {},
     "output_type": "execute_result"
    }
   ],
   "source": [
    "transaction_df.isnull().sum()"
   ]
  },
  {
   "cell_type": "code",
   "execution_count": 82,
   "metadata": {},
   "outputs": [],
   "source": [
    "transaction_df = transaction_df[~transaction_df['L36M Revenue'].isnull()]"
   ]
  },
  {
   "cell_type": "code",
   "execution_count": 83,
   "metadata": {},
   "outputs": [
    {
     "data": {
      "text/plain": [
       "Customer_Company_Name         0\n",
       "Customer_Sub_Region           0\n",
       "First                         0\n",
       "Last Deal                     0\n",
       "L12M Transaction Count    15009\n",
       "L12M Principal            15009\n",
       "L12M Revenue              15009\n",
       "L24M Transaction Count        4\n",
       "L24M Principal                4\n",
       "L24M Revenue                  4\n",
       "L36M Transaction Count        0\n",
       "L36M Principal                0\n",
       "L36M Revenue                  0\n",
       "dtype: int64"
      ]
     },
     "execution_count": 83,
     "metadata": {},
     "output_type": "execute_result"
    }
   ],
   "source": [
    "transaction_df.isnull().sum()"
   ]
  },
  {
   "cell_type": "code",
   "execution_count": 84,
   "metadata": {},
   "outputs": [],
   "source": [
    "import fuzzymatcher"
   ]
  },
  {
   "cell_type": "code",
   "execution_count": 85,
   "metadata": {},
   "outputs": [
    {
     "data": {
      "text/plain": [
       "Index(['Customer_Company_Name', 'Customer_Sub_Region', 'First', 'Last Deal',\n",
       "       'L12M Transaction Count', 'L12M Principal', 'L12M Revenue',\n",
       "       'L24M Transaction Count', 'L24M Principal', 'L24M Revenue',\n",
       "       'L36M Transaction Count', 'L36M Principal', 'L36M Revenue'],\n",
       "      dtype='object')"
      ]
     },
     "execution_count": 85,
     "metadata": {},
     "output_type": "execute_result"
    }
   ],
   "source": [
    "transaction_df.columns"
   ]
  },
  {
   "cell_type": "code",
   "execution_count": 86,
   "metadata": {},
   "outputs": [
    {
     "data": {
      "text/plain": [
       "Index(['customer_id', 'customer_fiscal_start_date',\n",
       "       'customer_last_txn_fiscal_date', 's_customer_region_grouped',\n",
       "       'L12M Transaction Count', 'L24M Transaction Count',\n",
       "       'L36M Transaction Count', 'L12M Principal', 'L24M Principal',\n",
       "       'L36M Principal', 'L12M Revenue', 'L24M Revenue', 'L36M Revenue'],\n",
       "      dtype='object')"
      ]
     },
     "execution_count": 86,
     "metadata": {},
     "output_type": "execute_result"
    }
   ],
   "source": [
    "customer_df.columns"
   ]
  },
  {
   "cell_type": "code",
   "execution_count": 87,
   "metadata": {},
   "outputs": [
    {
     "name": "stdout",
     "output_type": "stream",
     "text": [
      "<class 'pandas.core.frame.DataFrame'>\n",
      "RangeIndex: 340784 entries, 0 to 340783\n",
      "Data columns (total 13 columns):\n",
      " #   Column                         Non-Null Count   Dtype         \n",
      "---  ------                         --------------   -----         \n",
      " 0   customer_id                    340784 non-null  object        \n",
      " 1   customer_fiscal_start_date     340784 non-null  datetime64[ns]\n",
      " 2   customer_last_txn_fiscal_date  340784 non-null  datetime64[ns]\n",
      " 3   s_customer_region_grouped      340784 non-null  object        \n",
      " 4   L12M Transaction Count         340784 non-null  int64         \n",
      " 5   L24M Transaction Count         340784 non-null  int64         \n",
      " 6   L36M Transaction Count         340784 non-null  int64         \n",
      " 7   L12M Principal                 340784 non-null  float64       \n",
      " 8   L24M Principal                 340784 non-null  float64       \n",
      " 9   L36M Principal                 340784 non-null  float64       \n",
      " 10  L12M Revenue                   340784 non-null  float64       \n",
      " 11  L24M Revenue                   340784 non-null  float64       \n",
      " 12  L36M Revenue                   340784 non-null  float64       \n",
      "dtypes: datetime64[ns](2), float64(6), int64(3), object(2)\n",
      "memory usage: 33.8+ MB\n"
     ]
    }
   ],
   "source": [
    "customer_df.info()"
   ]
  },
  {
   "cell_type": "code",
   "execution_count": 88,
   "metadata": {},
   "outputs": [
    {
     "name": "stdout",
     "output_type": "stream",
     "text": [
      "<class 'pandas.core.frame.DataFrame'>\n",
      "Int64Index: 48728 entries, 0 to 48922\n",
      "Data columns (total 13 columns):\n",
      " #   Column                  Non-Null Count  Dtype         \n",
      "---  ------                  --------------  -----         \n",
      " 0   Customer_Company_Name   48728 non-null  object        \n",
      " 1   Customer_Sub_Region     48728 non-null  object        \n",
      " 2   First                   48728 non-null  datetime64[ns]\n",
      " 3   Last Deal               48728 non-null  datetime64[ns]\n",
      " 4   L12M Transaction Count  33719 non-null  float64       \n",
      " 5   L12M Principal          33719 non-null  float64       \n",
      " 6   L12M Revenue            33719 non-null  float64       \n",
      " 7   L24M Transaction Count  48724 non-null  float64       \n",
      " 8   L24M Principal          48724 non-null  float64       \n",
      " 9   L24M Revenue            48724 non-null  float64       \n",
      " 10  L36M Transaction Count  48728 non-null  float64       \n",
      " 11  L36M Principal          48728 non-null  float64       \n",
      " 12  L36M Revenue            48728 non-null  float64       \n",
      "dtypes: datetime64[ns](2), float64(9), object(2)\n",
      "memory usage: 5.2+ MB\n"
     ]
    }
   ],
   "source": [
    "transaction_df.info()"
   ]
  },
  {
   "cell_type": "code",
   "execution_count": 89,
   "metadata": {},
   "outputs": [],
   "source": [
    "transaction_df['L12M Transaction Count'] = transaction_df['L12M Transaction Count'].fillna(0).astype(int)\n",
    "transaction_df['L24M Transaction Count'] = transaction_df['L24M Transaction Count'].fillna(0).astype(int)\n",
    "transaction_df['L36M Transaction Count'] = transaction_df['L36M Transaction Count'].fillna(0).astype(int)"
   ]
  },
  {
   "cell_type": "code",
   "execution_count": 90,
   "metadata": {},
   "outputs": [
    {
     "data": {
      "text/plain": [
       "Customer_Company_Name         0\n",
       "Customer_Sub_Region           0\n",
       "First                         0\n",
       "Last Deal                     0\n",
       "L12M Transaction Count        0\n",
       "L12M Principal            15009\n",
       "L12M Revenue              15009\n",
       "L24M Transaction Count        0\n",
       "L24M Principal                4\n",
       "L24M Revenue                  4\n",
       "L36M Transaction Count        0\n",
       "L36M Principal                0\n",
       "L36M Revenue                  0\n",
       "dtype: int64"
      ]
     },
     "execution_count": 90,
     "metadata": {},
     "output_type": "execute_result"
    }
   ],
   "source": [
    "transaction_df.isnull().sum()"
   ]
  },
  {
   "cell_type": "code",
   "execution_count": 91,
   "metadata": {},
   "outputs": [
    {
     "data": {
      "text/plain": [
       "(48728, 13)"
      ]
     },
     "execution_count": 91,
     "metadata": {},
     "output_type": "execute_result"
    }
   ],
   "source": [
    "transaction_df.shape"
   ]
  },
  {
   "cell_type": "code",
   "execution_count": 92,
   "metadata": {},
   "outputs": [],
   "source": [
    "transaction_Asia = transaction_df[transaction_df['Customer_Sub_Region'] == 'Asia']\n",
    "customer_Asia = customer_df[customer_df['s_customer_region_grouped'] == 'Asia']"
   ]
  },
  {
   "cell_type": "code",
   "execution_count": 93,
   "metadata": {},
   "outputs": [],
   "source": [
    "left_on = ['First', 'Last Deal','L12M Transaction Count', 'L12M Principal', 'L12M Revenue',\n",
    "           'L24M Transaction Count', 'L24M Principal', 'L24M Revenue','L36M Transaction Count', 'L36M Principal',\n",
    "           'L36M Revenue']\n",
    "\n",
    "right_on = ['customer_fiscal_start_date','customer_last_txn_fiscal_date','L12M Transaction Count',\n",
    "            'L12M Principal', 'L12M Revenue', 'L24M Transaction Count','L24M Principal' ,'L24M Revenue',\n",
    "            'L36M Transaction Count','L36M Principal', 'L36M Revenue']"
   ]
  },
  {
   "cell_type": "code",
   "execution_count": 94,
   "metadata": {},
   "outputs": [],
   "source": [
    "matched_results_Asia = fuzzymatcher.fuzzy_left_join(transaction_Asia,\n",
    "                                            customer_Asia,\n",
    "                                            left_on,\n",
    "                                            right_on,\n",
    "                                            left_id_col='Customer_Company_Name',\n",
    "                                            right_id_col='customer_id')"
   ]
  },
  {
   "cell_type": "code",
   "execution_count": 95,
   "metadata": {},
   "outputs": [
    {
     "data": {
      "text/html": [
       "<div>\n",
       "<style scoped>\n",
       "    .dataframe tbody tr th:only-of-type {\n",
       "        vertical-align: middle;\n",
       "    }\n",
       "\n",
       "    .dataframe tbody tr th {\n",
       "        vertical-align: top;\n",
       "    }\n",
       "\n",
       "    .dataframe thead th {\n",
       "        text-align: right;\n",
       "    }\n",
       "</style>\n",
       "<table border=\"1\" class=\"dataframe\">\n",
       "  <thead>\n",
       "    <tr style=\"text-align: right;\">\n",
       "      <th></th>\n",
       "      <th>best_match_score</th>\n",
       "      <th>__id_left</th>\n",
       "      <th>__id_right</th>\n",
       "      <th>Customer_Company_Name</th>\n",
       "      <th>Customer_Sub_Region</th>\n",
       "      <th>First</th>\n",
       "      <th>Last Deal</th>\n",
       "      <th>L12M Transaction Count_left</th>\n",
       "      <th>L12M Principal_left</th>\n",
       "      <th>L12M Revenue_left</th>\n",
       "      <th>L24M Transaction Count_left</th>\n",
       "      <th>L24M Principal_left</th>\n",
       "      <th>L24M Revenue_left</th>\n",
       "      <th>L36M Transaction Count_left</th>\n",
       "      <th>L36M Principal_left</th>\n",
       "      <th>L36M Revenue_left</th>\n",
       "      <th>customer_id</th>\n",
       "      <th>customer_fiscal_start_date</th>\n",
       "      <th>customer_last_txn_fiscal_date</th>\n",
       "      <th>s_customer_region_grouped</th>\n",
       "      <th>L12M Transaction Count_right</th>\n",
       "      <th>L24M Transaction Count_right</th>\n",
       "      <th>L36M Transaction Count_right</th>\n",
       "      <th>L12M Principal_right</th>\n",
       "      <th>L24M Principal_right</th>\n",
       "      <th>L36M Principal_right</th>\n",
       "      <th>L12M Revenue_right</th>\n",
       "      <th>L24M Revenue_right</th>\n",
       "      <th>L36M Revenue_right</th>\n",
       "    </tr>\n",
       "  </thead>\n",
       "  <tbody>\n",
       "    <tr>\n",
       "      <th>155667</th>\n",
       "      <td>1.057025</td>\n",
       "      <td>uschBriseEnterpitedLim</td>\n",
       "      <td>70AB7B87-9A70-4577-A498-F9AAF7BA8228</td>\n",
       "      <td>uschBriseEnterpitedLim</td>\n",
       "      <td>Asia</td>\n",
       "      <td>2019-10-07</td>\n",
       "      <td>2019-10-07</td>\n",
       "      <td>0</td>\n",
       "      <td>0.0</td>\n",
       "      <td>0.0</td>\n",
       "      <td>1</td>\n",
       "      <td>3314.683</td>\n",
       "      <td>68.035</td>\n",
       "      <td>1</td>\n",
       "      <td>3314.683</td>\n",
       "      <td>68.035</td>\n",
       "      <td>70AB7B87-9A70-4577-A498-F9AAF7BA8228</td>\n",
       "      <td>2020-07-07</td>\n",
       "      <td>2020-07-07</td>\n",
       "      <td>Asia</td>\n",
       "      <td>0</td>\n",
       "      <td>1</td>\n",
       "      <td>1</td>\n",
       "      <td>0.0</td>\n",
       "      <td>3314.683</td>\n",
       "      <td>3314.683</td>\n",
       "      <td>0.0</td>\n",
       "      <td>68.035</td>\n",
       "      <td>68.035</td>\n",
       "    </tr>\n",
       "    <tr>\n",
       "      <th>130275</th>\n",
       "      <td>1.014135</td>\n",
       "      <td>MojoeptsconcePtdlt</td>\n",
       "      <td>03EB6C57-2A70-4400-9C6A-F85ED6B551E6</td>\n",
       "      <td>MojoeptsconcePtdlt</td>\n",
       "      <td>Asia</td>\n",
       "      <td>2019-10-18</td>\n",
       "      <td>2019-12-13</td>\n",
       "      <td>0</td>\n",
       "      <td>0.0</td>\n",
       "      <td>0.0</td>\n",
       "      <td>5</td>\n",
       "      <td>38193.432</td>\n",
       "      <td>89.858</td>\n",
       "      <td>5</td>\n",
       "      <td>38193.432</td>\n",
       "      <td>89.858</td>\n",
       "      <td>03EB6C57-2A70-4400-9C6A-F85ED6B551E6</td>\n",
       "      <td>2020-07-18</td>\n",
       "      <td>2020-09-13</td>\n",
       "      <td>Asia</td>\n",
       "      <td>0</td>\n",
       "      <td>5</td>\n",
       "      <td>5</td>\n",
       "      <td>0.0</td>\n",
       "      <td>38193.432</td>\n",
       "      <td>38193.432</td>\n",
       "      <td>0.0</td>\n",
       "      <td>89.858</td>\n",
       "      <td>89.858</td>\n",
       "    </tr>\n",
       "    <tr>\n",
       "      <th>143679</th>\n",
       "      <td>1.002623</td>\n",
       "      <td>uavaGtiesAmeniePtdLt</td>\n",
       "      <td>8CA23DE0-A272-4772-9C29-06C4BC6A4B77</td>\n",
       "      <td>uavaGtiesAmeniePtdLt</td>\n",
       "      <td>Asia</td>\n",
       "      <td>2019-12-09</td>\n",
       "      <td>2019-12-09</td>\n",
       "      <td>0</td>\n",
       "      <td>0.0</td>\n",
       "      <td>0.0</td>\n",
       "      <td>1</td>\n",
       "      <td>12615.964</td>\n",
       "      <td>18.346</td>\n",
       "      <td>1</td>\n",
       "      <td>12615.964</td>\n",
       "      <td>18.346</td>\n",
       "      <td>8CA23DE0-A272-4772-9C29-06C4BC6A4B77</td>\n",
       "      <td>2020-09-09</td>\n",
       "      <td>2020-09-09</td>\n",
       "      <td>Asia</td>\n",
       "      <td>0</td>\n",
       "      <td>1</td>\n",
       "      <td>1</td>\n",
       "      <td>0.0</td>\n",
       "      <td>12615.964</td>\n",
       "      <td>12615.964</td>\n",
       "      <td>0.0</td>\n",
       "      <td>18.346</td>\n",
       "      <td>18.346</td>\n",
       "    </tr>\n",
       "    <tr>\n",
       "      <th>140543</th>\n",
       "      <td>0.975505</td>\n",
       "      <td>lkinWetemsSysitedLim</td>\n",
       "      <td>D6858A04-C7E2-4E36-B2B6-01F39F113D5F</td>\n",
       "      <td>lkinWetemsSysitedLim</td>\n",
       "      <td>Asia</td>\n",
       "      <td>2019-12-10</td>\n",
       "      <td>2019-12-10</td>\n",
       "      <td>0</td>\n",
       "      <td>0.0</td>\n",
       "      <td>0.0</td>\n",
       "      <td>1</td>\n",
       "      <td>16427.417</td>\n",
       "      <td>127.288</td>\n",
       "      <td>1</td>\n",
       "      <td>16427.417</td>\n",
       "      <td>127.288</td>\n",
       "      <td>D6858A04-C7E2-4E36-B2B6-01F39F113D5F</td>\n",
       "      <td>2020-10-09</td>\n",
       "      <td>2020-10-09</td>\n",
       "      <td>Asia</td>\n",
       "      <td>0</td>\n",
       "      <td>1</td>\n",
       "      <td>1</td>\n",
       "      <td>0.0</td>\n",
       "      <td>16427.417</td>\n",
       "      <td>16427.417</td>\n",
       "      <td>0.0</td>\n",
       "      <td>127.288</td>\n",
       "      <td>127.288</td>\n",
       "    </tr>\n",
       "    <tr>\n",
       "      <th>160000</th>\n",
       "      <td>0.913864</td>\n",
       "      <td>atanEilePtdLt</td>\n",
       "      <td>CAC82FF3-A1E4-49E8-8796-BDF9018047C3</td>\n",
       "      <td>atanEilePtdLt</td>\n",
       "      <td>Asia</td>\n",
       "      <td>2019-10-03</td>\n",
       "      <td>2019-10-09</td>\n",
       "      <td>0</td>\n",
       "      <td>0.0</td>\n",
       "      <td>0.0</td>\n",
       "      <td>3</td>\n",
       "      <td>1475.246</td>\n",
       "      <td>37.173</td>\n",
       "      <td>3</td>\n",
       "      <td>1475.246</td>\n",
       "      <td>37.173</td>\n",
       "      <td>CAC82FF3-A1E4-49E8-8796-BDF9018047C3</td>\n",
       "      <td>2020-03-07</td>\n",
       "      <td>2020-09-07</td>\n",
       "      <td>Asia</td>\n",
       "      <td>0</td>\n",
       "      <td>3</td>\n",
       "      <td>3</td>\n",
       "      <td>0.0</td>\n",
       "      <td>1475.246</td>\n",
       "      <td>1475.246</td>\n",
       "      <td>0.0</td>\n",
       "      <td>37.173</td>\n",
       "      <td>37.173</td>\n",
       "    </tr>\n",
       "  </tbody>\n",
       "</table>\n",
       "</div>"
      ],
      "text/plain": [
       "        best_match_score               __id_left  \\\n",
       "155667          1.057025  uschBriseEnterpitedLim   \n",
       "130275          1.014135      MojoeptsconcePtdlt   \n",
       "143679          1.002623    uavaGtiesAmeniePtdLt   \n",
       "140543          0.975505    lkinWetemsSysitedLim   \n",
       "160000          0.913864           atanEilePtdLt   \n",
       "\n",
       "                                  __id_right   Customer_Company_Name  \\\n",
       "155667  70AB7B87-9A70-4577-A498-F9AAF7BA8228  uschBriseEnterpitedLim   \n",
       "130275  03EB6C57-2A70-4400-9C6A-F85ED6B551E6      MojoeptsconcePtdlt   \n",
       "143679  8CA23DE0-A272-4772-9C29-06C4BC6A4B77    uavaGtiesAmeniePtdLt   \n",
       "140543  D6858A04-C7E2-4E36-B2B6-01F39F113D5F    lkinWetemsSysitedLim   \n",
       "160000  CAC82FF3-A1E4-49E8-8796-BDF9018047C3           atanEilePtdLt   \n",
       "\n",
       "       Customer_Sub_Region      First  Last Deal  L12M Transaction Count_left  \\\n",
       "155667                Asia 2019-10-07 2019-10-07                            0   \n",
       "130275                Asia 2019-10-18 2019-12-13                            0   \n",
       "143679                Asia 2019-12-09 2019-12-09                            0   \n",
       "140543                Asia 2019-12-10 2019-12-10                            0   \n",
       "160000                Asia 2019-10-03 2019-10-09                            0   \n",
       "\n",
       "        L12M Principal_left  L12M Revenue_left  L24M Transaction Count_left  \\\n",
       "155667                  0.0                0.0                            1   \n",
       "130275                  0.0                0.0                            5   \n",
       "143679                  0.0                0.0                            1   \n",
       "140543                  0.0                0.0                            1   \n",
       "160000                  0.0                0.0                            3   \n",
       "\n",
       "        L24M Principal_left  L24M Revenue_left  L36M Transaction Count_left  \\\n",
       "155667             3314.683             68.035                            1   \n",
       "130275            38193.432             89.858                            5   \n",
       "143679            12615.964             18.346                            1   \n",
       "140543            16427.417            127.288                            1   \n",
       "160000             1475.246             37.173                            3   \n",
       "\n",
       "        L36M Principal_left  L36M Revenue_left  \\\n",
       "155667             3314.683             68.035   \n",
       "130275            38193.432             89.858   \n",
       "143679            12615.964             18.346   \n",
       "140543            16427.417            127.288   \n",
       "160000             1475.246             37.173   \n",
       "\n",
       "                                 customer_id customer_fiscal_start_date  \\\n",
       "155667  70AB7B87-9A70-4577-A498-F9AAF7BA8228                 2020-07-07   \n",
       "130275  03EB6C57-2A70-4400-9C6A-F85ED6B551E6                 2020-07-18   \n",
       "143679  8CA23DE0-A272-4772-9C29-06C4BC6A4B77                 2020-09-09   \n",
       "140543  D6858A04-C7E2-4E36-B2B6-01F39F113D5F                 2020-10-09   \n",
       "160000  CAC82FF3-A1E4-49E8-8796-BDF9018047C3                 2020-03-07   \n",
       "\n",
       "       customer_last_txn_fiscal_date s_customer_region_grouped  \\\n",
       "155667                    2020-07-07                      Asia   \n",
       "130275                    2020-09-13                      Asia   \n",
       "143679                    2020-09-09                      Asia   \n",
       "140543                    2020-10-09                      Asia   \n",
       "160000                    2020-09-07                      Asia   \n",
       "\n",
       "        L12M Transaction Count_right  L24M Transaction Count_right  \\\n",
       "155667                             0                             1   \n",
       "130275                             0                             5   \n",
       "143679                             0                             1   \n",
       "140543                             0                             1   \n",
       "160000                             0                             3   \n",
       "\n",
       "        L36M Transaction Count_right  L12M Principal_right  \\\n",
       "155667                             1                   0.0   \n",
       "130275                             5                   0.0   \n",
       "143679                             1                   0.0   \n",
       "140543                             1                   0.0   \n",
       "160000                             3                   0.0   \n",
       "\n",
       "        L24M Principal_right  L36M Principal_right  L12M Revenue_right  \\\n",
       "155667              3314.683              3314.683                 0.0   \n",
       "130275             38193.432             38193.432                 0.0   \n",
       "143679             12615.964             12615.964                 0.0   \n",
       "140543             16427.417             16427.417                 0.0   \n",
       "160000              1475.246              1475.246                 0.0   \n",
       "\n",
       "        L24M Revenue_right  L36M Revenue_right  \n",
       "155667              68.035              68.035  \n",
       "130275              89.858              89.858  \n",
       "143679              18.346              18.346  \n",
       "140543             127.288             127.288  \n",
       "160000              37.173              37.173  "
      ]
     },
     "execution_count": 95,
     "metadata": {},
     "output_type": "execute_result"
    }
   ],
   "source": [
    "pd.set_option('display.max_columns',30)\n",
    "matched_results_Asia.sort_values(by=['best_match_score'], ascending=False).head(5)"
   ]
  },
  {
   "cell_type": "code",
   "execution_count": 96,
   "metadata": {},
   "outputs": [],
   "source": [
    "transaction_Europe = transaction_df[transaction_df['Customer_Sub_Region'] == 'Europe']\n",
    "customer_Europe = customer_df[customer_df['s_customer_region_grouped'] == 'Europe']"
   ]
  },
  {
   "cell_type": "code",
   "execution_count": 97,
   "metadata": {},
   "outputs": [],
   "source": [
    "matched_results_Europe = fuzzymatcher.fuzzy_left_join(transaction_Europe,\n",
    "                                            customer_Europe,\n",
    "                                            left_on,\n",
    "                                            right_on,\n",
    "                                            left_id_col='Customer_Company_Name',\n",
    "                                            right_id_col='customer_id')"
   ]
  },
  {
   "cell_type": "code",
   "execution_count": 98,
   "metadata": {},
   "outputs": [],
   "source": [
    "transaction_NA = transaction_df[transaction_df['Customer_Sub_Region'] == 'North America']\n",
    "customer_NA = customer_df[customer_df['s_customer_region_grouped'] == 'North America']"
   ]
  },
  {
   "cell_type": "code",
   "execution_count": 99,
   "metadata": {},
   "outputs": [],
   "source": [
    "matched_results_NA = fuzzymatcher.fuzzy_left_join(transaction_NA,\n",
    "                                            customer_NA,\n",
    "                                            left_on,\n",
    "                                            right_on,\n",
    "                                            left_id_col='Customer_Company_Name',\n",
    "                                            right_id_col='customer_id')"
   ]
  },
  {
   "cell_type": "code",
   "execution_count": 100,
   "metadata": {},
   "outputs": [],
   "source": [
    "transaction_ANZ = transaction_df[transaction_df['Customer_Sub_Region'] == 'ANZ']\n",
    "customer_ANZ = customer_df[customer_df['s_customer_region_grouped'] == 'ANZ']"
   ]
  },
  {
   "cell_type": "code",
   "execution_count": 101,
   "metadata": {},
   "outputs": [],
   "source": [
    "matched_results_ANZ = fuzzymatcher.fuzzy_left_join(transaction_ANZ,\n",
    "                                            customer_ANZ,\n",
    "                                            left_on,\n",
    "                                            right_on,\n",
    "                                            left_id_col='Customer_Company_Name',\n",
    "                                            right_id_col='customer_id')"
   ]
  },
  {
   "cell_type": "code",
   "execution_count": 102,
   "metadata": {},
   "outputs": [],
   "source": [
    "matched_results = pd.concat([matched_results_Asia,matched_results_Europe],axis=0)"
   ]
  },
  {
   "cell_type": "code",
   "execution_count": 103,
   "metadata": {},
   "outputs": [],
   "source": [
    "matched_results = pd.concat([matched_results,matched_results_NA],axis=0)"
   ]
  },
  {
   "cell_type": "code",
   "execution_count": 104,
   "metadata": {},
   "outputs": [],
   "source": [
    "matched_results = pd.concat([matched_results,matched_results_ANZ],axis=0)"
   ]
  },
  {
   "cell_type": "code",
   "execution_count": 105,
   "metadata": {},
   "outputs": [
    {
     "data": {
      "text/html": [
       "<div>\n",
       "<style scoped>\n",
       "    .dataframe tbody tr th:only-of-type {\n",
       "        vertical-align: middle;\n",
       "    }\n",
       "\n",
       "    .dataframe tbody tr th {\n",
       "        vertical-align: top;\n",
       "    }\n",
       "\n",
       "    .dataframe thead th {\n",
       "        text-align: right;\n",
       "    }\n",
       "</style>\n",
       "<table border=\"1\" class=\"dataframe\">\n",
       "  <thead>\n",
       "    <tr style=\"text-align: right;\">\n",
       "      <th></th>\n",
       "      <th>best_match_score</th>\n",
       "      <th>__id_left</th>\n",
       "      <th>__id_right</th>\n",
       "      <th>Customer_Company_Name</th>\n",
       "      <th>Customer_Sub_Region</th>\n",
       "      <th>First</th>\n",
       "      <th>Last Deal</th>\n",
       "      <th>L12M Transaction Count_left</th>\n",
       "      <th>L12M Principal_left</th>\n",
       "      <th>L12M Revenue_left</th>\n",
       "      <th>L24M Transaction Count_left</th>\n",
       "      <th>L24M Principal_left</th>\n",
       "      <th>L24M Revenue_left</th>\n",
       "      <th>L36M Transaction Count_left</th>\n",
       "      <th>L36M Principal_left</th>\n",
       "      <th>L36M Revenue_left</th>\n",
       "      <th>customer_id</th>\n",
       "      <th>customer_fiscal_start_date</th>\n",
       "      <th>customer_last_txn_fiscal_date</th>\n",
       "      <th>s_customer_region_grouped</th>\n",
       "      <th>L12M Transaction Count_right</th>\n",
       "      <th>L24M Transaction Count_right</th>\n",
       "      <th>L36M Transaction Count_right</th>\n",
       "      <th>L12M Principal_right</th>\n",
       "      <th>L24M Principal_right</th>\n",
       "      <th>L36M Principal_right</th>\n",
       "      <th>L12M Revenue_right</th>\n",
       "      <th>L24M Revenue_right</th>\n",
       "      <th>L36M Revenue_right</th>\n",
       "    </tr>\n",
       "  </thead>\n",
       "  <tbody>\n",
       "    <tr>\n",
       "      <th>4298109</th>\n",
       "      <td>-0.427759</td>\n",
       "      <td>OACMYPTDLT</td>\n",
       "      <td>9F40244D-C598-4C21-AADD-89B007523140</td>\n",
       "      <td>OACMYPTDLT</td>\n",
       "      <td>ANZ</td>\n",
       "      <td>2020-10-15</td>\n",
       "      <td>2020-10-15</td>\n",
       "      <td>0</td>\n",
       "      <td>NaN</td>\n",
       "      <td>NaN</td>\n",
       "      <td>1</td>\n",
       "      <td>50.00</td>\n",
       "      <td>0.000</td>\n",
       "      <td>1</td>\n",
       "      <td>50.00</td>\n",
       "      <td>0.000</td>\n",
       "      <td>9F40244D-C598-4C21-AADD-89B007523140</td>\n",
       "      <td>2016-10-15</td>\n",
       "      <td>2017-12-09</td>\n",
       "      <td>ANZ</td>\n",
       "      <td>0</td>\n",
       "      <td>0</td>\n",
       "      <td>0</td>\n",
       "      <td>0.0</td>\n",
       "      <td>0.0</td>\n",
       "      <td>0.0</td>\n",
       "      <td>0.0</td>\n",
       "      <td>0.0</td>\n",
       "      <td>0.0</td>\n",
       "    </tr>\n",
       "    <tr>\n",
       "      <th>4298316</th>\n",
       "      <td>-1.097425</td>\n",
       "      <td>weetSssomBloandyCyPtitedLim</td>\n",
       "      <td>9F40244D-C598-4C21-AADD-89B007523140</td>\n",
       "      <td>weetSssomBloandyCyPtitedLim</td>\n",
       "      <td>ANZ</td>\n",
       "      <td>2020-12-09</td>\n",
       "      <td>2020-12-09</td>\n",
       "      <td>0</td>\n",
       "      <td>NaN</td>\n",
       "      <td>NaN</td>\n",
       "      <td>1</td>\n",
       "      <td>47.50</td>\n",
       "      <td>16.078</td>\n",
       "      <td>1</td>\n",
       "      <td>47.50</td>\n",
       "      <td>16.078</td>\n",
       "      <td>9F40244D-C598-4C21-AADD-89B007523140</td>\n",
       "      <td>2016-10-15</td>\n",
       "      <td>2017-12-09</td>\n",
       "      <td>ANZ</td>\n",
       "      <td>0</td>\n",
       "      <td>0</td>\n",
       "      <td>0</td>\n",
       "      <td>0.0</td>\n",
       "      <td>0.0</td>\n",
       "      <td>0.0</td>\n",
       "      <td>0.0</td>\n",
       "      <td>0.0</td>\n",
       "      <td>0.0</td>\n",
       "    </tr>\n",
       "    <tr>\n",
       "      <th>4298567</th>\n",
       "      <td>0.257643</td>\n",
       "      <td>DaPoyPtdLt</td>\n",
       "      <td>D5ED2B22-D6F9-413B-8CFB-2B14F5EE308E</td>\n",
       "      <td>DaPoyPtdLt</td>\n",
       "      <td>ANZ</td>\n",
       "      <td>2013-03-05</td>\n",
       "      <td>2013-03-05</td>\n",
       "      <td>0</td>\n",
       "      <td>0.0</td>\n",
       "      <td>0.0</td>\n",
       "      <td>0</td>\n",
       "      <td>0.00</td>\n",
       "      <td>0.000</td>\n",
       "      <td>0</td>\n",
       "      <td>0.00</td>\n",
       "      <td>0.000</td>\n",
       "      <td>D5ED2B22-D6F9-413B-8CFB-2B14F5EE308E</td>\n",
       "      <td>2013-03-07</td>\n",
       "      <td>2017-03-05</td>\n",
       "      <td>ANZ</td>\n",
       "      <td>0</td>\n",
       "      <td>0</td>\n",
       "      <td>0</td>\n",
       "      <td>0.0</td>\n",
       "      <td>0.0</td>\n",
       "      <td>0.0</td>\n",
       "      <td>0.0</td>\n",
       "      <td>0.0</td>\n",
       "      <td>0.0</td>\n",
       "    </tr>\n",
       "    <tr>\n",
       "      <th>4298617</th>\n",
       "      <td>-0.352704</td>\n",
       "      <td>edinRubbyPtdLt</td>\n",
       "      <td>E36AFA27-BC80-4E56-92EB-D960D2785ED2</td>\n",
       "      <td>edinRubbyPtdLt</td>\n",
       "      <td>ANZ</td>\n",
       "      <td>2018-10-10</td>\n",
       "      <td>2018-10-10</td>\n",
       "      <td>0</td>\n",
       "      <td>0.0</td>\n",
       "      <td>0.0</td>\n",
       "      <td>0</td>\n",
       "      <td>0.00</td>\n",
       "      <td>0.000</td>\n",
       "      <td>1</td>\n",
       "      <td>21.50</td>\n",
       "      <td>15.859</td>\n",
       "      <td>E36AFA27-BC80-4E56-92EB-D960D2785ED2</td>\n",
       "      <td>2011-10-31</td>\n",
       "      <td>2017-10-10</td>\n",
       "      <td>ANZ</td>\n",
       "      <td>0</td>\n",
       "      <td>0</td>\n",
       "      <td>0</td>\n",
       "      <td>0.0</td>\n",
       "      <td>0.0</td>\n",
       "      <td>0.0</td>\n",
       "      <td>0.0</td>\n",
       "      <td>0.0</td>\n",
       "      <td>0.0</td>\n",
       "    </tr>\n",
       "    <tr>\n",
       "      <th>4298828</th>\n",
       "      <td>-1.006080</td>\n",
       "      <td>OXoolsTAUyPtdLtAT/ITECUNPPLYSUPANYCOM</td>\n",
       "      <td>2E8A90F4-CD70-4FFB-9142-E5292DFB96B8</td>\n",
       "      <td>OXoolsTAUyPtdLtAT/ITECUNPPLYSUPANYCOM</td>\n",
       "      <td>ANZ</td>\n",
       "      <td>2020-09-17</td>\n",
       "      <td>2020-09-17</td>\n",
       "      <td>0</td>\n",
       "      <td>0.0</td>\n",
       "      <td>0.0</td>\n",
       "      <td>1</td>\n",
       "      <td>9.91</td>\n",
       "      <td>15.404</td>\n",
       "      <td>1</td>\n",
       "      <td>9.91</td>\n",
       "      <td>15.404</td>\n",
       "      <td>2E8A90F4-CD70-4FFB-9142-E5292DFB96B8</td>\n",
       "      <td>2015-09-17</td>\n",
       "      <td>2017-01-27</td>\n",
       "      <td>ANZ</td>\n",
       "      <td>0</td>\n",
       "      <td>0</td>\n",
       "      <td>0</td>\n",
       "      <td>0.0</td>\n",
       "      <td>0.0</td>\n",
       "      <td>0.0</td>\n",
       "      <td>0.0</td>\n",
       "      <td>0.0</td>\n",
       "      <td>0.0</td>\n",
       "    </tr>\n",
       "  </tbody>\n",
       "</table>\n",
       "</div>"
      ],
      "text/plain": [
       "         best_match_score                              __id_left  \\\n",
       "4298109         -0.427759                             OACMYPTDLT   \n",
       "4298316         -1.097425            weetSssomBloandyCyPtitedLim   \n",
       "4298567          0.257643                             DaPoyPtdLt   \n",
       "4298617         -0.352704                         edinRubbyPtdLt   \n",
       "4298828         -1.006080  OXoolsTAUyPtdLtAT/ITECUNPPLYSUPANYCOM   \n",
       "\n",
       "                                   __id_right  \\\n",
       "4298109  9F40244D-C598-4C21-AADD-89B007523140   \n",
       "4298316  9F40244D-C598-4C21-AADD-89B007523140   \n",
       "4298567  D5ED2B22-D6F9-413B-8CFB-2B14F5EE308E   \n",
       "4298617  E36AFA27-BC80-4E56-92EB-D960D2785ED2   \n",
       "4298828  2E8A90F4-CD70-4FFB-9142-E5292DFB96B8   \n",
       "\n",
       "                         Customer_Company_Name Customer_Sub_Region      First  \\\n",
       "4298109                             OACMYPTDLT                 ANZ 2020-10-15   \n",
       "4298316            weetSssomBloandyCyPtitedLim                 ANZ 2020-12-09   \n",
       "4298567                             DaPoyPtdLt                 ANZ 2013-03-05   \n",
       "4298617                         edinRubbyPtdLt                 ANZ 2018-10-10   \n",
       "4298828  OXoolsTAUyPtdLtAT/ITECUNPPLYSUPANYCOM                 ANZ 2020-09-17   \n",
       "\n",
       "         Last Deal  L12M Transaction Count_left  L12M Principal_left  \\\n",
       "4298109 2020-10-15                            0                  NaN   \n",
       "4298316 2020-12-09                            0                  NaN   \n",
       "4298567 2013-03-05                            0                  0.0   \n",
       "4298617 2018-10-10                            0                  0.0   \n",
       "4298828 2020-09-17                            0                  0.0   \n",
       "\n",
       "         L12M Revenue_left  L24M Transaction Count_left  L24M Principal_left  \\\n",
       "4298109                NaN                            1                50.00   \n",
       "4298316                NaN                            1                47.50   \n",
       "4298567                0.0                            0                 0.00   \n",
       "4298617                0.0                            0                 0.00   \n",
       "4298828                0.0                            1                 9.91   \n",
       "\n",
       "         L24M Revenue_left  L36M Transaction Count_left  L36M Principal_left  \\\n",
       "4298109              0.000                            1                50.00   \n",
       "4298316             16.078                            1                47.50   \n",
       "4298567              0.000                            0                 0.00   \n",
       "4298617              0.000                            1                21.50   \n",
       "4298828             15.404                            1                 9.91   \n",
       "\n",
       "         L36M Revenue_left                           customer_id  \\\n",
       "4298109              0.000  9F40244D-C598-4C21-AADD-89B007523140   \n",
       "4298316             16.078  9F40244D-C598-4C21-AADD-89B007523140   \n",
       "4298567              0.000  D5ED2B22-D6F9-413B-8CFB-2B14F5EE308E   \n",
       "4298617             15.859  E36AFA27-BC80-4E56-92EB-D960D2785ED2   \n",
       "4298828             15.404  2E8A90F4-CD70-4FFB-9142-E5292DFB96B8   \n",
       "\n",
       "        customer_fiscal_start_date customer_last_txn_fiscal_date  \\\n",
       "4298109                 2016-10-15                    2017-12-09   \n",
       "4298316                 2016-10-15                    2017-12-09   \n",
       "4298567                 2013-03-07                    2017-03-05   \n",
       "4298617                 2011-10-31                    2017-10-10   \n",
       "4298828                 2015-09-17                    2017-01-27   \n",
       "\n",
       "        s_customer_region_grouped  L12M Transaction Count_right  \\\n",
       "4298109                       ANZ                             0   \n",
       "4298316                       ANZ                             0   \n",
       "4298567                       ANZ                             0   \n",
       "4298617                       ANZ                             0   \n",
       "4298828                       ANZ                             0   \n",
       "\n",
       "         L24M Transaction Count_right  L36M Transaction Count_right  \\\n",
       "4298109                             0                             0   \n",
       "4298316                             0                             0   \n",
       "4298567                             0                             0   \n",
       "4298617                             0                             0   \n",
       "4298828                             0                             0   \n",
       "\n",
       "         L12M Principal_right  L24M Principal_right  L36M Principal_right  \\\n",
       "4298109                   0.0                   0.0                   0.0   \n",
       "4298316                   0.0                   0.0                   0.0   \n",
       "4298567                   0.0                   0.0                   0.0   \n",
       "4298617                   0.0                   0.0                   0.0   \n",
       "4298828                   0.0                   0.0                   0.0   \n",
       "\n",
       "         L12M Revenue_right  L24M Revenue_right  L36M Revenue_right  \n",
       "4298109                 0.0                 0.0                 0.0  \n",
       "4298316                 0.0                 0.0                 0.0  \n",
       "4298567                 0.0                 0.0                 0.0  \n",
       "4298617                 0.0                 0.0                 0.0  \n",
       "4298828                 0.0                 0.0                 0.0  "
      ]
     },
     "execution_count": 105,
     "metadata": {},
     "output_type": "execute_result"
    }
   ],
   "source": [
    "matched_results.tail()"
   ]
  },
  {
   "cell_type": "code",
   "execution_count": 145,
   "metadata": {},
   "outputs": [],
   "source": [
    "final = matched_results[matched_results['best_match_score']>=0.6]"
   ]
  },
  {
   "cell_type": "code",
   "execution_count": 146,
   "metadata": {},
   "outputs": [
    {
     "data": {
      "text/plain": [
       "347"
      ]
     },
     "execution_count": 146,
     "metadata": {},
     "output_type": "execute_result"
    }
   ],
   "source": [
    "final['customer_id'].nunique()"
   ]
  },
  {
   "cell_type": "code",
   "execution_count": 108,
   "metadata": {},
   "outputs": [],
   "source": [
    "file_name = 'Matched_results.xlsx'\n",
    "matched_results.to_excel(file_name)"
   ]
  },
  {
   "cell_type": "code",
   "execution_count": 109,
   "metadata": {},
   "outputs": [
    {
     "data": {
      "text/plain": [
       "(48728, 29)"
      ]
     },
     "execution_count": 109,
     "metadata": {},
     "output_type": "execute_result"
    }
   ],
   "source": [
    "matched_results.shape"
   ]
  },
  {
   "cell_type": "code",
   "execution_count": 110,
   "metadata": {},
   "outputs": [
    {
     "data": {
      "text/plain": [
       "20252"
      ]
     },
     "execution_count": 110,
     "metadata": {},
     "output_type": "execute_result"
    }
   ],
   "source": [
    "matched_results['customer_id'].nunique()"
   ]
  },
  {
   "cell_type": "code",
   "execution_count": 147,
   "metadata": {},
   "outputs": [
    {
     "data": {
      "text/plain": [
       "(347, 29)"
      ]
     },
     "execution_count": 147,
     "metadata": {},
     "output_type": "execute_result"
    }
   ],
   "source": [
    "final.shape"
   ]
  },
  {
   "cell_type": "code",
   "execution_count": 124,
   "metadata": {},
   "outputs": [],
   "source": [
    "final1 = matched_results[matched_results['best_match_score']>=0.2]"
   ]
  },
  {
   "cell_type": "code",
   "execution_count": 121,
   "metadata": {},
   "outputs": [
    {
     "data": {
      "text/plain": [
       "10323"
      ]
     },
     "execution_count": 121,
     "metadata": {},
     "output_type": "execute_result"
    }
   ],
   "source": [
    "matched_results[matched_results['best_match_score']>=0.2]['customer_id'].nunique()"
   ]
  },
  {
   "cell_type": "code",
   "execution_count": 125,
   "metadata": {},
   "outputs": [
    {
     "data": {
      "text/plain": [
       "(13431, 29)"
      ]
     },
     "execution_count": 125,
     "metadata": {},
     "output_type": "execute_result"
    }
   ],
   "source": [
    "final1.shape"
   ]
  },
  {
   "cell_type": "code",
   "execution_count": 119,
   "metadata": {},
   "outputs": [
    {
     "data": {
      "text/html": [
       "<div>\n",
       "<style scoped>\n",
       "    .dataframe tbody tr th:only-of-type {\n",
       "        vertical-align: middle;\n",
       "    }\n",
       "\n",
       "    .dataframe tbody tr th {\n",
       "        vertical-align: top;\n",
       "    }\n",
       "\n",
       "    .dataframe thead th {\n",
       "        text-align: right;\n",
       "    }\n",
       "</style>\n",
       "<table border=\"1\" class=\"dataframe\">\n",
       "  <thead>\n",
       "    <tr style=\"text-align: right;\">\n",
       "      <th></th>\n",
       "      <th>best_match_score</th>\n",
       "      <th>__id_left</th>\n",
       "      <th>__id_right</th>\n",
       "      <th>Customer_Company_Name</th>\n",
       "      <th>Customer_Sub_Region</th>\n",
       "      <th>First</th>\n",
       "      <th>Last Deal</th>\n",
       "      <th>L12M Transaction Count_left</th>\n",
       "      <th>L12M Principal_left</th>\n",
       "      <th>L12M Revenue_left</th>\n",
       "      <th>L24M Transaction Count_left</th>\n",
       "      <th>L24M Principal_left</th>\n",
       "      <th>L24M Revenue_left</th>\n",
       "      <th>L36M Transaction Count_left</th>\n",
       "      <th>L36M Principal_left</th>\n",
       "      <th>L36M Revenue_left</th>\n",
       "      <th>customer_id</th>\n",
       "      <th>customer_fiscal_start_date</th>\n",
       "      <th>customer_last_txn_fiscal_date</th>\n",
       "      <th>s_customer_region_grouped</th>\n",
       "      <th>L12M Transaction Count_right</th>\n",
       "      <th>L24M Transaction Count_right</th>\n",
       "      <th>L36M Transaction Count_right</th>\n",
       "      <th>L12M Principal_right</th>\n",
       "      <th>L24M Principal_right</th>\n",
       "      <th>L36M Principal_right</th>\n",
       "      <th>L12M Revenue_right</th>\n",
       "      <th>L24M Revenue_right</th>\n",
       "      <th>L36M Revenue_right</th>\n",
       "    </tr>\n",
       "  </thead>\n",
       "  <tbody>\n",
       "    <tr>\n",
       "      <th>2338824</th>\n",
       "      <td>1.206367</td>\n",
       "      <td>maryPrialesSaliaAustryPtdLt</td>\n",
       "      <td>ED43E885-1A33-496D-83C3-43AD385F7716</td>\n",
       "      <td>maryPrialesSaliaAustryPtdLt</td>\n",
       "      <td>ANZ</td>\n",
       "      <td>2018-07-27</td>\n",
       "      <td>2019-12-17</td>\n",
       "      <td>0</td>\n",
       "      <td>0.0</td>\n",
       "      <td>0.0</td>\n",
       "      <td>10</td>\n",
       "      <td>273119.310</td>\n",
       "      <td>2440.760</td>\n",
       "      <td>11</td>\n",
       "      <td>290413.220</td>\n",
       "      <td>2602.259</td>\n",
       "      <td>ED43E885-1A33-496D-83C3-43AD385F7716</td>\n",
       "      <td>2019-04-27</td>\n",
       "      <td>2020-09-17</td>\n",
       "      <td>ANZ</td>\n",
       "      <td>0</td>\n",
       "      <td>10</td>\n",
       "      <td>11</td>\n",
       "      <td>0.0</td>\n",
       "      <td>273119.310</td>\n",
       "      <td>290413.220</td>\n",
       "      <td>0.0</td>\n",
       "      <td>2440.760</td>\n",
       "      <td>2602.259</td>\n",
       "    </tr>\n",
       "    <tr>\n",
       "      <th>2049849</th>\n",
       "      <td>1.202743</td>\n",
       "      <td>landHylebyPtdLt</td>\n",
       "      <td>C2C62499-F2FE-47BD-AC42-74A9FB5827C1</td>\n",
       "      <td>landHylebyPtdLt</td>\n",
       "      <td>ANZ</td>\n",
       "      <td>2006-03-16</td>\n",
       "      <td>2019-10-02</td>\n",
       "      <td>0</td>\n",
       "      <td>0.0</td>\n",
       "      <td>0.0</td>\n",
       "      <td>8</td>\n",
       "      <td>69607.760</td>\n",
       "      <td>420.202</td>\n",
       "      <td>8</td>\n",
       "      <td>69607.760</td>\n",
       "      <td>420.202</td>\n",
       "      <td>C2C62499-F2FE-47BD-AC42-74A9FB5827C1</td>\n",
       "      <td>2006-12-16</td>\n",
       "      <td>2020-02-07</td>\n",
       "      <td>ANZ</td>\n",
       "      <td>0</td>\n",
       "      <td>8</td>\n",
       "      <td>8</td>\n",
       "      <td>0.0</td>\n",
       "      <td>69607.760</td>\n",
       "      <td>69607.760</td>\n",
       "      <td>0.0</td>\n",
       "      <td>420.202</td>\n",
       "      <td>420.202</td>\n",
       "    </tr>\n",
       "    <tr>\n",
       "      <th>2538742</th>\n",
       "      <td>1.199702</td>\n",
       "      <td>AWICGYPTDLT</td>\n",
       "      <td>83F9AD37-C4A3-49EB-BA7D-7973360DC022</td>\n",
       "      <td>AWICGYPTDLT</td>\n",
       "      <td>ANZ</td>\n",
       "      <td>2019-08-06</td>\n",
       "      <td>2019-12-09</td>\n",
       "      <td>0</td>\n",
       "      <td>0.0</td>\n",
       "      <td>0.0</td>\n",
       "      <td>2</td>\n",
       "      <td>224848.444</td>\n",
       "      <td>1286.374</td>\n",
       "      <td>2</td>\n",
       "      <td>224848.444</td>\n",
       "      <td>1286.374</td>\n",
       "      <td>83F9AD37-C4A3-49EB-BA7D-7973360DC022</td>\n",
       "      <td>2020-06-05</td>\n",
       "      <td>2020-09-09</td>\n",
       "      <td>ANZ</td>\n",
       "      <td>0</td>\n",
       "      <td>2</td>\n",
       "      <td>2</td>\n",
       "      <td>0.0</td>\n",
       "      <td>224848.444</td>\n",
       "      <td>224848.444</td>\n",
       "      <td>0.0</td>\n",
       "      <td>1286.374</td>\n",
       "      <td>1286.374</td>\n",
       "    </tr>\n",
       "    <tr>\n",
       "      <th>370934</th>\n",
       "      <td>1.180579</td>\n",
       "      <td>ESTASIONALINTERNATIDAYSHOLIITEDLIM</td>\n",
       "      <td>09382456-34AB-4320-A31C-2D5DE4920C2F</td>\n",
       "      <td>ESTASIONALINTERNATIDAYSHOLIITEDLIM</td>\n",
       "      <td>Europe</td>\n",
       "      <td>2019-07-24</td>\n",
       "      <td>2019-12-16</td>\n",
       "      <td>0</td>\n",
       "      <td>0.0</td>\n",
       "      <td>0.0</td>\n",
       "      <td>5</td>\n",
       "      <td>700104.372</td>\n",
       "      <td>2260.950</td>\n",
       "      <td>5</td>\n",
       "      <td>700104.372</td>\n",
       "      <td>2260.950</td>\n",
       "      <td>09382456-34AB-4320-A31C-2D5DE4920C2F</td>\n",
       "      <td>2020-04-24</td>\n",
       "      <td>2020-09-16</td>\n",
       "      <td>Europe</td>\n",
       "      <td>0</td>\n",
       "      <td>5</td>\n",
       "      <td>5</td>\n",
       "      <td>0.0</td>\n",
       "      <td>700104.372</td>\n",
       "      <td>700104.372</td>\n",
       "      <td>0.0</td>\n",
       "      <td>2260.950</td>\n",
       "      <td>2260.950</td>\n",
       "    </tr>\n",
       "    <tr>\n",
       "      <th>181202</th>\n",
       "      <td>1.160322</td>\n",
       "      <td>AKMDuperSyPtdLt</td>\n",
       "      <td>5F9E15B9-B9BB-4986-9715-8272B8EE5ED4</td>\n",
       "      <td>AKMDuperSyPtdLt</td>\n",
       "      <td>ANZ</td>\n",
       "      <td>2019-09-17</td>\n",
       "      <td>2019-10-16</td>\n",
       "      <td>0</td>\n",
       "      <td>0.0</td>\n",
       "      <td>0.0</td>\n",
       "      <td>2</td>\n",
       "      <td>507233.888</td>\n",
       "      <td>2199.200</td>\n",
       "      <td>2</td>\n",
       "      <td>507233.888</td>\n",
       "      <td>2199.200</td>\n",
       "      <td>5F9E15B9-B9BB-4986-9715-8272B8EE5ED4</td>\n",
       "      <td>2020-06-17</td>\n",
       "      <td>2020-07-16</td>\n",
       "      <td>ANZ</td>\n",
       "      <td>0</td>\n",
       "      <td>2</td>\n",
       "      <td>2</td>\n",
       "      <td>0.0</td>\n",
       "      <td>507233.888</td>\n",
       "      <td>507233.888</td>\n",
       "      <td>0.0</td>\n",
       "      <td>2199.200</td>\n",
       "      <td>2199.200</td>\n",
       "    </tr>\n",
       "  </tbody>\n",
       "</table>\n",
       "</div>"
      ],
      "text/plain": [
       "         best_match_score                           __id_left  \\\n",
       "2338824          1.206367         maryPrialesSaliaAustryPtdLt   \n",
       "2049849          1.202743                     landHylebyPtdLt   \n",
       "2538742          1.199702                         AWICGYPTDLT   \n",
       "370934           1.180579  ESTASIONALINTERNATIDAYSHOLIITEDLIM   \n",
       "181202           1.160322                     AKMDuperSyPtdLt   \n",
       "\n",
       "                                   __id_right  \\\n",
       "2338824  ED43E885-1A33-496D-83C3-43AD385F7716   \n",
       "2049849  C2C62499-F2FE-47BD-AC42-74A9FB5827C1   \n",
       "2538742  83F9AD37-C4A3-49EB-BA7D-7973360DC022   \n",
       "370934   09382456-34AB-4320-A31C-2D5DE4920C2F   \n",
       "181202   5F9E15B9-B9BB-4986-9715-8272B8EE5ED4   \n",
       "\n",
       "                      Customer_Company_Name Customer_Sub_Region      First  \\\n",
       "2338824         maryPrialesSaliaAustryPtdLt                 ANZ 2018-07-27   \n",
       "2049849                     landHylebyPtdLt                 ANZ 2006-03-16   \n",
       "2538742                         AWICGYPTDLT                 ANZ 2019-08-06   \n",
       "370934   ESTASIONALINTERNATIDAYSHOLIITEDLIM              Europe 2019-07-24   \n",
       "181202                      AKMDuperSyPtdLt                 ANZ 2019-09-17   \n",
       "\n",
       "         Last Deal  L12M Transaction Count_left  L12M Principal_left  \\\n",
       "2338824 2019-12-17                            0                  0.0   \n",
       "2049849 2019-10-02                            0                  0.0   \n",
       "2538742 2019-12-09                            0                  0.0   \n",
       "370934  2019-12-16                            0                  0.0   \n",
       "181202  2019-10-16                            0                  0.0   \n",
       "\n",
       "         L12M Revenue_left  L24M Transaction Count_left  L24M Principal_left  \\\n",
       "2338824                0.0                           10           273119.310   \n",
       "2049849                0.0                            8            69607.760   \n",
       "2538742                0.0                            2           224848.444   \n",
       "370934                 0.0                            5           700104.372   \n",
       "181202                 0.0                            2           507233.888   \n",
       "\n",
       "         L24M Revenue_left  L36M Transaction Count_left  L36M Principal_left  \\\n",
       "2338824           2440.760                           11           290413.220   \n",
       "2049849            420.202                            8            69607.760   \n",
       "2538742           1286.374                            2           224848.444   \n",
       "370934            2260.950                            5           700104.372   \n",
       "181202            2199.200                            2           507233.888   \n",
       "\n",
       "         L36M Revenue_left                           customer_id  \\\n",
       "2338824           2602.259  ED43E885-1A33-496D-83C3-43AD385F7716   \n",
       "2049849            420.202  C2C62499-F2FE-47BD-AC42-74A9FB5827C1   \n",
       "2538742           1286.374  83F9AD37-C4A3-49EB-BA7D-7973360DC022   \n",
       "370934            2260.950  09382456-34AB-4320-A31C-2D5DE4920C2F   \n",
       "181202            2199.200  5F9E15B9-B9BB-4986-9715-8272B8EE5ED4   \n",
       "\n",
       "        customer_fiscal_start_date customer_last_txn_fiscal_date  \\\n",
       "2338824                 2019-04-27                    2020-09-17   \n",
       "2049849                 2006-12-16                    2020-02-07   \n",
       "2538742                 2020-06-05                    2020-09-09   \n",
       "370934                  2020-04-24                    2020-09-16   \n",
       "181202                  2020-06-17                    2020-07-16   \n",
       "\n",
       "        s_customer_region_grouped  L12M Transaction Count_right  \\\n",
       "2338824                       ANZ                             0   \n",
       "2049849                       ANZ                             0   \n",
       "2538742                       ANZ                             0   \n",
       "370934                     Europe                             0   \n",
       "181202                        ANZ                             0   \n",
       "\n",
       "         L24M Transaction Count_right  L36M Transaction Count_right  \\\n",
       "2338824                            10                            11   \n",
       "2049849                             8                             8   \n",
       "2538742                             2                             2   \n",
       "370934                              5                             5   \n",
       "181202                              2                             2   \n",
       "\n",
       "         L12M Principal_right  L24M Principal_right  L36M Principal_right  \\\n",
       "2338824                   0.0            273119.310            290413.220   \n",
       "2049849                   0.0             69607.760             69607.760   \n",
       "2538742                   0.0            224848.444            224848.444   \n",
       "370934                    0.0            700104.372            700104.372   \n",
       "181202                    0.0            507233.888            507233.888   \n",
       "\n",
       "         L12M Revenue_right  L24M Revenue_right  L36M Revenue_right  \n",
       "2338824                 0.0            2440.760            2602.259  \n",
       "2049849                 0.0             420.202             420.202  \n",
       "2538742                 0.0            1286.374            1286.374  \n",
       "370934                  0.0            2260.950            2260.950  \n",
       "181202                  0.0            2199.200            2199.200  "
      ]
     },
     "execution_count": 119,
     "metadata": {},
     "output_type": "execute_result"
    }
   ],
   "source": [
    "matched_results.sort_values(by=['best_match_score'], ascending=False).head(5)"
   ]
  },
  {
   "cell_type": "code",
   "execution_count": 120,
   "metadata": {},
   "outputs": [
    {
     "data": {
      "text/html": [
       "<div>\n",
       "<style scoped>\n",
       "    .dataframe tbody tr th:only-of-type {\n",
       "        vertical-align: middle;\n",
       "    }\n",
       "\n",
       "    .dataframe tbody tr th {\n",
       "        vertical-align: top;\n",
       "    }\n",
       "\n",
       "    .dataframe thead th {\n",
       "        text-align: right;\n",
       "    }\n",
       "</style>\n",
       "<table border=\"1\" class=\"dataframe\">\n",
       "  <thead>\n",
       "    <tr style=\"text-align: right;\">\n",
       "      <th></th>\n",
       "      <th>best_match_score</th>\n",
       "      <th>__id_left</th>\n",
       "      <th>__id_right</th>\n",
       "      <th>Customer_Company_Name</th>\n",
       "      <th>Customer_Sub_Region</th>\n",
       "      <th>First</th>\n",
       "      <th>Last Deal</th>\n",
       "      <th>L12M Transaction Count_left</th>\n",
       "      <th>L12M Principal_left</th>\n",
       "      <th>L12M Revenue_left</th>\n",
       "      <th>L24M Transaction Count_left</th>\n",
       "      <th>L24M Principal_left</th>\n",
       "      <th>L24M Revenue_left</th>\n",
       "      <th>L36M Transaction Count_left</th>\n",
       "      <th>L36M Principal_left</th>\n",
       "      <th>L36M Revenue_left</th>\n",
       "      <th>customer_id</th>\n",
       "      <th>customer_fiscal_start_date</th>\n",
       "      <th>customer_last_txn_fiscal_date</th>\n",
       "      <th>s_customer_region_grouped</th>\n",
       "      <th>L12M Transaction Count_right</th>\n",
       "      <th>L24M Transaction Count_right</th>\n",
       "      <th>L36M Transaction Count_right</th>\n",
       "      <th>L12M Principal_right</th>\n",
       "      <th>L24M Principal_right</th>\n",
       "      <th>L36M Principal_right</th>\n",
       "      <th>L12M Revenue_right</th>\n",
       "      <th>L24M Revenue_right</th>\n",
       "      <th>L36M Revenue_right</th>\n",
       "    </tr>\n",
       "  </thead>\n",
       "  <tbody>\n",
       "    <tr>\n",
       "      <th>20360</th>\n",
       "      <td>-3.411469</td>\n",
       "      <td>RPAKPOWEROUPGYPTDLT</td>\n",
       "      <td>D850E033-2361-4401-B5E8-A87D4874BB2F</td>\n",
       "      <td>RPAKPOWEROUPGYPTDLT</td>\n",
       "      <td>ANZ</td>\n",
       "      <td>2013-06-10</td>\n",
       "      <td>2021-02-09</td>\n",
       "      <td>313</td>\n",
       "      <td>9.755590e+06</td>\n",
       "      <td>8418.789</td>\n",
       "      <td>612</td>\n",
       "      <td>1.720454e+07</td>\n",
       "      <td>13367.351</td>\n",
       "      <td>885</td>\n",
       "      <td>2.302472e+07</td>\n",
       "      <td>17623.700</td>\n",
       "      <td>D850E033-2361-4401-B5E8-A87D4874BB2F</td>\n",
       "      <td>2014-06-10</td>\n",
       "      <td>2021-09-22</td>\n",
       "      <td>ANZ</td>\n",
       "      <td>1</td>\n",
       "      <td>2</td>\n",
       "      <td>5</td>\n",
       "      <td>3000.000</td>\n",
       "      <td>6000.000</td>\n",
       "      <td>13800.000</td>\n",
       "      <td>70.032</td>\n",
       "      <td>140.109</td>\n",
       "      <td>324.562</td>\n",
       "    </tr>\n",
       "    <tr>\n",
       "      <th>202585</th>\n",
       "      <td>-3.453193</td>\n",
       "      <td>MdanHALERWHOLESCOYPTDLT</td>\n",
       "      <td>4E3C72E4-057A-4B13-817A-ACB81D14600D</td>\n",
       "      <td>MdanHALERWHOLESCOYPTDLT</td>\n",
       "      <td>ANZ</td>\n",
       "      <td>2019-07-11</td>\n",
       "      <td>2021-02-09</td>\n",
       "      <td>49</td>\n",
       "      <td>1.054990e+06</td>\n",
       "      <td>2157.704</td>\n",
       "      <td>77</td>\n",
       "      <td>1.436925e+06</td>\n",
       "      <td>2922.935</td>\n",
       "      <td>77</td>\n",
       "      <td>1.436925e+06</td>\n",
       "      <td>2922.935</td>\n",
       "      <td>4E3C72E4-057A-4B13-817A-ACB81D14600D</td>\n",
       "      <td>2019-07-03</td>\n",
       "      <td>2021-09-20</td>\n",
       "      <td>ANZ</td>\n",
       "      <td>1</td>\n",
       "      <td>1</td>\n",
       "      <td>3</td>\n",
       "      <td>600.000</td>\n",
       "      <td>600.000</td>\n",
       "      <td>2050.000</td>\n",
       "      <td>14.992</td>\n",
       "      <td>14.992</td>\n",
       "      <td>44.013</td>\n",
       "    </tr>\n",
       "    <tr>\n",
       "      <th>20102</th>\n",
       "      <td>-3.520336</td>\n",
       "      <td>A.R.B.roupGyPtdLt</td>\n",
       "      <td>D7F72E0C-AC38-4A72-AA67-F2FCB64E3749</td>\n",
       "      <td>A.R.B.roupGyPtdLt</td>\n",
       "      <td>ANZ</td>\n",
       "      <td>2009-09-24</td>\n",
       "      <td>2021-02-08</td>\n",
       "      <td>415</td>\n",
       "      <td>1.501833e+07</td>\n",
       "      <td>54254.326</td>\n",
       "      <td>724</td>\n",
       "      <td>2.549274e+07</td>\n",
       "      <td>85426.845</td>\n",
       "      <td>1051</td>\n",
       "      <td>3.625500e+07</td>\n",
       "      <td>117435.198</td>\n",
       "      <td>D7F72E0C-AC38-4A72-AA67-F2FCB64E3749</td>\n",
       "      <td>2010-02-09</td>\n",
       "      <td>2021-10-08</td>\n",
       "      <td>ANZ</td>\n",
       "      <td>2</td>\n",
       "      <td>3</td>\n",
       "      <td>3</td>\n",
       "      <td>50000.000</td>\n",
       "      <td>100000.000</td>\n",
       "      <td>100000.000</td>\n",
       "      <td>599.494</td>\n",
       "      <td>1243.500</td>\n",
       "      <td>1243.500</td>\n",
       "    </tr>\n",
       "    <tr>\n",
       "      <th>72854</th>\n",
       "      <td>-3.534721</td>\n",
       "      <td>lAlightBrdingBuilialsMateryPtdLt</td>\n",
       "      <td>33F4586D-B5FD-4E1C-B2A2-4BE106E8EA28</td>\n",
       "      <td>lAlightBrdingBuilialsMateryPtdLt</td>\n",
       "      <td>ANZ</td>\n",
       "      <td>2014-11-13</td>\n",
       "      <td>2021-02-09</td>\n",
       "      <td>103</td>\n",
       "      <td>2.135161e+06</td>\n",
       "      <td>12218.831</td>\n",
       "      <td>162</td>\n",
       "      <td>3.668373e+06</td>\n",
       "      <td>19468.678</td>\n",
       "      <td>252</td>\n",
       "      <td>6.202132e+06</td>\n",
       "      <td>32387.363</td>\n",
       "      <td>33F4586D-B5FD-4E1C-B2A2-4BE106E8EA28</td>\n",
       "      <td>2014-06-11</td>\n",
       "      <td>2021-02-09</td>\n",
       "      <td>ANZ</td>\n",
       "      <td>4</td>\n",
       "      <td>5</td>\n",
       "      <td>5</td>\n",
       "      <td>39600.000</td>\n",
       "      <td>49100.000</td>\n",
       "      <td>49100.000</td>\n",
       "      <td>594.295</td>\n",
       "      <td>738.205</td>\n",
       "      <td>738.205</td>\n",
       "    </tr>\n",
       "    <tr>\n",
       "      <th>22028</th>\n",
       "      <td>-3.594366</td>\n",
       "      <td>DaletersImporust)(AyPtdLt</td>\n",
       "      <td>95E1C2F1-A590-48A4-86C6-5485C0D5EF9A</td>\n",
       "      <td>DaletersImporust)(AyPtdLt</td>\n",
       "      <td>ANZ</td>\n",
       "      <td>2006-08-09</td>\n",
       "      <td>2021-02-01</td>\n",
       "      <td>74</td>\n",
       "      <td>1.284536e+06</td>\n",
       "      <td>5639.490</td>\n",
       "      <td>146</td>\n",
       "      <td>2.465596e+06</td>\n",
       "      <td>8130.903</td>\n",
       "      <td>230</td>\n",
       "      <td>3.794225e+06</td>\n",
       "      <td>10435.009</td>\n",
       "      <td>95E1C2F1-A590-48A4-86C6-5485C0D5EF9A</td>\n",
       "      <td>2010-09-08</td>\n",
       "      <td>2021-01-02</td>\n",
       "      <td>ANZ</td>\n",
       "      <td>1</td>\n",
       "      <td>1</td>\n",
       "      <td>1</td>\n",
       "      <td>5504.666</td>\n",
       "      <td>5504.666</td>\n",
       "      <td>5504.666</td>\n",
       "      <td>52.187</td>\n",
       "      <td>52.187</td>\n",
       "      <td>52.187</td>\n",
       "    </tr>\n",
       "  </tbody>\n",
       "</table>\n",
       "</div>"
      ],
      "text/plain": [
       "        best_match_score                         __id_left  \\\n",
       "20360          -3.411469               RPAKPOWEROUPGYPTDLT   \n",
       "202585         -3.453193           MdanHALERWHOLESCOYPTDLT   \n",
       "20102          -3.520336                 A.R.B.roupGyPtdLt   \n",
       "72854          -3.534721  lAlightBrdingBuilialsMateryPtdLt   \n",
       "22028          -3.594366         DaletersImporust)(AyPtdLt   \n",
       "\n",
       "                                  __id_right  \\\n",
       "20360   D850E033-2361-4401-B5E8-A87D4874BB2F   \n",
       "202585  4E3C72E4-057A-4B13-817A-ACB81D14600D   \n",
       "20102   D7F72E0C-AC38-4A72-AA67-F2FCB64E3749   \n",
       "72854   33F4586D-B5FD-4E1C-B2A2-4BE106E8EA28   \n",
       "22028   95E1C2F1-A590-48A4-86C6-5485C0D5EF9A   \n",
       "\n",
       "                   Customer_Company_Name Customer_Sub_Region      First  \\\n",
       "20360                RPAKPOWEROUPGYPTDLT                 ANZ 2013-06-10   \n",
       "202585           MdanHALERWHOLESCOYPTDLT                 ANZ 2019-07-11   \n",
       "20102                  A.R.B.roupGyPtdLt                 ANZ 2009-09-24   \n",
       "72854   lAlightBrdingBuilialsMateryPtdLt                 ANZ 2014-11-13   \n",
       "22028          DaletersImporust)(AyPtdLt                 ANZ 2006-08-09   \n",
       "\n",
       "        Last Deal  L12M Transaction Count_left  L12M Principal_left  \\\n",
       "20360  2021-02-09                          313         9.755590e+06   \n",
       "202585 2021-02-09                           49         1.054990e+06   \n",
       "20102  2021-02-08                          415         1.501833e+07   \n",
       "72854  2021-02-09                          103         2.135161e+06   \n",
       "22028  2021-02-01                           74         1.284536e+06   \n",
       "\n",
       "        L12M Revenue_left  L24M Transaction Count_left  L24M Principal_left  \\\n",
       "20360            8418.789                          612         1.720454e+07   \n",
       "202585           2157.704                           77         1.436925e+06   \n",
       "20102           54254.326                          724         2.549274e+07   \n",
       "72854           12218.831                          162         3.668373e+06   \n",
       "22028            5639.490                          146         2.465596e+06   \n",
       "\n",
       "        L24M Revenue_left  L36M Transaction Count_left  L36M Principal_left  \\\n",
       "20360           13367.351                          885         2.302472e+07   \n",
       "202585           2922.935                           77         1.436925e+06   \n",
       "20102           85426.845                         1051         3.625500e+07   \n",
       "72854           19468.678                          252         6.202132e+06   \n",
       "22028            8130.903                          230         3.794225e+06   \n",
       "\n",
       "        L36M Revenue_left                           customer_id  \\\n",
       "20360           17623.700  D850E033-2361-4401-B5E8-A87D4874BB2F   \n",
       "202585           2922.935  4E3C72E4-057A-4B13-817A-ACB81D14600D   \n",
       "20102          117435.198  D7F72E0C-AC38-4A72-AA67-F2FCB64E3749   \n",
       "72854           32387.363  33F4586D-B5FD-4E1C-B2A2-4BE106E8EA28   \n",
       "22028           10435.009  95E1C2F1-A590-48A4-86C6-5485C0D5EF9A   \n",
       "\n",
       "       customer_fiscal_start_date customer_last_txn_fiscal_date  \\\n",
       "20360                  2014-06-10                    2021-09-22   \n",
       "202585                 2019-07-03                    2021-09-20   \n",
       "20102                  2010-02-09                    2021-10-08   \n",
       "72854                  2014-06-11                    2021-02-09   \n",
       "22028                  2010-09-08                    2021-01-02   \n",
       "\n",
       "       s_customer_region_grouped  L12M Transaction Count_right  \\\n",
       "20360                        ANZ                             1   \n",
       "202585                       ANZ                             1   \n",
       "20102                        ANZ                             2   \n",
       "72854                        ANZ                             4   \n",
       "22028                        ANZ                             1   \n",
       "\n",
       "        L24M Transaction Count_right  L36M Transaction Count_right  \\\n",
       "20360                              2                             5   \n",
       "202585                             1                             3   \n",
       "20102                              3                             3   \n",
       "72854                              5                             5   \n",
       "22028                              1                             1   \n",
       "\n",
       "        L12M Principal_right  L24M Principal_right  L36M Principal_right  \\\n",
       "20360               3000.000              6000.000             13800.000   \n",
       "202585               600.000               600.000              2050.000   \n",
       "20102              50000.000            100000.000            100000.000   \n",
       "72854              39600.000             49100.000             49100.000   \n",
       "22028               5504.666              5504.666              5504.666   \n",
       "\n",
       "        L12M Revenue_right  L24M Revenue_right  L36M Revenue_right  \n",
       "20360               70.032             140.109             324.562  \n",
       "202585              14.992              14.992              44.013  \n",
       "20102              599.494            1243.500            1243.500  \n",
       "72854              594.295             738.205             738.205  \n",
       "22028               52.187              52.187              52.187  "
      ]
     },
     "execution_count": 120,
     "metadata": {},
     "output_type": "execute_result"
    }
   ],
   "source": [
    "matched_results.sort_values(by=['best_match_score'], ascending=False).tail()"
   ]
  },
  {
   "cell_type": "code",
   "execution_count": null,
   "metadata": {},
   "outputs": [],
   "source": []
  }
 ],
 "metadata": {
  "kernelspec": {
   "display_name": "Python 3",
   "language": "python",
   "name": "python3"
  },
  "language_info": {
   "codemirror_mode": {
    "name": "ipython",
    "version": 3
   },
   "file_extension": ".py",
   "mimetype": "text/x-python",
   "name": "python",
   "nbconvert_exporter": "python",
   "pygments_lexer": "ipython3",
   "version": "3.8.3"
  }
 },
 "nbformat": 4,
 "nbformat_minor": 4
}
